{
 "cells": [
  {
   "cell_type": "markdown",
   "metadata": {},
   "source": [
    "### Calculate DG83 index\n",
    "Method adapted from Pinheiro et al. (2019). This uses four thresholds to apply for the blocking criterea, which are applied in turn:\n",
    "    \n",
    "    AMPLITUDE - count the number of grid squares exceeding the var threshold (which may be -ve or +ve if one looks at the anomalies or not)\n",
    "    AREA - for each blocked region count the number of grid cells at each latitude and so calculate the total area of each blocked region\n",
    "    PERSISTENCE - measure how long the block persists for, and set a threshold for at least five days\n",
    "    OVERLAP - count the number of days over which the contours for the blocked region overlap\n",
    "\n",
    "If all of these criterea are met, then blocked_day = True. Else blocked_day = False.\n",
    "    \n",
    "These thresholds are applied to two datasets: 500hPa geopotentiel height anomalies, detrended wrt surface temperature (creating a measure similar to Dole and Gordon (1983)) and the seasonal anomaly of vertically averaged potential vorticity (similar to Schweirz (2004)).  The calculation of the anomaly fields and detrending has been done in a separate notebook, and uses ``cdo`` commands: https://code.mpimet.mpg.de/projects/cdo/embedded/cdo.pdf"
   ]
  },
  {
   "cell_type": "code",
   "execution_count": 1,
   "metadata": {},
   "outputs": [],
   "source": [
    "#import iris\n",
    "import netCDF4 as nc\n",
    "import xarray\n",
    "import numpy as np\n",
    "import scipy\n",
    "import glob\n",
    "import matplotlib.pyplot as plt\n",
    "#import PDF_funcs\n",
    "import cartopy.crs as ccrs\n",
    "from scipy import stats\n",
    "from itertools import groupby\n",
    "from operator import itemgetter\n",
    "#for mapping the polygon on a sphere to a polygon on a flat surface to calculate area\n",
    "import pyproj\n",
    "import math\n",
    "from shapely import geometry\n",
    "import collections\n",
    "from shapely.geometry import Point\n",
    "from matplotlib.path import Path\n",
    "import cartopy.crs as ccrs\n",
    "import matplotlib.pyplot as plt\n",
    "import xarray as xr"
   ]
  },
  {
   "cell_type": "code",
   "execution_count": 2,
   "metadata": {},
   "outputs": [],
   "source": [
    "S04=xr.open_dataset(\"/rds/general/user/cmt3718/home/data/reanal/S04/block_data/S04_clusters_era5_reanal_EUR_ssp585_JJAextd_1979-2019.nc\")['TM90_clusters']"
   ]
  },
  {
   "cell_type": "code",
   "execution_count": 3,
   "metadata": {},
   "outputs": [],
   "source": [
    "S04_ERA5 = xr.open_dataset(f\"/rds/general/user/cmt3718/home/data/reanal/S04/block_data/S04_clusters_fin_era5_reanal_EUR_JJAextd_1979-2019.nc\")['TM90_clusters']>0"
   ]
  },
  {
   "cell_type": "markdown",
   "metadata": {},
   "source": [
    "# 3. Apply the area threshold\n",
    "For both DG83 (500hPa geopotential height anomaly) and S04 (VPV anomaly).\n",
    "\n",
    "Define the relevant ``var_bool`` file depending on what one is calculating, and then the functions"
   ]
  },
  {
   "cell_type": "code",
   "execution_count": 4,
   "metadata": {},
   "outputs": [],
   "source": [
    "def len_iter(items):\n",
    "    return sum(1 for _ in items)\n",
    "\n",
    "def consecutive_one(data):\n",
    "    return max(len_iter(run) for val, run in groupby(data) if val)"
   ]
  },
  {
   "cell_type": "code",
   "execution_count": 5,
   "metadata": {},
   "outputs": [],
   "source": [
    "\n",
    "def test_centroid_pos(cluster, var_bool_blocked_idx, lat_centroid, lon_centroid):\n",
    "    \"\"\"\n",
    "    test centroid position\n",
    "    \"\"\"\n",
    "    if len([i for i, v in enumerate(cluster) if v[0] == lat_centroid and v[1] == lon_centroid]) == 1:\n",
    "        centroid_pos = ([i for i, v in enumerate(cluster) if v[0] == lat_centroid and v[1] == lon_centroid][0])\n",
    "        var_bool_blocked_idx[cluster[centroid_pos][0], cluster[centroid_pos][1]] = 2\n",
    "        return True\n",
    "    else:\n",
    "        return False\n",
    "\n",
    "def identify_centroid_within_cluster(lat_centroid, lon_centroid, cluster, var_bool_blocked_idx):\n",
    "    \"\"\"\n",
    "    Identify the location(s) of the centroid within the cluster\n",
    "    function contains exception handling for if the centroid position (identified using the median lat/lon values)\n",
    "    is not in the list\n",
    "    Note that this has been written for a grid resolution of 2x2 - other grid resolutions e.g. 2.5x2.5 might have errors\n",
    "    \"\"\"\n",
    "    try:\n",
    "        centroid_pos = ([i for i, v in enumerate(cluster) if v[0] == lat_centroid and v[1] == lon_centroid][0])\n",
    "        var_bool_blocked_idx[cluster[centroid_pos][0], cluster[centroid_pos][1]] = 2\n",
    "    except IndexError: #when the centroid_pos is not within the cluster (the median lat/lon value isn't part of the cluster)\n",
    "        #need to adjust lat_centroid and lon_centroid until the closest centre within the cluster is identified\n",
    "        centroid_not_found = True\n",
    "        while centroid_not_found:\n",
    "            for i in range(1,len(lat)):\n",
    "                #loop through all possible centroid locations starting out from the median location\n",
    "                #so that if there are two possible locations of the centroid within the cluster both are chosen\n",
    "                centroid_pos_found = test_centroid_pos(cluster, var_bool_blocked_idx, lat_centroid+i, lon_centroid) \n",
    "                centroid_pos_found = test_centroid_pos(cluster, var_bool_blocked_idx, lat_centroid-i, lon_centroid) \n",
    "                centroid_pos_found = test_centroid_pos(cluster, var_bool_blocked_idx, lat_centroid, lon_centroid+i) \n",
    "                centroid_pos_found = test_centroid_pos(cluster, var_bool_blocked_idx, lat_centroid, lon_centroid-i)\n",
    "                if centroid_pos_found:\n",
    "                    centroid_not_found = False #break loop here when the nearest neighbours have been checked\n",
    "                #if still not found, look at the edge tiles\n",
    "                centroid_pos_found = test_centroid_pos(cluster, var_bool_blocked_idx, lat_centroid+i, lon_centroid+i) \n",
    "                centroid_pos_found = test_centroid_pos(cluster, var_bool_blocked_idx, lat_centroid-i, lon_centroid-i) \n",
    "                centroid_pos_found = test_centroid_pos(cluster, var_bool_blocked_idx, lat_centroid-i, lon_centroid+i) \n",
    "                centroid_pos_found = test_centroid_pos(cluster, var_bool_blocked_idx, lat_centroid+i, lon_centroid-i)\n",
    "                if centroid_pos_found: #break loop here when the edge tiles have been checked before looping back through\n",
    "                    centroid_not_found = False                    \n",
    "                    \n",
    "                    \n"
   ]
  },
  {
   "cell_type": "code",
   "execution_count": 6,
   "metadata": {},
   "outputs": [],
   "source": [
    "#adapted from https://gis.stackexchange.com/questions/99917/converting-matplotlib-contour-objects-to-shapely-objects\n",
    "def find_nearest(array, value):\n",
    "    array = np.asarray(array)\n",
    "    idx = (np.abs(array - value)).argmin()\n",
    "    return idx+1\n",
    "\n",
    "def area_test(var_bool_samp, lat, lon, area_thresh, lon_corr, area_cell, time_val, i):\n",
    "    \"\"\"\n",
    "    Calculate the polygon shapes, determine the area for the blocked polygons and if there is a\n",
    "    blocked polygon identify whether or not it passes the area_thresh threshold\n",
    "    if so, then day is blocked\n",
    "    #Length of 1 degree of Longitude = cosine (latitude in decimal degrees) * length of degree (miles) at equator\n",
    "    #Each degree of latitude is approximately 69 miles (111 kilometers) apart\n",
    "    #The range varies (due to the earth's slightly ellipsoid shape) from 68.703 miles (110.567 km) at the equator to 69.407 (111.699 km) at the poles    \n",
    "    \"\"\"\n",
    "    blocked_day = 0\n",
    "    \n",
    "    #plt.pcolormesh(lon,lat,var_bool_samp)\n",
    "    #CS = plt.contour(lon,lat,var_bool)# corner_mask=True,interpolation='none')\n",
    "    #print(f\"var_bool.sum() = {var_bool.sum()}\")\n",
    "    #plt.close()\n",
    "    #plt.pcolormesh(lon,lat,var_bool)\n",
    "    #fig=plt.figure()\n",
    "    #plt.pcolormesh(lon,lat,var_bool)\n",
    "    var_bool_blocked_idx = np.zeros((len(lat),len(lon)))#use to identify blocked regions\n",
    "    cluster_num = 0\n",
    "\n",
    "    var_bool_blocked_idx=xarray.DataArray(var_bool_samp*0, name = \"TM90_clusters\", coords=var_bool_samp.coords)\n",
    "    #print(f\"var_bool_blocked_idx = {var_bool_blocked_idx}\")\n",
    "    #calculate all of the clusters for this time step\n",
    "    cluster_arr = calc_clusters(var_bool_samp, len(lat), len(lon))\n",
    "    #print(f\"var_bool_samp.sum() = {var_bool_samp.sum()}\")\n",
    "    for cluster in cluster_arr:\n",
    "        #calculate the area of different clusters by projecting the lat/lon values onto a boolean lat/lon grid area_cell grid\n",
    "        #and multiplying this by the area_cell grid to obtain the area\n",
    "        \n",
    "        #print(f\"cluster = {cluster}\")\n",
    "        var_bool_cluster = np.zeros((len(lat),len(lon)))\n",
    "        for lat_idx, lon_idx in cluster:\n",
    "            #print(f\"lat_idx, lon_idx = {lat_idx, lon_idx}\")\n",
    "            \n",
    "            var_bool_cluster[lat_idx,lon_idx] = 1\n",
    "        #fig = plt.figure()\n",
    "        #plt.pcolormesh(lon,lat,var_bool_cluster)            \n",
    "        #print(f\"var_bool_cluster = {var_bool_cluster}\")    \n",
    "        area_cell_sum=(area_cell*var_bool_cluster).sum().values\n",
    "        #plt.pcolormesh(lon,lat,area_cell) \n",
    "        #plt.colorbar()\n",
    "        #print(f\"var_bool_cluster.sum() = {var_bool_cluster.sum()}\")\n",
    "        #print(f\"area_cell_sum = {area_cell_sum} km^2\")\n",
    "        #print(f\"area_cell_sum_tot = {area_cell.sum().values} km^2\")\n",
    "        \n",
    "        #if this area > area_thresh, add the cluster to the 2D lat/lon grid for overlap calculation\n",
    "        if area_cell_sum > area_thresh:\n",
    "            #print(\"BLOCKED\")\n",
    "            #label day as blocked\n",
    "            cluster_num += 1\n",
    "            blocked_day = 1\n",
    "            for lat_idxs, lon_idxs in cluster:\n",
    "                var_bool_blocked_idx[lat_idxs,lon_idxs]=1\n",
    "            #label the centre lat, lon idx value with a 2\n",
    "            lats_arr, lons_arr = ([i[0] for i in cluster], [i[1] for i in cluster])\n",
    "            lat_centroid, lon_centroid = (np.median(lats_arr), np.median(lons_arr))\n",
    "            # if there isn't a value in the middle then set the two neighbouring middle indices to 2 (effectively blur the two centroids)\n",
    "            #otherwise there would be a bias to highlighting blicking in E/W or N/S directions\n",
    "            if lon_centroid%1 == 0 and lat_centroid%1 == 0:  \n",
    "                #print(lat_centroid, lon_centroid)\n",
    "                #print(cluster)\n",
    "                identify_centroid_within_cluster(lat_centroid, lon_centroid, cluster, var_bool_blocked_idx)\n",
    "            else: # if there isn't a value in the middle then set the two neighbouring middle indices to 2 (effectively blur the two centroids)\n",
    "                if lat_centroid%1 != 0:\n",
    "                    lat_centroid_arr = [lat_centroid-0.5, lat_centroid+0.5]\n",
    "                    lon_centroid_arr = [lon_centroid, lon_centroid]\n",
    "                if lon_centroid%1 != 0:\n",
    "                    lat_centroid_arr = [lat_centroid, lat_centroid]\n",
    "                    lon_centroid_arr = [lon_centroid-0.5, lon_centroid+0.5]\n",
    "                if lon_centroid%1 != 0 and lat_centroid%1 != 0:    #when no middle lat or lon - create a centroid blob containing 4 tiles\n",
    "                    lon_centroid_arr = [lon_centroid-0.5, lon_centroid+0.5, lon_centroid-0.5, lon_centroid+0.5]\n",
    "                    lat_centroid_arr = [lat_centroid-0.5, lat_centroid+0.5, lat_centroid+0.5, lat_centroid-0.5]\n",
    "                for lat_centroid, lon_centroid in zip(lat_centroid_arr, lon_centroid_arr):\n",
    "                    identify_centroid_within_cluster(lat_centroid, lon_centroid, cluster, var_bool_blocked_idx)\n",
    "            \n",
    "    return blocked_day, var_bool_blocked_idx, cluster_num"
   ]
  },
  {
   "cell_type": "code",
   "execution_count": 7,
   "metadata": {},
   "outputs": [],
   "source": [
    "#run cell for TM90 calculations\n",
    "TM902D_arr = sorted(glob.glob(\"/rds/general/user/cmt3718/home/data/cmip6/TM90_2D/*\"))\n",
    "TM902D_arr = [f\"/rds/general/user/cmt3718/home/data/UKESM1-0-LL_piControl/AGP/AGP_clusters_UKESM1-0-LL_r1i1p1f2_EUR_piControl_JJAextd_1960-2060.nc\"]\n",
    "lons_arr = [170-180,220-180]\n",
    "lats_arr = [30,76]\n",
    "domain = \"EUR\"\n",
    "grid_res = 2\n",
    "lat_str, lon_str = \"lat\", \"lon\"\n",
    "#xarray.open_dataset(\"/rds/general/user/cmt3718/home/data/cmip6/TM90_2D/TM902D_AWI-CM-1-1-MR_r1i1p1f1_EURATL_ssp585_JJAextd_2015-2100tot.nc\")['TM902D']\n",
    "#xarray.open_dataset(\"/rds/general/user/cmt3718/home/data/cmip6/TM90_2D/TM902D_AWI-CM-1-1-MR_r1i1p1f1_EURATL_ssp585_JJAextd_2015-2100tot.nc\")['TM902D']\n",
    "var_bool = xarray.open_dataset(TM902D_arr[0])['TM90_clusters'].sel(lon=np.arange(lons_arr[0],lons_arr[1]+grid_res,grid_res),\n",
    "                                                            lat=np.arange(lats_arr[0],lats_arr[1]+grid_res,grid_res))\n",
    "lat, lon = var_bool[lat_str], var_bool[lon_str]\n",
    "#these variables can be modified\n",
    "area_thresh = 1e6 # minimum blocked area in km^2\n",
    "# 1e6 km^2 is a reasonable minimum area since this is approximately the squared radius of a typical anticyclone (pg 10 of Hoskins & James)\n",
    "#grid_res = 1 #grid resolution\n",
    "#create a tuple of the lat/lon coordinates of the grid to test whether or not the grid cells exist within the point\n",
    "lats, lons = np.asarray(np.meshgrid(lat,lon))[0,:,:].flatten(), np.asarray(np.meshgrid(lat,lon))[1,:,:].flatten()\n",
    "grid_coords = list(zip(lats,lons-180))\n",
    "#rough minimum for the number of grid cells needed for a blocking event\n",
    "min_num_grid_cells=area_thresh*np.cos(np.radians(30))/(grid_res*grid_res*110*110) #0.25x0.25 grid x 110km (roughly 1/360 of Earth's circumference)\n",
    "#minimum proportion of grid cells to block\n",
    "prop_blocked_thresh = min_num_grid_cells/(len(lat)*len(lon))"
   ]
  },
  {
   "cell_type": "code",
   "execution_count": 8,
   "metadata": {},
   "outputs": [
    {
     "name": "stdout",
     "output_type": "stream",
     "text": [
      "clusters UKESM1-0-LL 1960 2060\n"
     ]
    }
   ],
   "source": [
    "\n",
    "#note that for this dataset this cell takes a long time (several minutes) to run\n",
    "var = \"500zg\"\n",
    "blocked_day_arr = np.zeros((len(var_bool['time'])))\n",
    "#save the block_arr_area and blocked_idx_vals files\n",
    "#this gives information about the index values that are blocked on that day, which will be used when applying the overlap threshold\n",
    "for TM902D_str in TM902D_arr[:1]:\n",
    "    var_bool = xarray.open_dataset(TM902D_str)['TM90_clusters'].sel(lon=np.arange(lons_arr[0],lons_arr[1]+grid_res,grid_res),\n",
    "                                                             lat=np.arange(lats_arr[0],lats_arr[1]+grid_res,grid_res))\n",
    "    time, lat, lon = var_bool['time'], var_bool[lat_str], var_bool[lon_str]    \n",
    "    lon_corr = [True if var_bool[lon_str].max() > 180 else False][0]\n",
    "    if lon_corr:\n",
    "        lon = lon - 180\n",
    "    mdl, ens, styr, endyr = TM902D_str.split(\"_\")[2], TM902D_str.split(\"_\")[3], TM902D_str.split(\"_\")[-1][:4], TM902D_str.split(\"_\")[-1][5:9]\n",
    "    #create a DataArray where each element corresponds to the area of that cell\n",
    "    area_cell=xr.DataArray(var_bool[0,:,:],name = \"grid_cell_area\")*0+1\n",
    "    area_cell[:,:] = area_cell[:,:]*(np.cos(np.radians(var_bool[lat_str][:]))*111*grid_res)*(111*grid_res)    \n",
    "    print(mdl,ens,styr,endyr)\n",
    "    var_bool_blocked_arr = []\n",
    "#     for i in range(time.shape[0]):\n",
    "#         if i%100 == 0:\n",
    "#             print(i)\n",
    "#         blocked_day_arr[i], var_bool_blocked, cluster_num = area_test(var_bool[i,:,:], lat, lon, area_thresh, lon_corr, area_cell, var_bool['time'][i], i)\n",
    "#         #fig = plt.figure()\n",
    "#         #plt.pcolormesh(lon,lat,var_bool_blocked)\n",
    "#         ##var_bool_samp, lat, lon, area_thresh, lon_corr, area_cell, time_val\n",
    "#         var_bool_blocked_arr.append(var_bool_blocked)\n",
    "#     var_bool_blocked_clusters = xarray.concat(var_bool_blocked_arr, dim='time')\n",
    "#     var_bool_blocked_clusters.to_netcdf(f\"/rds/general/user/cmt3718/home/data/cmip6/TM90_2D/block_data/TM90_clusters_{mdl}_{ens}_{domain}_ssp585_JJAextd_{styr}-{endyr}.nc\")\n",
    "    \n",
    "        \n",
    "# datasets = []\n",
    "# for example in examples:\n",
    "#     ds = create_an_xarray_dataset(example)\n",
    "#     datasets.append(ds)\n",
    "# combined = xarray.concat(datasets, dim='example')\n",
    "       # the block_data files saves the data for each day for the particular indices that are blocked\n",
    "        ##np.savetxt(f\"/rds/general/user/cmt3718/home/data/cmip6/TM90_2D/block_data/blocked_idx_vals/{var}_{mdl}_{ens}_{styr}_{endyr}_%05d.txt\"%i, var_bool_blocked[0])\n",
    "        #if blocked_day == 1:\n",
    "        #    blocked_day_arr[i] = 1\n",
    "\n",
    "#TM90_idx_xr = xarray.DataArray(blocked_day_arr, name = \"TM90_idx\", dims = (\"TM90_idx\"), coords=[('time', time)])       \n",
    "#TM90_idx_xr.to_netcdf(f\"/rds/general/user/cmt3718/home/data/cmip6/TM90_2D/block_data/TM902D_blockdata_{mdl}_{ens}_{domain}_ssp585_JJAextd_{styr}-{endyr}.nc\")\n"
   ]
  },
  {
   "cell_type": "markdown",
   "metadata": {},
   "source": [
    "# 4. Apply the persistence criterea\n",
    "This is defined and then applied both before and after the overlap criterea"
   ]
  },
  {
   "cell_type": "code",
   "execution_count": 9,
   "metadata": {},
   "outputs": [],
   "source": [
    "def search_sequence_numpy(arr,seq):\n",
    "    \"\"\" Find sequence in an array using NumPy only.\n",
    "\n",
    "    Parameters\n",
    "    ----------    \n",
    "    arr    : input 1D array\n",
    "    seq    : input 1D array\n",
    "\n",
    "    Output\n",
    "    ------    \n",
    "    Output : 1D Array of indices in the input array that satisfy the \n",
    "    matching of input sequence in the input array.\n",
    "    In case of no match, an empty list is returned.\n",
    "    from https://stackoverflow.com/questions/36522220/searching-a-sequence-in-a-numpy-array\n",
    "    \"\"\"\n",
    "\n",
    "    # Store sizes of input array and sequence\n",
    "    Na, Nseq = len(arr), len(seq)\n",
    "\n",
    "    # Range of sequence\n",
    "    r_seq = np.arange(Nseq)\n",
    "\n",
    "    # Create a 2D array of sliding indices across the entire length of input array.\n",
    "    # Match up with the input sequence & get the matching starting indices.\n",
    "    M = (arr[np.arange(Na-Nseq+1)[:,None] + r_seq] == seq).all(1)\n",
    "\n",
    "    # Get the range of those indices as final output\n",
    "    if M.any() >0:\n",
    "        return np.where(np.convolve(M,np.ones((Nseq),dtype=int))>0)[0]\n",
    "    else:\n",
    "        return []         # No match found\n"
   ]
  },
  {
   "cell_type": "markdown",
   "metadata": {},
   "source": [
    "# 5. Apply the overlap criterea"
   ]
  },
  {
   "cell_type": "code",
   "execution_count": 13,
   "metadata": {},
   "outputs": [],
   "source": [
    "\n",
    "def get_adjacent_indices(i, j, m, n):\n",
    "    \"\"\"\n",
    "    Obtain the adjacent indices where they can be found\n",
    "    uses the nearest neighbour\n",
    "    from https://stackoverflow.com/questions/51657128/how-to-access-the-adjacent-cells-of-each-elements-of-matrix-in-python/51657232\n",
    "    \"\"\"\n",
    "    adjacent_indices = []\n",
    "    if i > 0:\n",
    "        adjacent_indices.append((i-1,j))\n",
    "    if i+1 < m:\n",
    "        adjacent_indices.append((i+1,j))\n",
    "    if j > 0:\n",
    "        adjacent_indices.append((i,j-1))\n",
    "    if j+1 < n:\n",
    "        adjacent_indices.append((i,j+1))\n",
    "    return adjacent_indices\n",
    "\n",
    "def add_adjacent_idx_to_cluster(lat_idx, lon_idx, cluster, idx_vals, lat_lon_idx_vals, len_lat, len_lon):\n",
    "    \"\"\"\n",
    "    If not already in the cluster, add adjacent values to the cluster\n",
    "    \"\"\"\n",
    "    if ((lat_idx, lon_idx)) not in cluster:\n",
    "        #print(f\"{(lat_idx, lon_idx)} added to cluster\")\n",
    "        cluster.append((lat_idx, lon_idx))\n",
    "    adjacent_indices = get_adjacent_indices(lat_idx, lon_idx, len_lat, len_lon)\n",
    "    #print(f\"adjacent_indices = {adjacent_indices}\")\n",
    "    for adj_idx in adjacent_indices:\n",
    "        if adj_idx in lat_lon_idx_vals:\n",
    "            if adj_idx not in cluster:\n",
    "                #add the value and the adjacent values to the cluster\n",
    "                cluster.append(adj_idx)  \n",
    "                if adj_idx not in idx_vals:\n",
    "                    idx_vals.append(adj_idx) # these are the new index values that are going to be iterated over again\n",
    "\n",
    "    return idx_vals\n",
    "            \n",
    "def calc_clusters(var_bool, len_lat, len_lon):\n",
    "    \"\"\"\n",
    "    Returns a list of grouped clusters using the nearest neighbour\n",
    "    \"\"\"\n",
    "    lat_idx_vals, lon_idx_vals = np.where(var_bool > 0)\n",
    "    lat_lon_idx_vals = [(lat_idx, lon_idx) for lat_idx, lon_idx in zip(lat_idx_vals, lon_idx_vals)]\n",
    "    cluster, cluster_arr = [], []\n",
    "    #print(lat_lon_idx_vals)\n",
    "    for i in range(lon_idx_vals.shape[0]):\n",
    "        #print(i)\n",
    "        #need to find in the whole array if there are any matching index values that are adjacent and haven't already been put into the cluster\n",
    "        lat_idx, lon_idx = lat_lon_idx_vals[i]\n",
    "        #print(lat_idx, lon_idx)\n",
    "        if sum([(lat_idx, lon_idx) in cluster for cluster in cluster_arr]) == 0: #check if lat or lon index already in a cluster\n",
    "            cluster, idx_vals = [], []\n",
    "            idx_vals = add_adjacent_idx_to_cluster(lat_idx, lon_idx, cluster, idx_vals, lat_lon_idx_vals, len_lat, len_lon)\n",
    "            num_idx_vals = len(idx_vals) # number of idx vals in cluster not looped across yet\n",
    "            #print(f\"num_idx_vals = {num_idx_vals}\")\n",
    "            idx_vals_old, idx_vals_new = idx_vals.copy(), idx_vals.copy()\n",
    "            while (num_idx_vals > 0): # while there are still index values in the nearest neighbour\n",
    "                #loop through all the adjacent values that are also blocked\n",
    "                for lat_idx, lon_idx in (idx_vals_old):\n",
    "                    #for each adjacent value that is also blocked, identify the new index values\n",
    "                    idx_vals_new = add_adjacent_idx_to_cluster(lat_idx, lon_idx, cluster, idx_vals_new, lat_lon_idx_vals, len_lat, len_lon)\n",
    "                    #remove the idx_val that has been looped over from the list\n",
    "                    idx_vals_new.remove((lat_idx, lon_idx))                \n",
    "                idx_vals_old = idx_vals_new.copy()\n",
    "                #print(f\"num_idx_vlas = {len(idx_vals_old)}\")\n",
    "                num_idx_vals = len(idx_vals_old)\n",
    "                #if num_idx_vals == 0:\n",
    "                    #print(\"HERE\")\n",
    "                    #break\n",
    "            cluster_arr.append((cluster))\n",
    "        else:\n",
    "            pass #here if current index in loop is already in a cluster\n",
    "\n",
    "    return cluster_arr    \n",
    "    "
   ]
  },
  {
   "cell_type": "code",
   "execution_count": 14,
   "metadata": {},
   "outputs": [],
   "source": [
    "#to apply the persstence critereon, need to remove all events that don't persist over a period of five days\n",
    "#any sequence of 1,1,1,1,1 or more is fine, but 0,1,1,1,1,0 or less must be removed\n",
    "#sequences to be removed: 0,1,1,1,1,0; 0,1,1,1,0; 0,1,1,0; 0,1,0\n",
    "#note that Verdecchia et al (1996) add some criterea for blocking to be removed\n",
    "def persistence_criterea(block_vals_arr, JJA_days, var_bool_blocked_clusters, var_bool_blocked_str, persis_thresh=5):\n",
    "    \"\"\"\n",
    "    Apply the persistence criterea to a list of days which are blocked or not\n",
    "    by removing the sequences for days which are not blocked\n",
    "    persis_thresh is the minimum number of blocked days for the threshold (at least 2)\n",
    "    block_arr is an array of True/False days of blocking\n",
    "    No padding here - assuming that data is stored from 26th May - 6th September\n",
    "    \n",
    "    NB this function is only used for removing blocked days that are clearly isoalted in the period i.e. where 0% of grid cells are blocked for a period of less than five days\n",
    "    \n",
    "    This way of working means that the criterea are applied to the CLUSTERS and then whether or not a day is blocked is identified (over N/S/E/W Europe or across whole domain)\n",
    "    \"\"\"\n",
    "    #set the first day of each set to zero\n",
    "    block_arr_persis = block_vals_arr.values\n",
    "    block_arr_persis[0::JJA_days] = 0\n",
    "    var_bool_blocked_clusters[var_bool_blocked_str][0::JJA_days,:,:] = var_bool_blocked_clusters[var_bool_blocked_str][0::JJA_days,:,:]*0\n",
    "    block_arr_persis[-1] = 0 #make last day (6th Sep) also zero\n",
    "    var_bool_blocked_clusters[var_bool_blocked_str][-1,:,:] = 0\n",
    "    #blocking sequences to be removed\n",
    "    seq_arr = [[0,1,0], [0,1,1,0], [0,1,1,1,0], [0,1,1,1,1,0], [0,1,1,1,1,1,0]]\n",
    "    seq_to_remove_arr = seq_arr[:persis_thresh-1]\n",
    "    for seq in seq_to_remove_arr:\n",
    "        seq_idx=search_sequence_numpy(block_arr_persis,seq)\n",
    "        block_arr_persis[seq_idx] = 0\n",
    "        for idx in seq_idx:\n",
    "            var_bool_blocked_clusters[var_bool_blocked_str][idx,:,:] = 0      \n",
    "#     block_idx_xr_persis = xarray.Dataset(\n",
    "#     { block_idx_str: ((\"time\"), block_arr_persis)},\n",
    "#         coords={\"time\": block_idx_xr['time'].values}\n",
    "#      )\n",
    "    return block_arr_persis, var_bool_blocked_clusters"
   ]
  },
  {
   "cell_type": "code",
   "execution_count": 66,
   "metadata": {},
   "outputs": [],
   "source": [
    "AGP=xr.open_dataset(\"/rds/general/user/cmt3718/home/data/reanal/AGP/AGP_clusters_fin_UKESM1-0-LL_r1i1p1f2_piControl_EUR_JJAextd_1960-2060.nc\")['TM90_clusters']"
   ]
  },
  {
   "cell_type": "code",
   "execution_count": 67,
   "metadata": {},
   "outputs": [
    {
     "data": {
      "text/plain": [
       "<matplotlib.collections.QuadMesh at 0x153db1fe0208>"
      ]
     },
     "execution_count": 67,
     "metadata": {},
     "output_type": "execute_result"
    },
    {
     "data": {
      "image/png": "[encoded data removed]",
      "text/plain": [
       "<Figure size 432x288 with 2 Axes>"
      ]
     },
     "metadata": {
      "needs_background": "light"
     },
     "output_type": "display_data"
    }
   ],
   "source": [
    "AGP.mean(axis=0).plot()"
   ]
  },
  {
   "cell_type": "code",
   "execution_count": 15,
   "metadata": {},
   "outputs": [],
   "source": [
    "#potentially helpful: https://stackoverflow.com/questions/55641425/check-if-two-contours-intersect\n",
    "def overlap_persistence_clusters(var_cluster, var_cluster_str, lat_str, lon_str, persistence_thresh=5):\n",
    "    \"\"\"\n",
    "    Calculates the overlap and persistence criterea for each of the clusters\n",
    "    \"\"\"\n",
    "    #first remove all the instances where there are clearly isolated clusters\n",
    "    blocked_vals_arr = var_cluster.sum(dim=lat_str).sum(dim=lon_str)>0\n",
    "    JJA_days=int(var_cluster['time.dayofyear'].max()-var_cluster['time.dayofyear'].min())\n",
    "    #print(f\"before persis, blocked_vals_arr.sum(), var_blocked_clusters.sum() = {blocked_vals_arr.sum(), var_cluster.sum()}\")    \n",
    "    blocked_vals_arr, var_cluster = persistence_criterea(blocked_vals_arr[var_cluster_str], JJA_days, var_cluster, var_cluster_str)\n",
    "    #print(f\"after persis, blocked_vals_arr.sum(), var_blocked_clusters.sum() = {blocked_vals_arr.sum(), var_cluster.sum()}\") \n",
    "    len_time, len_lat, len_lon = var_cluster[var_cluster_str].shape[0], var_cluster[var_cluster_str].shape[1], var_cluster[var_cluster_str].shape[2]  \n",
    "\n",
    "    \n",
    "    #need to group clusters together that are matched and eliminate them if they don't last more than five days\n",
    "    #assign a means of uniquely identifying each cluster by labelling one of the points in the cluster with a unique number >2\n",
    "    #if this number doesn't persist for longer than persis_thresh, eliminate the cluster\n",
    "    \n",
    "    \n",
    "    #loop through each day\n",
    "    #identify the clusters for that particular day\n",
    "    #set for each cluster identified on that day\n",
    "    #see how long that cluster persists for\n",
    "    #by looking at the clusters in the next day in the dataset and so on until a cluster is identified which doesn't overlap with that cluster\n",
    "    #for each cluster that matches, store them in a new xarray\n",
    "    #if the number of days that that cluster persists over is greater than persis_thresh, input the time,lat,lon coords into the new xarray\n",
    "    #for each subseuqnt cluster, check if there is an overlap with the next day\n",
    "    #If there is an overlap with the next day AND that cluster is already stored in the new xarray\n",
    "    #then don't need to iterate over whole time series but add new points to new xarray\n",
    "    #this then mixes both the persistence and overlap criterea on a per cluster basis, but it may be very slow \n",
    "    #create two copies of var_blocked_clusters\n",
    "    var_cluster_indiv = var_cluster.copy()*0 # used to store clusters as they are tested to see  \n",
    "    var_cluster_indiv_next_day = var_cluster.copy()*0\n",
    "    var_cluster_indiv_sum = var_cluster.copy()*0\n",
    "    var_cluster_fin = var_cluster.copy()*0 # what the final clusters are added to\n",
    "    var_cluster_bool = ((var_cluster[var_cluster_str][:,:,:] > 0)+1-1) #set all centroids to 1 for overlap calculation (although should probably set the centroid calculation after this)\n",
    "    cluster_persis_vals_arr, cluster_persis_timestr_idx_arr = [], [] # store xarray datasets for each cluster's persistence and start date index\n",
    "    for i in range(len_time):\n",
    "    #range(0,20):# range(len_time):\n",
    "        #if i%100 == 0:\n",
    "        #    print(f\"i = {100*i/len_time}\")\n",
    "        #print(int(var_cluster[var_cluster_str][i,:,:].sum()))\n",
    "        if (var_cluster[var_cluster_str][i,:,:].sum()) > 0:\n",
    "            #print(f\"i = {i}\")\n",
    "            #identify the clusters for that particular day\n",
    "            cluster_arr = calc_clusters(var_cluster[var_cluster_str][i,:,:], len_lat, len_lon)\n",
    "            #for each cluster identified on that day, see how long that cluster persists for\n",
    "            for cluster in cluster_arr:\n",
    "                #to calculate the persistence for each blocking event, measure separately how persistent the cluster is\n",
    "                #and over what days the cluster is persisting\n",
    "                cluster_persis = 1 #counter for the number of days across which the cluster persists\n",
    "                clusters_merged = False # condition for if the current clsuter will merge with a cluster already saved\n",
    "                for lat_idx, lon_idx in cluster:\n",
    "                    #print(f\"lat_idx, lon_idx = {lat_idx, lon_idx}\")\n",
    "                    #add the cluster to the individual set of clusters\n",
    "                    var_cluster_indiv[var_cluster_str][i,lat_idx,lon_idx] = 1\n",
    "                #check if the day's cluster has already been added to the dataset    \n",
    "                #var_blocked_clusters_sum = (var_cluster_indiv[var_cluster_str][i,:,:]*var_cluster_fin[var_cluster_str][i,:,:]).sum()\n",
    "                overlap = True\n",
    "                #if (var_cluster_indiv[var_cluster_str][i,:,:]*var_cluster_fin[var_cluster_str][i,:,:]).sum() == 0: #if cluster has not yet been added to the dataset\n",
    "                while overlap:\n",
    "                    for j in range(0,JJA_days+1): # maximimum possible value is JJA_days since as above the edges of each year have been set to zero\n",
    "                        #print(f\"j = {j}\")\n",
    "                        #if (var_cluster[var_cluster_str][i+j+1,:,:].sum() == 0):\n",
    "                        #    print(\"next var_cluster = zero\")\n",
    "                        var_blocked_clusters_sum = var_cluster_indiv[var_cluster_str][i+j,:,:]*var_cluster[var_cluster_str][i+j+1,:,:]\n",
    "                        if (var_blocked_clusters_sum.sum() > 0): #current cluster overlaps with a cluster on the next day\n",
    "                            #print(\"current cluster overlaps with a cluster on the next day\")\n",
    "                            #calculate the cluster for the next day\n",
    "                            next_day_cluster_arr = calc_clusters(var_cluster[var_cluster_str][i+j+1,:,:], len_lat, len_lon)\n",
    "                            matching_cluster_found = False\n",
    "                            #identify which cluster of the next day matches the cluster of the previous day\n",
    "                            for next_day_cluster in next_day_cluster_arr:\n",
    "                                for lat_idx, lon_idx in next_day_cluster:\n",
    "                                    var_cluster_indiv_next_day[var_cluster_str][i+j+1,lat_idx,lon_idx] = 1\n",
    "                                var_blocked_clusters_sum = var_cluster_indiv[var_cluster_str][i+j,:,:]*var_cluster_indiv_next_day[var_cluster_str][i+j+1,:,:]\n",
    "                                if (var_blocked_clusters_sum.sum() != 0):\n",
    "                                    #current cluster within the clusters of the next day matches the cluster of the current day\n",
    "                                    #print(\"current cluster within the clusters of the next day matches the cluster of the current day\")\n",
    "                                    var_cluster_indiv[var_cluster_str][i+j+1,:,:]=var_cluster_indiv_next_day[var_cluster_str][i+j+1,:,:]\n",
    "                                    matching_cluster_found = True\n",
    "                                    cluster_persis += 1 #add one more day to the persistence of the cluster\n",
    "                                    break #can exit loop here since don't need to search through all subsequent clusters\n",
    "                            if matching_cluster_found:\n",
    "                                #check if the matching cluster that has been found for the next day is already a cluster that has been stored in the final set of clusters\n",
    "                                var_blocked_clusters_sum = var_cluster_indiv[var_cluster_str][i+j+1,:,:]*var_cluster_fin[var_cluster_str][i+j+1,:,:]\n",
    "                                if (var_blocked_clusters_sum.sum() != 0):\n",
    "                                    #in which case the cluster for the next day doesn't need to be added\n",
    "                                    #print(\"cluster for the next day doesn't need to be added\")\n",
    "                                    clusters_merged = True\n",
    "                                    #var_cluster_indiv[var_cluster_str][i+j+1,:,:] = var_cluster_indiv[var_cluster_str][i+j+1,:,:]*0\n",
    "                                    #but the loop can be exited and the cluster for the current day and persistence will still be added\n",
    "                                    #NB this means that you may find clusters which have lengths shorter than the persistence criterea\n",
    "                                    #since they have been joined to larger blocking events\n",
    "                                    #the alternative is to potentially double count one blocking event several times\n",
    "                                    #such events could be discarded from the final set of persistence criterea statistics                                    \n",
    "                                    overlap = False\n",
    "                                    break\n",
    "                            if matching_cluster_found == False:\n",
    "                                #print(\"no matching cluster was found with the next day, so there is no more overlap\")\n",
    "                                #no matching cluster was found with the next day, so there is no more overlap\n",
    "                                overlap = False\n",
    "                                break #need breaks here to exit out of the for loop and check the condition for the while loop\n",
    "                        else: #current cluster doesn't overlap with next cluster\n",
    "                            #print(\"current cluster doesn't overlap\")\n",
    "                            overlap = False\n",
    "                            break\n",
    "                        overlap = False\n",
    "\n",
    "                    #print(f\"cluster_persis = {cluster_persis}\")\n",
    "                    #print(f\"clusters_merged = {clusters_merged}\")\n",
    "                    if cluster_persis > persistence_thresh or clusters_merged:\n",
    "                        #if the cluster is longer than persistence or was merged into such a cluster, add to the final set\n",
    "                        #print(\"add to final set\")\n",
    "                        #var_cluster_indiv_add=var_cluster_indiv[var_cluster_str].where((var_cluster_indiv[var_cluster_str] > 0) | (var_cluster_fin[var_cluster_str] == 0))\n",
    "                        #print(var_cluster_indiv_add.sum())\n",
    "                        #print(var_cluster_indiv_add)\n",
    "                        #x.astype(int)\n",
    "                        #var_cluster_indiv_add_mult=(var_cluster_indiv_add.astype(\"float64\"))*var_cluster[var_cluster_str]\n",
    "                        #print(var_cluster_indiv[var_cluster_str]>0 and var_cluster_fin[var_cluster_str] == 0)\n",
    "                        #var_cluster_fin[var_cluster_str] += var_cluster_indiv_add.astype(\"float64\")*var_cluster[var_cluster_str] #multiply by original to obtain centroid points\n",
    "                        \n",
    "                        #var_cluster_fin[var_cluster_str]+=var_cluster_indiv[var_cluster_str]\n",
    "                        var_cluster_indiv_sum[var_cluster_str]+=var_cluster_indiv[var_cluster_str]\n",
    "                        #var_cluster_fin[var_cluster_str]+var_cluster_indiv_add_mult.astype(\"float64\")\n",
    "                        #((var_cluster_indiv[var_cluster_str]>0)+1-1)*var_cluster[var_cluster_str] #multiply by original to obtain centroid points\n",
    "                        \n",
    "                        #store the cluster start dates and persistence in another xarray\n",
    "                        #note that this will include blocking evenst that began late May or ended late July\n",
    "                        #when plotting persistence/max duration of summer blocking events such events could be included if desired\n",
    "                        #these could be included so that the max duration and persistence statistics are not unduly skewed\n",
    "                        #store day on which the cluster began\n",
    "                        cluster_persis_vals_arr.append(cluster_persis)\n",
    "                        cluster_persis_timestr_idx_arr.append(i)\n",
    "                    #set to zero to eliminate clusters already counted or clusters not persistent enough to be considered\n",
    "                    var_cluster_indiv[var_cluster_str] = var_cluster_indiv[var_cluster_str]*0\n",
    "    #cluster_persis_xr = xarray.concat(cluster_persis_arr, dim='time')\n",
    "    \n",
    "    var_cluster_fin[var_cluster_str] = ((var_cluster_indiv_sum[var_cluster_str]>0)+1-1)*var_cluster[var_cluster_str] #multiply by original to obtain centroid points\n",
    "    \n",
    "    if len(cluster_persis_vals_arr) > 0:\n",
    "        cluster_persis_arr_xr = xarray.Dataset(\n",
    "                        { \"cluster_persis\": cluster_persis_vals_arr},\n",
    "                           coords={\"time\": var_cluster['time'][cluster_persis_timestr_idx_arr]}\n",
    "                        )\n",
    "    else:\n",
    "        #no blocking has been identified for this period\n",
    "        cluster_persis_arr_xr = xarray.Dataset(\n",
    "                        { \"cluster_persis\": np.zeros((var_cluster['time'].shape[0]))},\n",
    "                           coords={\"time\": var_cluster['time']}\n",
    "                        )\n",
    "    return var_cluster_fin, cluster_persis_arr_xr\n",
    "    \n"
   ]
  },
  {
   "cell_type": "code",
   "execution_count": 17,
   "metadata": {},
   "outputs": [
    {
     "name": "stdout",
     "output_type": "stream",
     "text": [
      "1960\n",
      "1961\n",
      "1962\n",
      "1963\n",
      "1964\n",
      "1965\n",
      "1966\n",
      "1967\n",
      "1968\n",
      "1969\n",
      "1970\n",
      "1971\n",
      "1972\n",
      "1973\n",
      "1974\n",
      "1975\n",
      "1976\n",
      "1977\n",
      "1978\n",
      "1979\n",
      "1980\n",
      "1981\n",
      "1982\n",
      "1983\n",
      "1984\n",
      "1985\n",
      "1986\n",
      "1987\n",
      "1988\n",
      "1989\n",
      "1990\n",
      "1991\n",
      "1992\n",
      "1993\n",
      "1994\n",
      "1995\n",
      "1996\n",
      "1997\n",
      "1998\n",
      "1999\n",
      "2000\n",
      "2001\n",
      "2002\n",
      "2003\n",
      "2004\n",
      "2005\n",
      "2006\n",
      "2007\n",
      "2008\n",
      "2009\n",
      "2010\n",
      "2011\n",
      "2012\n",
      "2013\n",
      "2014\n",
      "2015\n",
      "2016\n",
      "2017\n",
      "2018\n",
      "2019\n",
      "2020\n",
      "2021\n",
      "2022\n",
      "2023\n",
      "2024\n",
      "2025\n",
      "2026\n",
      "2027\n",
      "2028\n",
      "2029\n",
      "2030\n",
      "2031\n",
      "2032\n",
      "2033\n",
      "2034\n",
      "2035\n",
      "2036\n",
      "2037\n",
      "2038\n",
      "2039\n",
      "2040\n",
      "2041\n",
      "2042\n",
      "2043\n",
      "2044\n",
      "2045\n",
      "2046\n",
      "2047\n",
      "2048\n",
      "2049\n",
      "2050\n",
      "2051\n",
      "2052\n",
      "2053\n",
      "2054\n",
      "2055\n",
      "2056\n",
      "2057\n",
      "2058\n",
      "2059\n",
      "2060\n"
     ]
    }
   ],
   "source": [
    "var_bool_blocked_clusters=xr.open_dataset('/rds/general/user/cmt3718/home/data/reanal/AGP/AGP_clusters_UKESM1-0-LL_r1i1p1f2_piControl_EUR_UKESM1-0-LL_JJAextd_new.nc')#['TM90_clusters']\n",
    "#(\"/rds/general/user/cmt3718/home/data/UKESM1-0-LL_piControl/DG83/DG83_clusters_UKESM1-0-LL_r1i1p1f2_piControl_EUR_ssp585_JJAextd_1960-2060.nc\")#['TM90_clusters']\n",
    "#xr.open_dataset(\"/rds/general/user/cmt3718/home/data/reanal/AGP/AGP_clusters_UKESM1-0-LL_r1i1p1f2_piControl_EUR_UKESM1-0-LL_JJAextd.nc\")\n",
    "#xr.open_dataset(\"/rds/general/user/cmt3718/home/data/reanal/AGP/AGP_clusters_data_day_EUR_era5_JJAextd.nc\")\n",
    "#xr.open_dataset(\"/rds/general/user/cmt3718/home/data/reanal/DG83/block_data/DG83_clusters_era5_reanal_EUR_ssp585_JJAextd_1979-2019.nc\")\n",
    "                                          #rds/general/user/cmt3718/home/data/reanal/S04/block_data/S04_clusters_era5_reanal_EUR_ssp585_JJAextd_1979-2019.nc#['TM90_clusters']\n",
    "#xarray.open_dataset(f\"/rds/general/user/cmt3718/home/data/UKESM1-0-LL_piControl/DG83/DG83_clusters_UKESM1-0-LL_r1i1p1f2_EUR_piControl_JJAextd_1960-2060.nc\")\n",
    "                                              \n",
    "var_bool_blocked_str = \"TM90_clusters\"\n",
    "lat_str, lon_str = \"lat\", \"lon\"\n",
    "#issues with 2011 and 2039 for UKESM AGP- probably these years don't have any blocked events observed?\n",
    "for year in range(1960,2061):\n",
    "    print(year)\n",
    "    var_bool_blocked_clusters_sel = var_bool_blocked_clusters.sel(time=np.isin(var_bool_blocked_clusters['time.year'], [year]))\n",
    "    #print(var_bool_blocked_clusters_sel.sum())\n",
    "    var_cluster_fin, cluster_persis = overlap_persistence_clusters(var_bool_blocked_clusters_sel, var_bool_blocked_str, lat_str, lon_str)\n",
    "    var_cluster_fin.to_netcdf(f\"/rds/general/user/cmt3718/home/data/AGP/AGP_clusters_fin_era5_reanal_piControl_EUR_JJAextd_{year}.nc\")\n",
    "#(f\"/rds/general/user/cmt3718/home/data/cmip6/TM90_2D/block_data/TM90_clusters_fin_AWI-CM-1-1-MR_r1i1p1f1_EUR_ssp585_JJAextd_2015-2100.nc\")\n",
    "    cluster_persis.to_netcdf(f\"/rds/general/user/cmt3718/home/data/AGP/AGP_clusters_persis_era5_reanal_piControl_EUR_JJAextd_{year}.nc\")\n",
    "#(f\"/rds/general/user/cmt3718/home/data/cmip6/TM90_2D/block_data/TM90_clusters_persis_AWI-CM-1-1-MR_r1i1p1f1_EUR_ssp585_JJAextd_2015-2100.nc\")"
   ]
  },
  {
   "cell_type": "code",
   "execution_count": 14,
   "metadata": {},
   "outputs": [],
   "source": [
    "DG83=xr.open_dataset(\"/rds/general/user/cmt3718/home/data/reanal/DG83/DG83_clusters_fin_UKESM1-0-LL_r1i1p1f2_piControl_EUR_JJAextd_1960-2060.nc\")['TM90_clusters']"
   ]
  },
  {
   "cell_type": "code",
   "execution_count": 16,
   "metadata": {},
   "outputs": [
    {
     "data": {
      "text/plain": [
       "<matplotlib.collections.QuadMesh at 0x2acb7f9c7160>"
      ]
     },
     "execution_count": 16,
     "metadata": {},
     "output_type": "execute_result"
    },
    {
     "data": {
      "image/png": "[encoded data removed]",
      "text/plain": [
       "<Figure size 432x288 with 2 Axes>"
      ]
     },
     "metadata": {
      "needs_background": "light"
     },
     "output_type": "display_data"
    }
   ],
   "source": [
    "DG83.mean(axis=0).plot()"
   ]
  },
  {
   "cell_type": "code",
   "execution_count": null,
   "metadata": {},
   "outputs": [],
   "source": [
    "\n",
    "cdo mergetime *AGP_clusters_persis*  AGP_clusters_persis_UKESM1-0-LL_r1i1p1f2_piControl_EUR_ssp585_JJAextd_1960-2060.nc\n",
    "\n",
    "AGP_clusters_persis_UKESM1-0-LL_r1i1p1f2_piControl_EUR_ssp585_JJAextd_1960-2060.nc\n",
    "\n",
    "cp AGP_clusters_UKESM1-0-LL_r1i1p1f2_piControl_EUR_UKESM1-0-LL_JJAextd_new.nc /rds/general/user/cmt3718/home/data/UKESM1-0-LL_piControl/AGP"
   ]
  },
  {
   "cell_type": "code",
   "execution_count": 31,
   "metadata": {},
   "outputs": [
    {
     "data": {
      "text/plain": [
       "<matplotlib.collections.QuadMesh at 0x153db241a5f8>"
      ]
     },
     "execution_count": 31,
     "metadata": {},
     "output_type": "execute_result"
    },
    {
     "data": {
      "image/png": "[encoded data removed]",
      "text/plain": [
       "<Figure size 432x288 with 2 Axes>"
      ]
     },
     "metadata": {
      "needs_background": "light"
     },
     "output_type": "display_data"
    }
   ],
   "source": [
    "var_cluster_fin['TM90_clusters'].mean(axis=0).plot()"
   ]
  },
  {
   "cell_type": "code",
   "execution_count": null,
   "metadata": {},
   "outputs": [],
   "source": []
  },
  {
   "cell_type": "code",
   "execution_count": null,
   "metadata": {},
   "outputs": [],
   "source": [
    "var_bool_blocked_clusters_str_arr=[\"/rds/general/user/cmt3718/home/data/cmip6/TM90_2D/block_data/TM90_clusters_BCC-CSM2-MR_r1i1p1f1_EUR_ssp585_JJAextd_1950-2100.nc\",\n",
    "\"/rds/general/user/cmt3718/home/data/cmip6/TM90_2D/block_data/TM90_clusters_BCC-ESM1_r1i1p1f1_EUR_ssp585_JJAextd_1950-2014.nc\",\n",
    "\"/rds/general/user/cmt3718/home/data/cmip6/TM90_2D/block_data/TM90_clusters_CESM2-FV2_r1i1p1f1_EUR_ssp585_JJAextd_1850-2000.nc\"]\n",
    "\n",
    "var_cluster_fin_str_arr=[\"/rds/general/user/cmt3718/home/data/cmip6/TM90_2D/block_data/TM90_clusters_fin_BCC-CSM2-MR_r1i1p1f1_EUR_ssp585_JJAextd_1950-2100.nc\",\n",
    "\"/rds/general/user/cmt3718/home/data/cmip6/TM90_2D/block_data/TM90_clusters_fin_BCC-ESM1_r1i1p1f1_EUR_ssp585_JJAextd_1950-2014.nc\",\n",
    "\"/rds/general/user/cmt3718/home/data/cmip6/TM90_2D/block_data/TM90_clusters_fin_CESM2-FV2_r1i1p1f1_EUR_ssp585_JJAextd_1850-2000.nc\"]\n",
    "\n",
    "var_cluster_persis_str_arr=[\"/rds/general/user/cmt3718/home/data/cmip6/TM90_2D/block_data/TM90_clusters_persis_BCC-CSM2-MR_r1i1p1f1_EUR_ssp585_JJAextd_1950-2100.nc\",\n",
    "\"/rds/general/user/cmt3718/home/data/cmip6/TM90_2D/block_data/TM90_clusters_persis_BCC-ESM1_r1i1p1f1_EUR_ssp585_JJAextd_1950-2014.nc\",\n",
    "\"/rds/general/user/cmt3718/home/data/cmip6/TM90_2D/block_data/TM90_clusters_persis_CESM2-FV2_r1i1p1f1_EUR_ssp585_JJAextd_1850-2000.nc\"]\n",
    "\n",
    "var_bool_blocked_str = \"TM90_clusters\"\n",
    "lat_str, lon_str = \"lat\", \"lon\"\n",
    "\n",
    "for var_bool_blocked_clusters_str, var_cluster_fin_str, var_cluster_persis_str in zip(var_bool_blocked_clusters_str_arr, var_cluster_fin_str_arr, var_cluster_persis_str_arr):\n",
    "    var_cluster_fin, cluster_persis = overlap_persistence_clusters(var_bool_blocked_clusters, var_bool_blocked_str, lat_str, lon_str)\n",
    "    var_cluster_fin.to_netcdf(var_cluster_fin_str)\n",
    "    cluster_persis.to_netcdf(var_cluster_persis_str)\n"
   ]
  },
  {
   "cell_type": "code",
   "execution_count": 23,
   "metadata": {},
   "outputs": [
    {
     "data": {
      "text/plain": [
       "<xarray.Dataset>\n",
       "Dimensions:        (latitude: 24, longitude: 26, time: 4264)\n",
       "Coordinates:\n",
       "  * latitude       (latitude) float32 30.0 32.0 34.0 36.0 ... 72.0 74.0 76.0\n",
       "  * longitude      (longitude) float32 170.0 172.0 174.0 ... 216.0 218.0 220.0\n",
       "  * time           (time) datetime64[ns] 1979-05-26T10:30:00 ... 2019-09-06T10:30:00\n",
       "Data variables:\n",
       "    TM90_clusters  (time, latitude, longitude) int64 ..."
      ]
     },
     "execution_count": 23,
     "metadata": {},
     "output_type": "execute_result"
    }
   ],
   "source": [
    "xr.open_dataset(\"/rds/general/user/cmt3718/home/data/reanal/TM90/block_data/overlap_persis/TM90_clusters_fin_reanal_EUR_EUR_ssp585_JJAextd_1979-2019.nc\")"
   ]
  },
  {
   "cell_type": "code",
   "execution_count": null,
   "metadata": {},
   "outputs": [],
   "source": [
    "/rds/general/user/cmt3718/home/data/reanal/TM90/block_data/overlap_persis/TM90_clusters_fin_reanal_EUR_EUR_ssp585_JJAextd_1979-2019.nc\n",
    "/rds/general/user/cmt3718/home/data/reanal/DG83/block_data/DG83_clusters_era5_reanal_EUR_ssp585_JJA_1979-2019.nc\n",
    "/rds/general/user/cmt3718/home/data/reanal/S04/block_data/S04_clusters_era5_reanal_EUR_rcp85_JJA_1979-2019_neg.nc"
   ]
  },
  {
   "cell_type": "code",
   "execution_count": 29,
   "metadata": {},
   "outputs": [],
   "source": [
    "    \n",
    "def sel_JJA_extd(da):\n",
    "    \"\"\"\n",
    "    Selects the JJA extd period +- 5 days.\n",
    "    \"\"\"\n",
    "    da_MJJAS=da.sel(time = np.isin(da['time.month'], np.arange(5,10)))\n",
    "    da_JJAextdS=da_MJJAS.sel(time=~(((da_MJJAS.time.dt.month == 5) & (da_MJJAS.time.dt.day < 28))))\n",
    "    da_JJAextd=da_JJAextdS.sel(time=~(((da_JJAextdS.time.dt.month == 9) & (da_JJAextdS.time.dt.day > 4))))\n",
    "    return da_JJAextd\n",
    "    "
   ]
  },
  {
   "cell_type": "code",
   "execution_count": 32,
   "metadata": {},
   "outputs": [],
   "source": [
    "def da_lon_adj(da):\n",
    "    \"\"\"\n",
    "    Reset the longitude coordinates if they are defined from 0-360 E to -180 - 180 E.\n",
    "    \"\"\"\n",
    "    #identify label for the longitude coordinate\n",
    "    if \"longitude\" in str(da.coords):\n",
    "        lon_str = \"longitude\"\n",
    "    else:\n",
    "        lon_str = \"lon\"\n",
    "    if int(da[lon_str].max()>180):\n",
    "        #calculate longitude resolution\n",
    "        lon_diff = abs(int(da[lon_str][1]-da[lon_str][0]))\n",
    "        #redefine 0-360 degrees E to -180 - +180 deg E\n",
    "        lon_adj = da[lon_str]*(da[lon_str]<(180+lon_diff/2))+((da[lon_str]-360)*(da[lon_str]>180))\n",
    "        da[lon_str] = lon_adj\n",
    "        # number of indices that lat idx should be mvoed by\n",
    "        if da[lon_str][0] == 0:\n",
    "            lat_idx_roll = int(len(da[lon_str])/2)\n",
    "        else:\n",
    "            print(\"ERROR - coordinate system doesn't start from 0 degrees east\")\n",
    "            return da\n",
    "    \n",
    "        if lon_str == \"lon\":\n",
    "            da_roll = da.roll(lon = lat_idx_roll, roll_coords=True)\n",
    "        if lon_str == \"longitude\":\n",
    "            da_roll = da.roll(longitude = lat_idx_roll, roll_coords=True)     \n",
    "        #check that the output longitude coordinates are in ascending order\n",
    "        if False not in np.array(da[lon_str].values == da[lon_str].sortby(lon_str, ascending=True).values):\n",
    "            return da_roll\n",
    "        else:\n",
    "            print(\"ERROR - longitude coordinates are not in ascending order\")\n",
    "            return da_roll\n",
    "    else:\n",
    "        return da"
   ]
  },
  {
   "cell_type": "code",
   "execution_count": 44,
   "metadata": {},
   "outputs": [],
   "source": [
    "S04=xarray.open_dataset(f\"/rds/general/project/nowack_graven/live/carl/pv_era5/vpv_1x1_150-500hPa_1979-2019_tot_daymean_hires_LTDManom_bool_neg_inv.nc\")#['__xarray_dataarray_variable__']\n",
    "\n",
    "#S04_JJAextd = sel_JJA_extd(S04)\n",
    "#S04_JJAextd_EUR = S04_JJAextd.sel(latitude=np.arange(30,77), longitude=np.arange(-10,41))"
   ]
  },
  {
   "cell_type": "code",
   "execution_count": 35,
   "metadata": {},
   "outputs": [],
   "source": [
    "S04_sel=da_lon_adj(S04)"
   ]
  },
  {
   "cell_type": "code",
   "execution_count": 39,
   "metadata": {},
   "outputs": [],
   "source": [
    "S04_seleur=S04_sel.sel(longitude=np.arange(-10,41), latitude=np.arange(30,77))"
   ]
  },
  {
   "cell_type": "code",
   "execution_count": 40,
   "metadata": {},
   "outputs": [],
   "source": [
    "S04_seleur_JJAextd = sel_JJA_extd(S04_seleur)"
   ]
  },
  {
   "cell_type": "code",
   "execution_count": 43,
   "metadata": {},
   "outputs": [
    {
     "data": {
      "text/plain": [
       "<xarray.DataArray '__xarray_dataarray_variable__' (time: 4100, latitude: 47, longitude: 51)>\n",
       "[9827700 values with dtype=bool]\n",
       "Coordinates:\n",
       "  * longitude  (longitude) float32 -10.0 -9.0 -8.0 -7.0 ... 37.0 38.0 39.0 40.0\n",
       "  * latitude   (latitude) float32 30.0 31.0 32.0 33.0 ... 73.0 74.0 75.0 76.0\n",
       "  * time       (time) datetime64[ns] 1979-05-28T10:30:00 ... 2019-09-04T10:30:00"
      ]
     },
     "execution_count": 43,
     "metadata": {},
     "output_type": "execute_result"
    }
   ],
   "source": [
    "S04_seleur_JJAextd"
   ]
  },
  {
   "cell_type": "code",
   "execution_count": 45,
   "metadata": {},
   "outputs": [],
   "source": []
  },
  {
   "cell_type": "code",
   "execution_count": 42,
   "metadata": {},
   "outputs": [
    {
     "ename": "ValueError",
     "evalue": "cannot rename '__xarray_dataarray_variable__' because it is not a variable or dimension in this dataset",
     "output_type": "error",
     "traceback": [
      "\u001b[0;31m---------------------------------------------------------------------------\u001b[0m",
      "\u001b[0;31mValueError\u001b[0m                                Traceback (most recent call last)",
      "\u001b[0;32m<ipython-input-42-d9bf7c753671>\u001b[0m in \u001b[0;36m<module>\u001b[0;34m\u001b[0m\n\u001b[0;32m----> 1\u001b[0;31m \u001b[0mS04_seleur_JJAextd_rn\u001b[0m \u001b[0;34m=\u001b[0m \u001b[0mS04_seleur_JJAextd\u001b[0m\u001b[0;34m.\u001b[0m\u001b[0mrename\u001b[0m\u001b[0;34m(\u001b[0m\u001b[0;34m{\u001b[0m\u001b[0;34m'__xarray_dataarray_variable__'\u001b[0m\u001b[0;34m:\u001b[0m \u001b[0;34m\"VPV\"\u001b[0m\u001b[0;34m}\u001b[0m\u001b[0;34m)\u001b[0m\u001b[0;34m\u001b[0m\u001b[0m\n\u001b[0m",
      "\u001b[0;32m/home/cmt3718/anaconda3/envs/odin/lib/python3.6/site-packages/xarray/core/dataarray.py\u001b[0m in \u001b[0;36mrename\u001b[0;34m(self, new_name_or_name_dict, **names)\u001b[0m\n\u001b[1;32m   1108\u001b[0m             name_dict = either_dict_or_kwargs(\n\u001b[1;32m   1109\u001b[0m                 new_name_or_name_dict, names, 'rename')\n\u001b[0;32m-> 1110\u001b[0;31m             \u001b[0mdataset\u001b[0m \u001b[0;34m=\u001b[0m \u001b[0mself\u001b[0m\u001b[0;34m.\u001b[0m\u001b[0m_to_temp_dataset\u001b[0m\u001b[0;34m(\u001b[0m\u001b[0;34m)\u001b[0m\u001b[0;34m.\u001b[0m\u001b[0mrename\u001b[0m\u001b[0;34m(\u001b[0m\u001b[0mname_dict\u001b[0m\u001b[0;34m)\u001b[0m\u001b[0;34m\u001b[0m\u001b[0m\n\u001b[0m\u001b[1;32m   1111\u001b[0m             \u001b[0;32mreturn\u001b[0m \u001b[0mself\u001b[0m\u001b[0;34m.\u001b[0m\u001b[0m_from_temp_dataset\u001b[0m\u001b[0;34m(\u001b[0m\u001b[0mdataset\u001b[0m\u001b[0;34m)\u001b[0m\u001b[0;34m\u001b[0m\u001b[0m\n\u001b[1;32m   1112\u001b[0m         \u001b[0;32melse\u001b[0m\u001b[0;34m:\u001b[0m\u001b[0;34m\u001b[0m\u001b[0m\n",
      "\u001b[0;32m/home/cmt3718/anaconda3/envs/odin/lib/python3.6/site-packages/xarray/core/dataset.py\u001b[0m in \u001b[0;36mrename\u001b[0;34m(self, name_dict, inplace, **names)\u001b[0m\n\u001b[1;32m   2274\u001b[0m             \u001b[0;32mif\u001b[0m \u001b[0mk\u001b[0m \u001b[0;32mnot\u001b[0m \u001b[0;32min\u001b[0m \u001b[0mself\u001b[0m \u001b[0;32mand\u001b[0m \u001b[0mk\u001b[0m \u001b[0;32mnot\u001b[0m \u001b[0;32min\u001b[0m \u001b[0mself\u001b[0m\u001b[0;34m.\u001b[0m\u001b[0mdims\u001b[0m\u001b[0;34m:\u001b[0m\u001b[0;34m\u001b[0m\u001b[0m\n\u001b[1;32m   2275\u001b[0m                 raise ValueError(\"cannot rename %r because it is not a \"\n\u001b[0;32m-> 2276\u001b[0;31m                                  \"variable or dimension in this dataset\" % k)\n\u001b[0m\u001b[1;32m   2277\u001b[0m \u001b[0;34m\u001b[0m\u001b[0m\n\u001b[1;32m   2278\u001b[0m         variables, coord_names, dims, indexes = self._rename_all(\n",
      "\u001b[0;31mValueError\u001b[0m: cannot rename '__xarray_dataarray_variable__' because it is not a variable or dimension in this dataset"
     ]
    }
   ],
   "source": [
    "S04_seleur_JJAextd_rn = S04_seleur_JJAextd.rename({'__xarray_dataarray_variable__': \"VPV\"})"
   ]
  },
  {
   "cell_type": "code",
   "execution_count": 22,
   "metadata": {},
   "outputs": [
    {
     "name": "stdout",
     "output_type": "stream",
     "text": [
      "i = 0.0\n"
     ]
    },
    {
     "ename": "KeyboardInterrupt",
     "evalue": "",
     "output_type": "error",
     "traceback": [
      "\u001b[0;31m---------------------------------------------------------------------------\u001b[0m",
      "\u001b[0;31mKeyboardInterrupt\u001b[0m                         Traceback (most recent call last)",
      "\u001b[0;32m<ipython-input-22-a1de1e22b40b>\u001b[0m in \u001b[0;36m<module>\u001b[0;34m\u001b[0m\n\u001b[1;32m      3\u001b[0m \u001b[0mvar_bool_blocked_str\u001b[0m \u001b[0;34m=\u001b[0m \u001b[0;34m\"TM90_clusters\"\u001b[0m\u001b[0;34m\u001b[0m\u001b[0m\n\u001b[1;32m      4\u001b[0m \u001b[0mlat_str\u001b[0m\u001b[0;34m,\u001b[0m \u001b[0mlon_str\u001b[0m \u001b[0;34m=\u001b[0m \u001b[0;34m\"latitude\"\u001b[0m\u001b[0;34m,\u001b[0m \u001b[0;34m\"longitude\"\u001b[0m\u001b[0;34m\u001b[0m\u001b[0m\n\u001b[0;32m----> 5\u001b[0;31m \u001b[0mvar_cluster_fin\u001b[0m\u001b[0;34m,\u001b[0m \u001b[0mcluster_persis\u001b[0m\u001b[0;34m=\u001b[0m\u001b[0moverlap_persistence_clusters\u001b[0m\u001b[0;34m(\u001b[0m\u001b[0mvar_bool_blocked_clusters\u001b[0m\u001b[0;34m,\u001b[0m \u001b[0mvar_bool_blocked_str\u001b[0m\u001b[0;34m,\u001b[0m \u001b[0mlat_str\u001b[0m\u001b[0;34m,\u001b[0m \u001b[0mlon_str\u001b[0m\u001b[0;34m)\u001b[0m\u001b[0;34m\u001b[0m\u001b[0m\n\u001b[0m\u001b[1;32m      6\u001b[0m \u001b[0;34m\u001b[0m\u001b[0m\n\u001b[1;32m      7\u001b[0m \u001b[0;34m\u001b[0m\u001b[0m\n",
      "\u001b[0;32m<ipython-input-10-8b96c3225917>\u001b[0m in \u001b[0;36moverlap_persistence_clusters\u001b[0;34m(var_cluster, var_cluster_str, lat_str, lon_str, persistence_thresh)\u001b[0m\n\u001b[1;32m     73\u001b[0m                             \u001b[0;32mfor\u001b[0m \u001b[0mnext_day_cluster\u001b[0m \u001b[0;32min\u001b[0m \u001b[0mnext_day_cluster_arr\u001b[0m\u001b[0;34m:\u001b[0m\u001b[0;34m\u001b[0m\u001b[0m\n\u001b[1;32m     74\u001b[0m                                 \u001b[0;32mfor\u001b[0m \u001b[0mlat_idx\u001b[0m\u001b[0;34m,\u001b[0m \u001b[0mlon_idx\u001b[0m \u001b[0;32min\u001b[0m \u001b[0mnext_day_cluster\u001b[0m\u001b[0;34m:\u001b[0m\u001b[0;34m\u001b[0m\u001b[0m\n\u001b[0;32m---> 75\u001b[0;31m                                     \u001b[0mvar_cluster_indiv_next_day\u001b[0m\u001b[0;34m[\u001b[0m\u001b[0mvar_cluster_str\u001b[0m\u001b[0;34m]\u001b[0m\u001b[0;34m[\u001b[0m\u001b[0mi\u001b[0m\u001b[0;34m+\u001b[0m\u001b[0mj\u001b[0m\u001b[0;34m+\u001b[0m\u001b[0;36m1\u001b[0m\u001b[0;34m,\u001b[0m\u001b[0mlat_idx\u001b[0m\u001b[0;34m,\u001b[0m\u001b[0mlon_idx\u001b[0m\u001b[0;34m]\u001b[0m \u001b[0;34m=\u001b[0m \u001b[0;36m1\u001b[0m\u001b[0;34m\u001b[0m\u001b[0m\n\u001b[0m\u001b[1;32m     76\u001b[0m                                 \u001b[0mvar_blocked_clusters_sum\u001b[0m \u001b[0;34m=\u001b[0m \u001b[0mvar_cluster_indiv\u001b[0m\u001b[0;34m[\u001b[0m\u001b[0mvar_cluster_str\u001b[0m\u001b[0;34m]\u001b[0m\u001b[0;34m[\u001b[0m\u001b[0mi\u001b[0m\u001b[0;34m+\u001b[0m\u001b[0mj\u001b[0m\u001b[0;34m,\u001b[0m\u001b[0;34m:\u001b[0m\u001b[0;34m,\u001b[0m\u001b[0;34m:\u001b[0m\u001b[0;34m]\u001b[0m\u001b[0;34m*\u001b[0m\u001b[0mvar_cluster_indiv_next_day\u001b[0m\u001b[0;34m[\u001b[0m\u001b[0mvar_cluster_str\u001b[0m\u001b[0;34m]\u001b[0m\u001b[0;34m[\u001b[0m\u001b[0mi\u001b[0m\u001b[0;34m+\u001b[0m\u001b[0mj\u001b[0m\u001b[0;34m+\u001b[0m\u001b[0;36m1\u001b[0m\u001b[0;34m,\u001b[0m\u001b[0;34m:\u001b[0m\u001b[0;34m,\u001b[0m\u001b[0;34m:\u001b[0m\u001b[0;34m]\u001b[0m\u001b[0;34m\u001b[0m\u001b[0m\n\u001b[1;32m     77\u001b[0m                                 \u001b[0;32mif\u001b[0m \u001b[0;34m(\u001b[0m\u001b[0mvar_blocked_clusters_sum\u001b[0m\u001b[0;34m.\u001b[0m\u001b[0msum\u001b[0m\u001b[0;34m(\u001b[0m\u001b[0;34m)\u001b[0m \u001b[0;34m!=\u001b[0m \u001b[0;36m0\u001b[0m\u001b[0;34m)\u001b[0m\u001b[0;34m:\u001b[0m\u001b[0;34m\u001b[0m\u001b[0m\n",
      "\u001b[0;32m/home/cmt3718/anaconda3/envs/odin/lib/python3.6/site-packages/xarray/core/dataarray.py\u001b[0m in \u001b[0;36m__setitem__\u001b[0;34m(self, key, value)\u001b[0m\n\u001b[1;32m    486\u001b[0m             \u001b[0;31m# TODO Coordinate consistency in key is checked here, but it\u001b[0m\u001b[0;34m\u001b[0m\u001b[0;34m\u001b[0m\u001b[0m\n\u001b[1;32m    487\u001b[0m             \u001b[0;31m# causes unnecessary indexing. It should be optimized.\u001b[0m\u001b[0;34m\u001b[0m\u001b[0;34m\u001b[0m\u001b[0m\n\u001b[0;32m--> 488\u001b[0;31m             \u001b[0mobj\u001b[0m \u001b[0;34m=\u001b[0m \u001b[0mself\u001b[0m\u001b[0;34m[\u001b[0m\u001b[0mkey\u001b[0m\u001b[0;34m]\u001b[0m\u001b[0;34m\u001b[0m\u001b[0m\n\u001b[0m\u001b[1;32m    489\u001b[0m             \u001b[0;32mif\u001b[0m \u001b[0misinstance\u001b[0m\u001b[0;34m(\u001b[0m\u001b[0mvalue\u001b[0m\u001b[0;34m,\u001b[0m \u001b[0mDataArray\u001b[0m\u001b[0;34m)\u001b[0m\u001b[0;34m:\u001b[0m\u001b[0;34m\u001b[0m\u001b[0m\n\u001b[1;32m    490\u001b[0m                 \u001b[0massert_coordinate_consistent\u001b[0m\u001b[0;34m(\u001b[0m\u001b[0mvalue\u001b[0m\u001b[0;34m,\u001b[0m \u001b[0mobj\u001b[0m\u001b[0;34m.\u001b[0m\u001b[0mcoords\u001b[0m\u001b[0;34m.\u001b[0m\u001b[0mvariables\u001b[0m\u001b[0;34m)\u001b[0m\u001b[0;34m\u001b[0m\u001b[0m\n",
      "\u001b[0;32m/home/cmt3718/anaconda3/envs/odin/lib/python3.6/site-packages/xarray/core/dataarray.py\u001b[0m in \u001b[0;36m__getitem__\u001b[0;34m(self, key)\u001b[0m\n\u001b[1;32m    477\u001b[0m         \u001b[0;32melse\u001b[0m\u001b[0;34m:\u001b[0m\u001b[0;34m\u001b[0m\u001b[0m\n\u001b[1;32m    478\u001b[0m             \u001b[0;31m# xarray-style array indexing\u001b[0m\u001b[0;34m\u001b[0m\u001b[0;34m\u001b[0m\u001b[0m\n\u001b[0;32m--> 479\u001b[0;31m             \u001b[0;32mreturn\u001b[0m \u001b[0mself\u001b[0m\u001b[0;34m.\u001b[0m\u001b[0misel\u001b[0m\u001b[0;34m(\u001b[0m\u001b[0mindexers\u001b[0m\u001b[0;34m=\u001b[0m\u001b[0mself\u001b[0m\u001b[0;34m.\u001b[0m\u001b[0m_item_key_to_dict\u001b[0m\u001b[0;34m(\u001b[0m\u001b[0mkey\u001b[0m\u001b[0;34m)\u001b[0m\u001b[0;34m)\u001b[0m\u001b[0;34m\u001b[0m\u001b[0m\n\u001b[0m\u001b[1;32m    480\u001b[0m \u001b[0;34m\u001b[0m\u001b[0m\n\u001b[1;32m    481\u001b[0m     \u001b[0;32mdef\u001b[0m \u001b[0m__setitem__\u001b[0m\u001b[0;34m(\u001b[0m\u001b[0mself\u001b[0m\u001b[0;34m,\u001b[0m \u001b[0mkey\u001b[0m\u001b[0;34m,\u001b[0m \u001b[0mvalue\u001b[0m\u001b[0;34m)\u001b[0m\u001b[0;34m:\u001b[0m\u001b[0;34m\u001b[0m\u001b[0m\n",
      "\u001b[0;32m/home/cmt3718/anaconda3/envs/odin/lib/python3.6/site-packages/xarray/core/dataarray.py\u001b[0m in \u001b[0;36misel\u001b[0;34m(self, indexers, drop, **indexers_kwargs)\u001b[0m\n\u001b[1;32m    825\u001b[0m         \"\"\"\n\u001b[1;32m    826\u001b[0m         \u001b[0mindexers\u001b[0m \u001b[0;34m=\u001b[0m \u001b[0meither_dict_or_kwargs\u001b[0m\u001b[0;34m(\u001b[0m\u001b[0mindexers\u001b[0m\u001b[0;34m,\u001b[0m \u001b[0mindexers_kwargs\u001b[0m\u001b[0;34m,\u001b[0m \u001b[0;34m'isel'\u001b[0m\u001b[0;34m)\u001b[0m\u001b[0;34m\u001b[0m\u001b[0m\n\u001b[0;32m--> 827\u001b[0;31m         \u001b[0mds\u001b[0m \u001b[0;34m=\u001b[0m \u001b[0mself\u001b[0m\u001b[0;34m.\u001b[0m\u001b[0m_to_temp_dataset\u001b[0m\u001b[0;34m(\u001b[0m\u001b[0;34m)\u001b[0m\u001b[0;34m.\u001b[0m\u001b[0misel\u001b[0m\u001b[0;34m(\u001b[0m\u001b[0mdrop\u001b[0m\u001b[0;34m=\u001b[0m\u001b[0mdrop\u001b[0m\u001b[0;34m,\u001b[0m \u001b[0mindexers\u001b[0m\u001b[0;34m=\u001b[0m\u001b[0mindexers\u001b[0m\u001b[0;34m)\u001b[0m\u001b[0;34m\u001b[0m\u001b[0m\n\u001b[0m\u001b[1;32m    828\u001b[0m         \u001b[0;32mreturn\u001b[0m \u001b[0mself\u001b[0m\u001b[0;34m.\u001b[0m\u001b[0m_from_temp_dataset\u001b[0m\u001b[0;34m(\u001b[0m\u001b[0mds\u001b[0m\u001b[0;34m)\u001b[0m\u001b[0;34m\u001b[0m\u001b[0m\n\u001b[1;32m    829\u001b[0m \u001b[0;34m\u001b[0m\u001b[0m\n",
      "\u001b[0;32m/home/cmt3718/anaconda3/envs/odin/lib/python3.6/site-packages/xarray/core/dataset.py\u001b[0m in \u001b[0;36misel\u001b[0;34m(self, indexers, drop, **indexers_kwargs)\u001b[0m\n\u001b[1;32m   1640\u001b[0m             \u001b[0;32mif\u001b[0m \u001b[0mname\u001b[0m \u001b[0;32min\u001b[0m \u001b[0mself\u001b[0m\u001b[0;34m.\u001b[0m\u001b[0mindexes\u001b[0m\u001b[0;34m:\u001b[0m\u001b[0;34m\u001b[0m\u001b[0m\n\u001b[1;32m   1641\u001b[0m                 new_var, new_index = isel_variable_and_index(\n\u001b[0;32m-> 1642\u001b[0;31m                     name, var, self.indexes[name], var_indexers)\n\u001b[0m\u001b[1;32m   1643\u001b[0m                 \u001b[0;32mif\u001b[0m \u001b[0mnew_index\u001b[0m \u001b[0;32mis\u001b[0m \u001b[0;32mnot\u001b[0m \u001b[0;32mNone\u001b[0m\u001b[0;34m:\u001b[0m\u001b[0;34m\u001b[0m\u001b[0m\n\u001b[1;32m   1644\u001b[0m                     \u001b[0mindexes\u001b[0m\u001b[0;34m[\u001b[0m\u001b[0mname\u001b[0m\u001b[0;34m]\u001b[0m \u001b[0;34m=\u001b[0m \u001b[0mnew_index\u001b[0m\u001b[0;34m\u001b[0m\u001b[0m\n",
      "\u001b[0;32m/home/cmt3718/anaconda3/envs/odin/lib/python3.6/site-packages/xarray/core/indexes.py\u001b[0m in \u001b[0;36misel_variable_and_index\u001b[0;34m(name, variable, index, indexers)\u001b[0m\n\u001b[1;32m     75\u001b[0m             'supported yet')\n\u001b[1;32m     76\u001b[0m \u001b[0;34m\u001b[0m\u001b[0m\n\u001b[0;32m---> 77\u001b[0;31m     \u001b[0mnew_variable\u001b[0m \u001b[0;34m=\u001b[0m \u001b[0mvariable\u001b[0m\u001b[0;34m.\u001b[0m\u001b[0misel\u001b[0m\u001b[0;34m(\u001b[0m\u001b[0mindexers\u001b[0m\u001b[0;34m)\u001b[0m\u001b[0;34m\u001b[0m\u001b[0m\n\u001b[0m\u001b[1;32m     78\u001b[0m \u001b[0;34m\u001b[0m\u001b[0m\n\u001b[1;32m     79\u001b[0m     \u001b[0;32mif\u001b[0m \u001b[0mnew_variable\u001b[0m\u001b[0;34m.\u001b[0m\u001b[0mdims\u001b[0m \u001b[0;34m!=\u001b[0m \u001b[0;34m(\u001b[0m\u001b[0mname\u001b[0m\u001b[0;34m,\u001b[0m\u001b[0;34m)\u001b[0m\u001b[0;34m:\u001b[0m\u001b[0;34m\u001b[0m\u001b[0m\n",
      "\u001b[0;32m/home/cmt3718/anaconda3/envs/odin/lib/python3.6/site-packages/xarray/core/variable.py\u001b[0m in \u001b[0;36misel\u001b[0;34m(self, indexers, drop, **indexers_kwargs)\u001b[0m\n\u001b[1;32m    925\u001b[0m             \u001b[0;32mif\u001b[0m \u001b[0mdim\u001b[0m \u001b[0;32min\u001b[0m \u001b[0mindexers\u001b[0m\u001b[0;34m:\u001b[0m\u001b[0;34m\u001b[0m\u001b[0m\n\u001b[1;32m    926\u001b[0m                 \u001b[0mkey\u001b[0m\u001b[0;34m[\u001b[0m\u001b[0mi\u001b[0m\u001b[0;34m]\u001b[0m \u001b[0;34m=\u001b[0m \u001b[0mindexers\u001b[0m\u001b[0;34m[\u001b[0m\u001b[0mdim\u001b[0m\u001b[0;34m]\u001b[0m\u001b[0;34m\u001b[0m\u001b[0m\n\u001b[0;32m--> 927\u001b[0;31m         \u001b[0;32mreturn\u001b[0m \u001b[0mself\u001b[0m\u001b[0;34m[\u001b[0m\u001b[0mtuple\u001b[0m\u001b[0;34m(\u001b[0m\u001b[0mkey\u001b[0m\u001b[0;34m)\u001b[0m\u001b[0;34m]\u001b[0m\u001b[0;34m\u001b[0m\u001b[0m\n\u001b[0m\u001b[1;32m    928\u001b[0m \u001b[0;34m\u001b[0m\u001b[0m\n\u001b[1;32m    929\u001b[0m     \u001b[0;32mdef\u001b[0m \u001b[0msqueeze\u001b[0m\u001b[0;34m(\u001b[0m\u001b[0mself\u001b[0m\u001b[0;34m,\u001b[0m \u001b[0mdim\u001b[0m\u001b[0;34m=\u001b[0m\u001b[0;32mNone\u001b[0m\u001b[0;34m)\u001b[0m\u001b[0;34m:\u001b[0m\u001b[0;34m\u001b[0m\u001b[0m\n",
      "\u001b[0;32m/home/cmt3718/anaconda3/envs/odin/lib/python3.6/site-packages/xarray/core/variable.py\u001b[0m in \u001b[0;36m__getitem__\u001b[0;34m(self, key)\u001b[0m\n\u001b[1;32m    637\u001b[0m         \u001b[0;32mif\u001b[0m \u001b[0mnew_order\u001b[0m\u001b[0;34m:\u001b[0m\u001b[0;34m\u001b[0m\u001b[0m\n\u001b[1;32m    638\u001b[0m             \u001b[0mdata\u001b[0m \u001b[0;34m=\u001b[0m \u001b[0mnp\u001b[0m\u001b[0;34m.\u001b[0m\u001b[0mmoveaxis\u001b[0m\u001b[0;34m(\u001b[0m\u001b[0mdata\u001b[0m\u001b[0;34m,\u001b[0m \u001b[0mrange\u001b[0m\u001b[0;34m(\u001b[0m\u001b[0mlen\u001b[0m\u001b[0;34m(\u001b[0m\u001b[0mnew_order\u001b[0m\u001b[0;34m)\u001b[0m\u001b[0;34m)\u001b[0m\u001b[0;34m,\u001b[0m \u001b[0mnew_order\u001b[0m\u001b[0;34m)\u001b[0m\u001b[0;34m\u001b[0m\u001b[0m\n\u001b[0;32m--> 639\u001b[0;31m         \u001b[0;32mreturn\u001b[0m \u001b[0mself\u001b[0m\u001b[0;34m.\u001b[0m\u001b[0m_finalize_indexing_result\u001b[0m\u001b[0;34m(\u001b[0m\u001b[0mdims\u001b[0m\u001b[0;34m,\u001b[0m \u001b[0mdata\u001b[0m\u001b[0;34m)\u001b[0m\u001b[0;34m\u001b[0m\u001b[0m\n\u001b[0m\u001b[1;32m    640\u001b[0m \u001b[0;34m\u001b[0m\u001b[0m\n\u001b[1;32m    641\u001b[0m     \u001b[0;32mdef\u001b[0m \u001b[0m_finalize_indexing_result\u001b[0m\u001b[0;34m(\u001b[0m\u001b[0mself\u001b[0m\u001b[0;34m,\u001b[0m \u001b[0mdims\u001b[0m\u001b[0;34m,\u001b[0m \u001b[0mdata\u001b[0m\u001b[0;34m)\u001b[0m\u001b[0;34m:\u001b[0m\u001b[0;34m\u001b[0m\u001b[0m\n",
      "\u001b[0;32m/home/cmt3718/anaconda3/envs/odin/lib/python3.6/site-packages/xarray/core/variable.py\u001b[0m in \u001b[0;36m_finalize_indexing_result\u001b[0;34m(self, dims, data)\u001b[0m\n\u001b[1;32m   1843\u001b[0m         \u001b[0;32mif\u001b[0m \u001b[0mgetattr\u001b[0m\u001b[0;34m(\u001b[0m\u001b[0mdata\u001b[0m\u001b[0;34m,\u001b[0m \u001b[0;34m'ndim'\u001b[0m\u001b[0;34m,\u001b[0m \u001b[0;36m0\u001b[0m\u001b[0;34m)\u001b[0m \u001b[0;34m!=\u001b[0m \u001b[0;36m1\u001b[0m\u001b[0;34m:\u001b[0m\u001b[0;34m\u001b[0m\u001b[0m\n\u001b[1;32m   1844\u001b[0m             \u001b[0;31m# returns Variable rather than IndexVariable if multi-dimensional\u001b[0m\u001b[0;34m\u001b[0m\u001b[0;34m\u001b[0m\u001b[0m\n\u001b[0;32m-> 1845\u001b[0;31m             \u001b[0;32mreturn\u001b[0m \u001b[0mVariable\u001b[0m\u001b[0;34m(\u001b[0m\u001b[0mdims\u001b[0m\u001b[0;34m,\u001b[0m \u001b[0mdata\u001b[0m\u001b[0;34m,\u001b[0m \u001b[0mself\u001b[0m\u001b[0;34m.\u001b[0m\u001b[0m_attrs\u001b[0m\u001b[0;34m,\u001b[0m \u001b[0mself\u001b[0m\u001b[0;34m.\u001b[0m\u001b[0m_encoding\u001b[0m\u001b[0;34m)\u001b[0m\u001b[0;34m\u001b[0m\u001b[0m\n\u001b[0m\u001b[1;32m   1846\u001b[0m         \u001b[0;32melse\u001b[0m\u001b[0;34m:\u001b[0m\u001b[0;34m\u001b[0m\u001b[0m\n\u001b[1;32m   1847\u001b[0m             return type(self)(dims, data, self._attrs,\n",
      "\u001b[0;32m/home/cmt3718/anaconda3/envs/odin/lib/python3.6/site-packages/xarray/core/variable.py\u001b[0m in \u001b[0;36m__init__\u001b[0;34m(self, dims, data, attrs, encoding, fastpath)\u001b[0m\n\u001b[1;32m    262\u001b[0m             \u001b[0munrecognized\u001b[0m \u001b[0mencoding\u001b[0m \u001b[0mitems\u001b[0m\u001b[0;34m.\u001b[0m\u001b[0;34m\u001b[0m\u001b[0m\n\u001b[1;32m    263\u001b[0m         \"\"\"\n\u001b[0;32m--> 264\u001b[0;31m         \u001b[0mself\u001b[0m\u001b[0;34m.\u001b[0m\u001b[0m_data\u001b[0m \u001b[0;34m=\u001b[0m \u001b[0mas_compatible_data\u001b[0m\u001b[0;34m(\u001b[0m\u001b[0mdata\u001b[0m\u001b[0;34m,\u001b[0m \u001b[0mfastpath\u001b[0m\u001b[0;34m=\u001b[0m\u001b[0mfastpath\u001b[0m\u001b[0;34m)\u001b[0m\u001b[0;34m\u001b[0m\u001b[0m\n\u001b[0m\u001b[1;32m    265\u001b[0m         \u001b[0mself\u001b[0m\u001b[0;34m.\u001b[0m\u001b[0m_dims\u001b[0m \u001b[0;34m=\u001b[0m \u001b[0mself\u001b[0m\u001b[0;34m.\u001b[0m\u001b[0m_parse_dimensions\u001b[0m\u001b[0;34m(\u001b[0m\u001b[0mdims\u001b[0m\u001b[0;34m)\u001b[0m\u001b[0;34m\u001b[0m\u001b[0m\n\u001b[1;32m    266\u001b[0m         \u001b[0mself\u001b[0m\u001b[0;34m.\u001b[0m\u001b[0m_attrs\u001b[0m \u001b[0;34m=\u001b[0m \u001b[0;32mNone\u001b[0m\u001b[0;34m\u001b[0m\u001b[0m\n",
      "\u001b[0;32m/home/cmt3718/anaconda3/envs/odin/lib/python3.6/site-packages/xarray/core/variable.py\u001b[0m in \u001b[0;36mas_compatible_data\u001b[0;34m(data, fastpath)\u001b[0m\n\u001b[1;32m    172\u001b[0m \u001b[0;34m\u001b[0m\u001b[0m\n\u001b[1;32m    173\u001b[0m     \u001b[0;31m# we don't want nested self-described arrays\u001b[0m\u001b[0;34m\u001b[0m\u001b[0;34m\u001b[0m\u001b[0m\n\u001b[0;32m--> 174\u001b[0;31m     \u001b[0mdata\u001b[0m \u001b[0;34m=\u001b[0m \u001b[0mgetattr\u001b[0m\u001b[0;34m(\u001b[0m\u001b[0mdata\u001b[0m\u001b[0;34m,\u001b[0m \u001b[0;34m'values'\u001b[0m\u001b[0;34m,\u001b[0m \u001b[0mdata\u001b[0m\u001b[0;34m)\u001b[0m\u001b[0;34m\u001b[0m\u001b[0m\n\u001b[0m\u001b[1;32m    175\u001b[0m \u001b[0;34m\u001b[0m\u001b[0m\n\u001b[1;32m    176\u001b[0m     \u001b[0;32mif\u001b[0m \u001b[0misinstance\u001b[0m\u001b[0;34m(\u001b[0m\u001b[0mdata\u001b[0m\u001b[0;34m,\u001b[0m \u001b[0mnp\u001b[0m\u001b[0;34m.\u001b[0m\u001b[0mma\u001b[0m\u001b[0;34m.\u001b[0m\u001b[0mMaskedArray\u001b[0m\u001b[0;34m)\u001b[0m\u001b[0;34m:\u001b[0m\u001b[0;34m\u001b[0m\u001b[0m\n",
      "\u001b[0;31mKeyboardInterrupt\u001b[0m: "
     ]
    }
   ],
   "source": [
    "#var_bool_blocked_clusters=xarray.open_dataset(f\"/rds/general/user/cmt3718/home/data/UKESM1-0-LL_piControl/AGP/AGP_clusters_UKESM1-0-LL_r1i1p1f2_EUR_piControl_JJAextd_1960-2060.nc\")\n",
    "var_bool_blocked_clusters=xarray.open_dataset(f\"/rds/general/user/cmt3718/home/data/reanal/S04/block_data/S04_clusters_era5_reanal_EUR_rcp85_JJA_1979-2019_neg.nc\")                                              \n",
    "var_bool_blocked_str = \"TM90_clusters\"\n",
    "lat_str, lon_str = \"latitude\", \"longitude\"\n",
    "var_cluster_fin, cluster_persis=overlap_persistence_clusters(var_bool_blocked_clusters, var_bool_blocked_str, lat_str, lon_str)\n",
    "\n",
    "                                              \n",
    "var_cluster_fin.to_netcdf(f\"/rds/general/user/cmt3718/home/data/reanal/S04/block_data/S04_clusters_fin_era5_reanal_EUR_ssp585_JJA_1979-2019.nc\")\n",
    "#(f\"/rds/general/user/cmt3718/home/data/cmip6/TM90_2D/block_data/TM90_clusters_fin_AWI-CM-1-1-MR_r1i1p1f1_EUR_ssp585_JJAextd_2015-2100.nc\")\n",
    "cluster_persis.to_netcdf(f\"/rds/general/user/cmt3718/home/data/reanal/S04/block_data/S04_clusters_persis_era5_reanal_EUR_ssp585_JJA_1979-2019.nc\")\n",
    "#(f\"/rds/general/user/cmt3718/home/data/cmip6/TM90_2D/block_data/TM90_clusters_persis_AWI-CM-1-1-MR_r1i1p1f1_EUR_ssp585_JJAextd_2015-2100.nc\")"
   ]
  },
  {
   "cell_type": "code",
   "execution_count": null,
   "metadata": {},
   "outputs": [],
   "source": [
    "var_bool_blocked_clusters=xarray.open_dataset(f\"/rds/general/user/cmt3718/home/data/UKESM1-0-LL_piControl/AGP/AGP_clusters_UKESM1-0-LL_r1i1p1f2_EUR_piControl_JJAextd_1960-2060.nc\")\n",
    "                                              \n",
    "var_bool_blocked_str = \"TM90_clusters\"\n",
    "lat_str, lon_str = \"lat\", \"lon\"\n",
    "var_cluster_fin, cluster_persis=overlap_persistence_clusters(var_bool_blocked_clusters, var_bool_blocked_str, lat_str, lon_str)\n",
    "\n",
    "                                              \n",
    "var_cluster_fin.to_netcdf(f\"/rds/general/user/cmt3718/home/data/reanal/DG83/block_data/DG83_clusters_fin_era5_reanal_EUR_ssp585_JJA_1979-2019.nc\")\n",
    "#(f\"/rds/general/user/cmt3718/home/data/cmip6/TM90_2D/block_data/TM90_clusters_fin_AWI-CM-1-1-MR_r1i1p1f1_EUR_ssp585_JJAextd_2015-2100.nc\")\n",
    "cluster_persis.to_netcdf(f\"/rds/general/user/cmt3718/home/data/reanal/DG83/block_data/DG83_clusters_persis_era5_reanal_EUR_ssp585_JJA_1979-2019.nc\")\n",
    "#(f\"/rds/general/user/cmt3718/home/data/cmip6/TM90_2D/block_data/TM90_clusters_persis_AWI-CM-1-1-MR_r1i1p1f1_EUR_ssp585_JJAextd_2015-2100.nc\")"
   ]
  },
  {
   "cell_type": "code",
   "execution_count": null,
   "metadata": {},
   "outputs": [],
   "source": []
  },
  {
   "cell_type": "code",
   "execution_count": 14,
   "metadata": {},
   "outputs": [
    {
     "data": {
      "text/plain": [
       "<matplotlib.collections.QuadMesh at 0x2adc01876da0>"
      ]
     },
     "execution_count": 14,
     "metadata": {},
     "output_type": "execute_result"
    },
    {
     "data": {
      "image/png": "[encoded data removed]",
      "text/plain": [
       "<Figure size 432x288 with 2 Axes>"
      ]
     },
     "metadata": {
      "needs_background": "light"
     },
     "output_type": "display_data"
    }
   ],
   "source": [
    "var_cluster_fin['TM90_clusters'].mean(axis=0).plot()"
   ]
  },
  {
   "cell_type": "code",
   "execution_count": 21,
   "metadata": {},
   "outputs": [
    {
     "data": {
      "text/plain": [
       "<matplotlib.collections.QuadMesh at 0x2b9fa0934128>"
      ]
     },
     "execution_count": 21,
     "metadata": {},
     "output_type": "execute_result"
    },
    {
     "data": {
      "image/png": "[encoded data removed]",
      "text/plain": [
       "<Figure size 432x288 with 2 Axes>"
      ]
     },
     "metadata": {
      "needs_background": "light"
     },
     "output_type": "display_data"
    }
   ],
   "source": [
    "var_cluster_fin['TM90_clusters'].mean(axis=0).plot()"
   ]
  },
  {
   "cell_type": "code",
   "execution_count": 75,
   "metadata": {},
   "outputs": [
    {
     "data": {
      "text/plain": [
       "<matplotlib.colorbar.Colorbar at 0x2b3e8afef0b8>"
      ]
     },
     "execution_count": 75,
     "metadata": {},
     "output_type": "execute_result"
    },
    {
     "data": {
      "image/png": "[encoded data removed]",
      "text/plain": [
       "<Figure size 432x288 with 2 Axes>"
      ]
     },
     "metadata": {
      "needs_background": "light"
     },
     "output_type": "display_data"
    },
    {
     "data": {
      "image/png": "[encoded data removed]",
      "text/plain": [
       "<Figure size 432x288 with 2 Axes>"
      ]
     },
     "metadata": {
      "needs_background": "light"
     },
     "output_type": "display_data"
    }
   ],
   "source": [
    "# time_samp = 19\n",
    "# lat, lon = var_cluster_fin['lat'], var_cluster_fin['lon']\n",
    "# var_bool_samp = var_cluster_fin['TM90_clusters'][time_samp,:,:]\n",
    "# var_bool_blocked_clusters_samp = var_bool_blocked_clusters['TM90_clusters'][time_samp,:,:]\n",
    "# fig=plt.figure()\n",
    "# plt.pcolormesh(lon, lat, var_bool_samp)\n",
    "# plt.colorbar()\n",
    "# fig=plt.figure()\n",
    "# plt.pcolormesh(lon, lat, var_bool_blocked_clusters_samp)\n",
    "# plt.colorbar()"
   ]
  },
  {
   "cell_type": "code",
   "execution_count": 52,
   "metadata": {},
   "outputs": [],
   "source": [
    "#block_idx_xr_persis_overlap = overlap_contour_criterea(block_idx_xr_persis, block_idx_str, var_bool_blocked_clusters) # takes about a minute to run"
   ]
  },
  {
   "cell_type": "code",
   "execution_count": 92,
   "metadata": {},
   "outputs": [
    {
     "ename": "NameError",
     "evalue": "name 'block_idx_xr_persis_overlap' is not defined",
     "output_type": "error",
     "traceback": [
      "\u001b[0;31m---------------------------------------------------------------------------\u001b[0m",
      "\u001b[0;31mNameError\u001b[0m                                 Traceback (most recent call last)",
      "\u001b[0;32m<ipython-input-92-bfa9645c1f03>\u001b[0m in \u001b[0;36m<module>\u001b[0;34m\u001b[0m\n\u001b[0;32m----> 1\u001b[0;31m \u001b[0mblock_idx_xr_persis_overlap\u001b[0m\u001b[0;34m.\u001b[0m\u001b[0msum\u001b[0m\u001b[0;34m(\u001b[0m\u001b[0;34m)\u001b[0m\u001b[0;34m\u001b[0m\u001b[0m\n\u001b[0m",
      "\u001b[0;31mNameError\u001b[0m: name 'block_idx_xr_persis_overlap' is not defined"
     ]
    }
   ],
   "source": [
    "    \n",
    "    #maybe here calculate the centroid position of each cluster\n",
    "    \n",
    "    \n",
    "#     block_arr_overlap = block_idx_xr_persis.copy()\n",
    "#     for i, blocked in enumerate(blocked_vals_arr):\n",
    "#         cluster_arr = calc_clusters(var_blocked_clusters[i,:,:], len_lat, len_lon)  \n",
    "#     #if i < 50:\n",
    "#         # measure if the previous day was blocked\n",
    "#         if i == blocked_vals_arr.shape[0]-1: \n",
    "#             next_blocked = 0\n",
    "#         else:\n",
    "#             next_blocked = blocked_vals_arr[i+1]\n",
    "#         if blocked == 1 and next_blocked == 1: #if both the day and the day after are blocked\n",
    "#             #to measure contour overlap from the P19 paper - \"join clusters that overlap by one grid box\"\n",
    "#             #note that we are using a lower grid resolution here (2x2 not 1x1), but also a lower time resolution (24-hr not 6-hr)\n",
    "#             #check if two days have any overlapping indices by setting the arrays to boolean and summing them (thus including clusters and their central points)\n",
    "#             var_blocked_clusters_sum=((var_blocked_clusters['TM90_clusters'][i,:,:] > 0)+1-1)+((var_blocked_clusters['TM90_clusters'][i+1,:,:] > 0)+1-1)\n",
    "#             if (var_blocked_clusters_sum.where(var_blocked_clusters_sum == 2).sum() == 0):\n",
    "#                 #no overlap between previous and next day\n",
    "#                 #set current day to be not blocked\n",
    "#                 #block_arr_overlap[block_idx_str][i] = 0\n",
    "#                 var_blocked_clusters_corr[i,:,:] = 0\n",
    "#             #to check if two days overlap quickly, add the two days\n",
    "#             #there will be 2 in at least one index if they overlap\n",
    "#             #subtract 1 from the resulting lat/lon array\n",
    "#             #check if there are any positive values\n",
    "            \n",
    "# # #             pass\n",
    "\n",
    "\n",
    "# #var_blocked_clusters['TM90_clusters']\n",
    "            \n",
    "#     return block_arr_overlap, var_blocked_clusters_corr"
   ]
  },
  {
   "cell_type": "code",
   "execution_count": 77,
   "metadata": {},
   "outputs": [],
   "source": [
    "#apply persistence criterea again to remove any chance of overlap\n",
    "#block_idx_xr_persis_overlap_persis = persistence_criterea(block_idx_xr_persis_overlap, block_idx_str, persis_thresh, JJA_days)"
   ]
  },
  {
   "cell_type": "code",
   "execution_count": 158,
   "metadata": {},
   "outputs": [],
   "source": [
    "#season = \"JJA\"\n",
    "#after applying area, persistence overlap and persistence criterea, select the season of interest\n",
    "#block_idx_xr_pop_seas = block_idx_xr_persis_overlap_persis.sel(time = np.isin(block_idx_xr_persis_overlap_persis['time.season'], \"JJA\"))"
   ]
  },
  {
   "cell_type": "code",
   "execution_count": 24,
   "metadata": {},
   "outputs": [],
   "source": [
    "var_cluster_fin_JJA = var_cluster_fin.sel(time = np.isin(var_cluster_fin['time.season'], \"JJA\"))"
   ]
  },
  {
   "cell_type": "code",
   "execution_count": 29,
   "metadata": {},
   "outputs": [],
   "source": [
    "var_cluster_fin_JJA_clim = var_cluster_fin_JJA['TM90_clusters'].mean(axis=0)"
   ]
  },
  {
   "cell_type": "code",
   "execution_count": 30,
   "metadata": {},
   "outputs": [
    {
     "data": {
      "text/plain": [
       "<xarray.DataArray 'TM90_clusters' (lat: 24, lon: 26)>\n",
       "array([[0.0033  , 0.00363 , 0.00396 , ..., 0.00033 , 0.      , 0.      ],\n",
       "       [0.006821, 0.007041, 0.007481, ..., 0.00121 , 0.00088 , 0.00044 ],\n",
       "       [0.010561, 0.011441, 0.012321, ..., 0.00319 , 0.00253 , 0.00198 ],\n",
       "       ...,\n",
       "       [0.009681, 0.010451, 0.011661, ..., 0.013421, 0.012981, 0.012651],\n",
       "       [0.00484 , 0.005501, 0.005391, ..., 0.008251, 0.008361, 0.008691],\n",
       "       [0.0033  , 0.00363 , 0.00363 , ..., 0.005171, 0.005061, 0.005391]])\n",
       "Coordinates:\n",
       "  * lat      (lat) float32 30.0 32.0 34.0 36.0 38.0 ... 68.0 70.0 72.0 74.0 76.0\n",
       "  * lon      (lon) float32 -10.0 -8.0 -6.0 -4.0 -2.0 ... 34.0 36.0 38.0 40.0"
      ]
     },
     "execution_count": 30,
     "metadata": {},
     "output_type": "execute_result"
    }
   ],
   "source": [
    "var_cluster_fin_JJA_clim"
   ]
  },
  {
   "cell_type": "code",
   "execution_count": 34,
   "metadata": {},
   "outputs": [
    {
     "data": {
      "image/png": "[encoded data removed]",
      "text/plain": [
       "<Figure size 432x288 with 2 Axes>"
      ]
     },
     "metadata": {
      "needs_background": "light"
     },
     "output_type": "display_data"
    }
   ],
   "source": [
    "# prop_blocked_per_grid_cell=TM90_clusters.sum(axis=0)/3772\n",
    "fig = plt.figure()\n",
    "ax = plt.axes(projection=ccrs.PlateCarree())\n",
    "ax.coastlines(\"50m\")\n",
    "clim = var_cluster_fin['TM90_clusters'].mean(axis=0)\n",
    "\n",
    "llons, llats = np.meshgrid(var_cluster_fin['lon'], var_cluster_fin['lat'])\n",
    "cs = ax.contourf(llons, llats, var_cluster_fin_JJA_clim)\n",
    "fig.suptitle(\"The proportion of blocks per grid cell in AGP for UKESM1-0-LL JJA 1960-2060\")\n",
    "\n",
    "fig.colorbar(cs, label = \"percentage of blocked events per grid cell\")\n",
    "#fig.tight_layout()\n",
    "fig.savefig(\"/rds/general/user/cmt3718/home/plots/prop_blocked/prop_blocked_AGP_UKESM1-0-LL_JJA_1979-2019.png\", dpi = 300, bbox_inches=\"tight\")"
   ]
  },
  {
   "cell_type": "code",
   "execution_count": null,
   "metadata": {},
   "outputs": [],
   "source": []
  }
 ],
 "metadata": {
  "kernelspec": {
   "display_name": "Python [conda env:odin]",
   "language": "python",
   "name": "conda-env-odin-py"
  },
  "language_info": {
   "codemirror_mode": {
    "name": "ipython",
    "version": 3
   },
   "file_extension": ".py",
   "mimetype": "text/x-python",
   "name": "python",
   "nbconvert_exporter": "python",
   "pygments_lexer": "ipython3",
   "version": "3.6.5"
  }
 },
 "nbformat": 4,
 "nbformat_minor": 2
}
