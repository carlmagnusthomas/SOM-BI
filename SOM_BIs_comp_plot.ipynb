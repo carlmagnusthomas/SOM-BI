{
 "cells": [
  {
   "cell_type": "markdown",
   "metadata": {},
   "source": [
    "## SOM_BIs_comp.ipynb\n",
    "\n",
    "This notebooked identifies the optimum set of node clusters to define the SOM blocking index from the SOM dataset of best matching units (SOM_data) and the ground truth dataset (GTD)\n",
    "\n"
   ]
  },
  {
   "cell_type": "code",
   "execution_count": 20,
   "metadata": {},
   "outputs": [],
   "source": [
    "import numpy as np\n",
    "import scipy\n",
    "import matplotlib.pyplot as plt\n",
    "import matplotlib.patches as mpatches\n",
    "%matplotlib inline\n",
    "import matplotlib as mpl\n",
    "import matplotlib.cm as cm\n",
    "import math\n",
    "import sys\n",
    "import pandas as pd\n",
    "import os\n",
    "import matplotlib as mpl\n",
    "import matplotlib\n",
    "import matplotlib.colors as colors\n",
    "from matplotlib.ticker import MultipleLocator, FormatStrFormatter\n",
    "from matplotlib import rcParams\n",
    "from mpl_toolkits.mplot3d import Axes3D\n",
    "import cartopy\n",
    "import xarray as xr\n",
    "import glob\n",
    "from itertools import groupby\n",
    "from scipy import stats\n",
    "import cartopy.crs as ccrs\n",
    "import statsmodels.stats.multitest as multipletests\n",
    "import itertools"
   ]
  },
  {
   "cell_type": "code",
   "execution_count": 33,
   "metadata": {},
   "outputs": [],
   "source": [
    "#define strings for the input GTD and SOM data\n",
    "SOM_data_str = \"C:/Users/carlt/Documents/PhD/Data/reanal/SOM/SOM_data_occ_JJA_extd_era5_z_LTDM_timedtrnd_1979-2019_JJAextd.nc\"\n",
    "GTD_str = \"C:/Users/carlt/Documents/PhD/Data/GTD/GTD_1979-2019_JJAextd.nc\"\n",
    "\n",
    "#define string for output figures\n",
    "fig_str_SOM_GTD_hist = f\"C:/Users/carlt/Documents/PhD/plots/SOM_BI_comp/z_GTD_blo_comp_hist_9nodes.pdf\"\n",
    "fig_str_SOM_BI_skill = f\"C:/Users/carlt/Documents/PhD/Plots/SOM_BI_comp/z_F1_9nodes_prec_clus_comb_corr.pdf\"\n",
    "\n",
    "fig_str_SOM_BI_comb = f\"C:/Users/carlt/Documents/PhD/Plots/SOM_BI_comp/z_F1_9nodes_hist_comp\"\n",
    "\n",
    "#define other variables\n",
    "seas = \"JJA\" # season\n",
    "var_str = \"z500\" # string to define variable in caption for histogram figure\n",
    "rowcol = 3 # the number of rows/columns - NB need to change to investigate non-square node topologies\n",
    "skill_str = \"precision\" # skill metric to order the clusters by\n",
    "\n",
    "#load the data\n",
    "GTD = xr.open_dataset(GTD_str)['blocking']\n",
    "SOM_data = xr.open_dataset(SOM_data_str)['SOM_data']\n"
   ]
  },
  {
   "cell_type": "code",
   "execution_count": 34,
   "metadata": {},
   "outputs": [],
   "source": [
    "\n",
    "def create_nodes_arr_sq(rowcol):\n",
    "    \"\"\"\n",
    "    Create the arrangement of nodes to label the set\n",
    "    assumes a square arrangement of nodes\n",
    "    \"\"\"\n",
    "    arr = np.ones((rowcol, rowcol))\n",
    "    for i in range(rowcol):\n",
    "        arr[i] = arr[i]*range(1+rowcol*i,rowcol+1+rowcol*i)\n",
    "    return arr\n",
    "\n"
   ]
  },
  {
   "cell_type": "code",
   "execution_count": 92,
   "metadata": {},
   "outputs": [],
   "source": [
    "\n",
    "def plot_SOM_BI_performance(rowcol, SOM_data, skill_str, fig_str_SOM_BI_skill, fig_str_SOM_GTD_hist, fig_str_SOM_BI_comb, GTD, var_str, seas,\n",
    "                           clus_num_arr, prec_arr, recall_arr, F1_arr):\n",
    "    \"\"\"\n",
    "    Create plots to show the SOM-BI performance\n",
    "    rowcol - the number of rows and columns in the data (will need to change when using non-square node topologies)\n",
    "    \"\"\"\n",
    "    #skill score to order the clusters by\n",
    "    skill_str = \"precision\"\n",
    "\n",
    "    nodes_arr = create_nodes_arr_sq(rowcol)\n",
    "    nodes = np.prod(nodes_arr.shape)\n",
    "    #need to identify some way of amtching the two datasets\n",
    "    #identify the number assigned to the node\n",
    "    SOM_data_node_list = [(SOM_data[:,:,i]*nodes_arr).sum(axis=0).sum(axis=0) for i in range(SOM_data.shape[2])]\n",
    "    SOM_nodenum = xr.concat(SOM_data_node_list, dim = \"node_num\")\n",
    "    SOM_nodenum_seas = SOM_nodenum.isel(node_num = np.isin(GTD['time.season'], seas))\n",
    "    GTD_seas = GTD.sel(time = np.isin(GTD['time.season'], seas))\n",
    "    fig, (ax1, ax2) = plt.subplots(2,1, figsize=(6,8))\n",
    "    #plot the histograms of blocked and non-blocked days\n",
    "    plot_hist_blo(GTD_seas, SOM_nodenum_seas, fig_str_SOM_GTD_hist, nodes, ax1) #, caption=f\"based on GTD and {var_str} SOMs\")\n",
    "\n",
    "    ds_arr = []\n",
    "    #implement the persistence within the blocking criterea by studying every five day period\n",
    "    blocked_days, SOM_nodes = GTD.values, SOM_nodenum.values\n",
    "    persis_thresh = 5\n",
    "    persis_block = []\n",
    "    SOM_cluster = []\n",
    "    for i in range(len(blocked_days)-persis_thresh):\n",
    "        if sum(blocked_days[i:i+persis_thresh]) == persis_thresh:\n",
    "            persis_block.append(1)\n",
    "        else:\n",
    "            persis_block.append(0)\n",
    "        SOM_cluster.append(str(np.unique(SOM_nodes[i:i+persis_thresh])))\n",
    "\n",
    "    SOM_clusters_block, SOM_clusters_block_occ = np.unique([clus for i, clus in enumerate(SOM_cluster) if (persis_block[i] == 1)], return_counts=True)\n",
    "    SOM_clusters_noblock, SOM_clusters_noblock_occ = np.unique([clus for i, clus in enumerate(SOM_cluster) if (persis_block[i] == 0)], return_counts=True)\n",
    "    \n",
    "    #print(\"Calculating skill of individual clusters\")\n",
    "    #blocks_one_clusnum = calc_skill_clusters(blocked_days, GTD_seas, persis_thresh, SOM_nodes, SOM_clusters_block, seas)\n",
    "    \n",
    "    #print(\"Calculating skill of combined clusters\")\n",
    "    #clus_num_arr, prec_arr, recall_arr, F1_arr = calc_skill_cluster_sets(blocked_days, GTD_seas, persis_thresh, SOM_nodes, blocks_one_clusnum, skill_str, seas)\n",
    "    plot_SOM_BI_skill(clus_num_arr, prec_arr, recall_arr, F1_arr, fig_str_SOM_BI_skill, ax2)\n",
    "    fig.savefig(f\"{fig_str_SOM_BI_comb}.pdf\", bbox_inches=\"tight\", dpi = 300)\n",
    "    fig.savefig(f\"{fig_str_SOM_BI_comb}.png\", bbox_inches=\"tight\", dpi = 300)    \n",
    "    return 0#return SOM_clusters_block, blocked_days, persis_thresh, SOM_nodes, clus_num_arr, prec_arr, recall_arr, F1_arr\n",
    "    \n",
    "\n"
   ]
  },
  {
   "cell_type": "code",
   "execution_count": 185,
   "metadata": {},
   "outputs": [],
   "source": [
    "\n",
    "\n",
    "def plot_hist_blo(blocking_occ, SOM_nodenum, savefig_str, num_nodes, ax, caption=0):\n",
    "    \"\"\"\n",
    "    Plot the histograms of blocking for the GTD and not\n",
    "    \"\"\"\n",
    "    alpha_val = 1\n",
    "    nodes_notblo = SOM_nodenum.values*(blocking_occ==0).values\n",
    "    nodes_blo = SOM_nodenum.values*blocking_occ.values\n",
    "    freq_blo, freq_notblo = int(float((blocking_occ==1).mean())*1000)/10, int(float((blocking_occ==0).mean()*1000))/10\n",
    "    nodes_blo_rem, nodes_notblo_rem = nodes_blo[nodes_blo != 0], nodes_notblo[nodes_notblo != 0]\n",
    "\n",
    "    #hatch=\"/\", lw=1.,\n",
    "    ax.hist((nodes_notblo_rem,nodes_blo_rem), bins = np.arange(0.5,num_nodes+1.5,1), density = True, alpha = alpha_val, label = (f\"not blocked ({freq_notblo}% of days)\",f\"blocked ({freq_blo}% of days)\"), ec = \"k\",\n",
    "            lw=3) \n",
    "    \n",
    "    ax.text(0.017,0.97, '(b)',\n",
    "        horizontalalignment='left',\n",
    "        verticalalignment='top',\n",
    "        transform=ax.transAxes,\n",
    "           bbox={'facecolor':'white', 'alpha':1, 'pad':5, 'linewidth':2, 'edgecolor':'b'},\n",
    "        fontsize=15)\n",
    "#     for i, txt in enumerate([\"(a)\", \"1\", \"2\", \"3\", \"4\", \"5\", \"6\", \"7\", \"8\", \"9\"]):\n",
    "#         ax.text(1.1+i*0.2,0.965, txt,\n",
    "#             horizontalalignment='left',\n",
    "#             verticalalignment='top',\n",
    "#             transform=ax.transAxes,\n",
    "#                bbox={'facecolor':'white', 'alpha':1, 'pad':5, 'linewidth':2, 'edgecolor':'b'},\n",
    "#             fontsize=15)   \n",
    "    #ax.hist(nodes_blo_rem, bins = np.arange(0.5,num_nodes+1.5,1), density = True, alpha = alpha_val, label = f\"blocked ({freq_blo}% of days)\", ec = \"k\", hatch=\"//\", lw=3) \n",
    "\n",
    "    if caption != 0:\n",
    "        ax.set_xlabel(f\"SOM node number \\n \\n {caption}\")\n",
    "    else:\n",
    "        ax.set_xlabel(f\"SOM node number\")\n",
    "    ax.set_ylabel(\"Percentage occurrence\")\n",
    "    ax.set_xticks(np.arange(1,num_nodes+1,1))\n",
    "    ax.set_yticklabels(np.arange(0,35,5))    \n",
    "    ax.legend()\n",
    "\n",
    "    #fig.savefig(savefig_str, bbox_inches=\"tight\", dpi = 300)\n"
   ]
  },
  {
   "cell_type": "code",
   "execution_count": 186,
   "metadata": {},
   "outputs": [],
   "source": [
    "def plot_SOM_BI_skill(clus_num_arr, prec_arr, recall_arr, F1_arr, fig_str, ax):\n",
    "    \"\"\"\n",
    "    Create the plots showing the skill score of the blocking patterns\n",
    "    \"\"\"\n",
    "    #fig = plt.figure()\n",
    "    alpha_val = 0.7\n",
    "    #plt.title(f\"Skill score of different sets of node clusters \\n for {nodes} nodes {var_str} vs GTD\")\n",
    "    ax.scatter(clus_num_arr, prec_arr, label = \"P\", marker = \"^\", alpha = alpha_val, color = \"r\")\n",
    "    ax.scatter(clus_num_arr, recall_arr, label = \"R\", marker = \"v\", alpha = alpha_val, color = \"g\")\n",
    "    ax.scatter(clus_num_arr, F1_arr, label = \"F1\", marker = \"x\", alpha = alpha_val, color = \"b\")\n",
    "    ax.legend(loc=\"lower right\")#bbox_to_anchor=(1,1))\n",
    "    ax.set_xlabel(\"Number of node groups selected\")# \\n node clusters are added to the set, starting with the nodes that \\n have the highest precision\")\n",
    "    ax.set_ylabel(\"Skill score\")\n",
    "    # build a rectangle in axes coords\n",
    "    ax.text(0.017,0.97, '(c)',\n",
    "        horizontalalignment='left',\n",
    "        verticalalignment='top',\n",
    "        transform=ax.transAxes,\n",
    "           bbox={'facecolor':'white', 'alpha':1, 'pad':5, 'linewidth':2, 'edgecolor':'b'},\n",
    "        fontsize=15)\n",
    "    ax.set_xlim(-1,52)\n",
    "    #print(f\"peak F1 score = {max(F1_arr)}\")\n",
    "    peak_F1_idx = np.where(np.array(F1_arr) == max(F1_arr))[0][0]\n",
    "    #print(f\"prec for peak F1 score = {prec_arr[peak_F1_idx]}\")\n",
    "    #print(f\"recall for peak F1 score = {recall_arr[peak_F1_idx]}\")    \n",
    "    #print(f\"number of node groups for peak F1 score = {clus_num_arr[peak_F1_idx]}\") \n",
    "    "
   ]
  },
  {
   "cell_type": "code",
   "execution_count": 187,
   "metadata": {},
   "outputs": [
    {
     "data": {
      "text/plain": [
       "0"
      ]
     },
     "execution_count": 187,
     "metadata": {},
     "output_type": "execute_result"
    },
    {
     "data": {
      "image/png": "[encoded data removed]",
      "text/plain": [
       "<Figure size 432x576 with 2 Axes>"
      ]
     },
     "metadata": {
      "needs_background": "light"
     },
     "output_type": "display_data"
    }
   ],
   "source": [
    "plot_SOM_BI_performance(rowcol, SOM_data, skill_str, fig_str_SOM_BI_skill, fig_str_SOM_GTD_hist, fig_str_SOM_BI_comb, GTD, var_str, seas, clus_num_arr, prec_arr, recall_arr, F1_arr)"
   ]
  },
  {
   "cell_type": "code",
   "execution_count": 94,
   "metadata": {},
   "outputs": [],
   "source": [
    "def calc_skill_clusters(blocked_days, GTD_seas, persis_thresh, SOM_nodes, SOM_clusters_block, seas):\n",
    "    \"\"\"\n",
    "    Calculates the individual skill score of each cluster\n",
    "    takes several seconds because ofthe creation of the blocked clusters\n",
    "    \"\"\"\n",
    "    ds_arr_ones = []\n",
    "    for clus in SOM_clusters_block:\n",
    "        print(f\"clus = {clus}\")\n",
    "        node_cluster_set_test = [clus]\n",
    "        node_cluster_set_test_str = [str(clus).replace(',', '') for clus in node_cluster_set_test]\n",
    "        #calculate the blocked days which the new cluster determines\n",
    "        blocked_days_clus = calc_blocked_days_clus(blocked_days, persis_thresh, SOM_nodes, node_cluster_set_test_str)\n",
    "        #define as DataArray and select JJA to remove the extended days included for classifying blocks\n",
    "        blocked_days_clus_xr = xr.DataArray(blocked_days_clus, name = \"blocking\", dims={\"time\": GTD['time']})\n",
    "        blocked_days_clus_xr['time'] = GTD['time']\n",
    "        blocked_days_clus_seas = blocked_days_clus_xr.sel(time=np.isin(blocked_days_clus_xr['time.season'], seas))\n",
    "        prec, recall, F1 = calc_pr_rc_F1(GTD_seas, blocked_days_clus_seas)\n",
    "        print(f\"prec, recall, F1 = {prec}, {recall}, {F1}\")\n",
    "        #calculate precision, recall and F1\n",
    "        if len(str(node_cluster_set_test)) == 1:\n",
    "            comb_str = f\"{node_cluster_set_test[0]}\".replace(\"'\", \"\")\n",
    "        else:\n",
    "            comb_str = f\"{str(node_cluster_set_test)[1:-1]}\".replace(\"'\", \"\")        \n",
    "        ds=xr.Dataset({'precision': prec, 'recall': recall, 'F1': F1, 'clus_num': int(len(node_cluster_set_test)), 'set': str(comb_str)})\n",
    "        ds_arr_ones.append(ds)\n",
    "    blocks_one_clusnum = xr.concat(ds_arr_ones, dim = \"set\")\n",
    "    return blocks_one_clusnum\n",
    "    "
   ]
  },
  {
   "cell_type": "code",
   "execution_count": 95,
   "metadata": {},
   "outputs": [],
   "source": [
    "\n",
    "def calc_blocked_days_clus(blocked_days, persis_thresh, SOM_nodes, node_cluster_set_test_str):\n",
    "    \"\"\"\n",
    "    Calculate the number of blocked days in the cluster\n",
    "    NB this function is fairly slow - perhaps a list comprehension could speed it up?\n",
    "    SOM_nodes - list of labelled SOM nodes for each day [1,2,9...,7,6]\n",
    "    blocked_days - arrangement of blocked days in the GTD\n",
    "    persis_thresh - threshold for number of days to limit blocking\n",
    "    node_cluster_set_test_str - the set of node clusters being tested, stored as a list of strings ['[1, 2, 5]', '[1, 4]', ... , '[1]']\n",
    "    \"\"\"\n",
    "    #define the new set of blocked days\n",
    "    blocked_days_clus = np.zeros((len(blocked_days)))\n",
    "    #set blocking for the five day clusters where the given SOM cluster is in the set of node clusters\n",
    "    for i in range(len(blocked_days)-persis_thresh):\n",
    "        SOM_cluster = str(np.unique(SOM_nodes[i:i+persis_thresh]))\n",
    "        if SOM_cluster in node_cluster_set_test_str:\n",
    "            blocked_days_clus[i:i+persis_thresh] = 1\n",
    "    return blocked_days_clus\n"
   ]
  },
  {
   "cell_type": "code",
   "execution_count": 39,
   "metadata": {},
   "outputs": [],
   "source": [
    "def calc_pr_rc_F1(GTD, block_occ):\n",
    "    \"\"\"\n",
    "    Calculate skill scores from input DataArrays\n",
    "    \"\"\"\n",
    "    true_pos = ((GTD + block_occ)==2).sum()\n",
    "    false_pos = sum([1 if BI_val==1 and GTD[i]==0 else 0 for i, BI_val in enumerate(block_occ.values)])\n",
    "    precision = float(true_pos/(true_pos+false_pos))\n",
    "    recall = float(true_pos/(GTD.sum()))\n",
    "    F1 = float(2 * (precision * recall) / (precision + recall))\n",
    "    return precision, recall, F1   \n"
   ]
  },
  {
   "cell_type": "code",
   "execution_count": 40,
   "metadata": {},
   "outputs": [],
   "source": [
    "\n",
    "def calc_skill_cluster_sets(blocked_days, GTD_seas, persis_thresh, SOM_nodes, blocks_one_clusnum, skill_str, seas):\n",
    "    \"\"\"\n",
    "    Calculate the skill score of different clusters\n",
    "    \"\"\"\n",
    "    prec_arr, recall_arr, F1_arr, clus_num_arr = [], [], [], []\n",
    "\n",
    "    prec_vals=sorted(np.unique(blocks_one_clusnum[skill_str].values), reverse = True)\n",
    "    #loop through first element separately so that subsequent values can be appended\n",
    "    node_cluster_set_test_str, ds_arr = [], []\n",
    "    for prec in prec_vals:\n",
    "        node_cluster_set_test_str_app = blocks_one_clusnum['set'][np.where(blocks_one_clusnum[skill_str]==prec)[0]].values\n",
    "        for clus in node_cluster_set_test_str_app:\n",
    "            #add cluster to cluster set\n",
    "            node_cluster_set_test_str = np.append(node_cluster_set_test_str, clus)\n",
    "            node_cluster_set_test_str = np.unique(node_cluster_set_test_str)\n",
    "            node_num = len(node_cluster_set_test_str) # number of nodes in cluster set\n",
    "            clus_num_arr.append(node_num)\n",
    "            #calculate skill score of cluster set by calculating the number of days blocked from the GTD and selecting the season\n",
    "            blocked_days_clus = calc_blocked_days_clus(blocked_days, persis_thresh, SOM_nodes, node_cluster_set_test_str)\n",
    "            blocked_days_clus_xr = xr.DataArray(blocked_days_clus, name = \"blocking\", dims={\"time\": GTD['time']})\n",
    "            blocked_days_clus_xr['time']=GTD['time']\n",
    "            blocked_days_clus_sel=blocked_days_clus_xr.sel(time=np.isin(blocked_days_clus_xr['time.season'], seas))\n",
    "            prec, recall, F1 = calc_pr_rc_F1(GTD_seas, blocked_days_clus_sel)\n",
    "            prec_arr.append(prec)\n",
    "            recall_arr.append(recall)\n",
    "            F1_arr.append(F1)\n",
    "\n",
    "    return clus_num_arr, prec_arr, recall_arr, F1_arr        \n"
   ]
  },
  {
   "cell_type": "code",
   "execution_count": null,
   "metadata": {},
   "outputs": [],
   "source": []
  },
  {
   "cell_type": "code",
   "execution_count": null,
   "metadata": {},
   "outputs": [],
   "source": []
  },
  {
   "cell_type": "code",
   "execution_count": 52,
   "metadata": {},
   "outputs": [
    {
     "ename": "TypeError",
     "evalue": "plot_SOM_BI_performance() missing 4 required positional arguments: 'clus_num_arr', 'prec_arr', 'recall_arr', and 'F1_arr'",
     "output_type": "error",
     "traceback": [
      "\u001b[1;31m---------------------------------------------------------------------------\u001b[0m",
      "\u001b[1;31mTypeError\u001b[0m                                 Traceback (most recent call last)",
      "\u001b[1;32m<ipython-input-52-2ff7b01cd5b4>\u001b[0m in \u001b[0;36m<module>\u001b[1;34m\u001b[0m\n\u001b[1;32m----> 1\u001b[1;33m \u001b[0mSOM_clusters_block\u001b[0m\u001b[1;33m,\u001b[0m \u001b[0mblocked_days\u001b[0m\u001b[1;33m,\u001b[0m \u001b[0mpersis_thresh\u001b[0m\u001b[1;33m,\u001b[0m \u001b[0mSOM_nodes\u001b[0m\u001b[1;33m,\u001b[0m \u001b[0mclus_num_arr\u001b[0m\u001b[1;33m,\u001b[0m \u001b[0mprec_arr\u001b[0m\u001b[1;33m,\u001b[0m \u001b[0mrecall_arr\u001b[0m\u001b[1;33m,\u001b[0m \u001b[0mF1_arr\u001b[0m \u001b[1;33m=\u001b[0m \u001b[0mplot_SOM_BI_performance\u001b[0m\u001b[1;33m(\u001b[0m\u001b[0mrowcol\u001b[0m\u001b[1;33m,\u001b[0m \u001b[0mSOM_data\u001b[0m\u001b[1;33m,\u001b[0m \u001b[0mskill_str\u001b[0m\u001b[1;33m,\u001b[0m \u001b[0mfig_str_SOM_BI_skill\u001b[0m\u001b[1;33m,\u001b[0m \u001b[0mfig_str_SOM_GTD_hist\u001b[0m\u001b[1;33m,\u001b[0m \u001b[0mfig_str_SOM_BI_comb\u001b[0m\u001b[1;33m,\u001b[0m \u001b[0mGTD\u001b[0m\u001b[1;33m,\u001b[0m \u001b[0mvar_str\u001b[0m\u001b[1;33m,\u001b[0m \u001b[0mseas\u001b[0m\u001b[1;33m)\u001b[0m\u001b[1;33m\u001b[0m\u001b[1;33m\u001b[0m\u001b[0m\n\u001b[0m",
      "\u001b[1;31mTypeError\u001b[0m: plot_SOM_BI_performance() missing 4 required positional arguments: 'clus_num_arr', 'prec_arr', 'recall_arr', and 'F1_arr'"
     ]
    }
   ],
   "source": [
    "SOM_clusters_block, blocked_days, persis_thresh, SOM_nodes, clus_num_arr, prec_arr, recall_arr, F1_arr = plot_SOM_BI_performance(rowcol, SOM_data, skill_str, fig_str_SOM_BI_skill, fig_str_SOM_GTD_hist, fig_str_SOM_BI_comb, GTD, var_str, seas)"
   ]
  },
  {
   "cell_type": "code",
   "execution_count": 47,
   "metadata": {},
   "outputs": [],
   "source": [
    "F1_arr = []\n",
    "for prec, recall in zip(prec_arr, recall_arr):\n",
    "    F1 = 2*prec*recall/(prec+recall)\n",
    "    F1_arr.append(F1)\n",
    "#F1_arr = 2*(prec_arr*recall_arr)/(prec_arr+recall_arr)"
   ]
  },
  {
   "cell_type": "code",
   "execution_count": null,
   "metadata": {},
   "outputs": [],
   "source": [
    "#use this to replot figure 4 as a vector graphic (using the smae SOM cluster as figure 4)\n",
    "#can also print the individual F1/pr/rc scores for each node group and put a few examples in the text e.g. [1, 4], [1] etc"
   ]
  },
  {
   "cell_type": "code",
   "execution_count": null,
   "metadata": {},
   "outputs": [],
   "source": []
  }
 ],
 "metadata": {
  "kernelspec": {
   "display_name": "Python 3",
   "language": "python",
   "name": "python3"
  },
  "language_info": {
   "codemirror_mode": {
    "name": "ipython",
    "version": 3
   },
   "file_extension": ".py",
   "mimetype": "text/x-python",
   "name": "python",
   "nbconvert_exporter": "python",
   "pygments_lexer": "ipython3",
   "version": "3.7.6"
  }
 },
 "nbformat": 4,
 "nbformat_minor": 4
}
