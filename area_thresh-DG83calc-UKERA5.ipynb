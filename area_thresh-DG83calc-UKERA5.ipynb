{
 "cells": [
  {
   "cell_type": "code",
   "execution_count": null,
   "metadata": {},
   "outputs": [],
   "source": [
    "#!/usr/bin/env python\n",
    "# coding: utf-8\n",
    "\n",
    "# ### Calculate DG83 index\n",
    "# Method adapted from Pinheiro et al. (2019). This uses four thresholds to apply for the blocking criterea, which are applied in turn:\n",
    "#     \n",
    "#     AMPLITUDE - count the number of grid squares exceeding the var threshold (which may be -ve or +ve if one looks at the anomalies or not)\n",
    "#     AREA - for each blocked region count the number of grid cells at each latitude and so calculate the total area of each blocked region\n",
    "#     PERSISTENCE - measure how long the block persists for, and set a threshold for at least five days\n",
    "#     OVERLAP - count the number of days over which the contours for the blocked region overlap\n",
    "# \n",
    "# If all of these criterea are met, then blocked_day = True. Else blocked_day = False.\n",
    "#     \n",
    "# These thresholds are applied to two datasets: 500hPa geopotentiel height anomalies, detrended wrt surface temperature (creating a measure similar to Dole and Gordon (1983)) and the seasonal anomaly of vertically averaged potential vorticity (similar to Schweirz (2004)).  The calculation of the anomaly fields and detrending has been done in a separate notebook, and uses ``cdo`` commands: https://code.mpimet.mpg.de/projects/cdo/embedded/cdo.pdf\n"
   ]
  },
  {
   "cell_type": "code",
   "execution_count": 34,
   "metadata": {},
   "outputs": [],
   "source": [
    "import xarray\n",
    "import numpy as np\n",
    "import scipy\n",
    "import glob\n",
    "import matplotlib.pyplot as plt\n",
    "#import PDF_funcs\n",
    "from scipy import stats\n",
    "from itertools import groupby\n",
    "from operator import itemgetter\n",
    "#for mapping the polygon on a sphere to a polygon on a flat surface to calculate area\n",
    "import pyproj\n",
    "import math\n",
    "from shapely import geometry\n",
    "import collections\n",
    "import matplotlib.pyplot as plt\n",
    "import xarray as xr\n",
    "import sys\n",
    "from scipy import stats\n"
   ]
  },
  {
   "cell_type": "code",
   "execution_count": 2,
   "metadata": {},
   "outputs": [],
   "source": [
    "\n",
    "\n",
    "\n",
    "def len_iter(items):\n",
    "    return sum(1 for _ in items)\n",
    "\n",
    "def consecutive_one(data):\n",
    "    return max(len_iter(run) for val, run in groupby(data) if val)\n",
    "\n",
    "def test_centroid_pos(cluster, var_bool_blocked_idx, lat_centroid, lon_centroid):\n",
    "    \"\"\"\n",
    "    test centroid position\n",
    "    \"\"\"\n",
    "    if len([i for i, v in enumerate(cluster) if v[0] == lat_centroid and v[1] == lon_centroid]) == 1:\n",
    "        centroid_pos = ([i for i, v in enumerate(cluster) if v[0] == lat_centroid and v[1] == lon_centroid][0])\n",
    "        var_bool_blocked_idx[cluster[centroid_pos][0], cluster[centroid_pos][1]] = 2\n",
    "        return True\n",
    "    else:\n",
    "        return False\n",
    "\n",
    "def identify_centroid_within_cluster(lat_centroid, lon_centroid, cluster, var_bool_blocked_idx):\n",
    "    \"\"\"\n",
    "    Identify the location(s) of the centroid within the cluster\n",
    "    function contains exception handling for if the centroid position (identified using the median lat/lon values)\n",
    "    is not in the list\n",
    "    Note that this has been written for a grid resolution of 2x2 - other grid resolutions e.g. 2.5x2.5 might have errors\n",
    "    \"\"\"\n",
    "    try:\n",
    "        centroid_pos = ([i for i, v in enumerate(cluster) if v[0] == lat_centroid and v[1] == lon_centroid][0])\n",
    "        var_bool_blocked_idx[cluster[centroid_pos][0], cluster[centroid_pos][1]] = 2\n",
    "    except IndexError: #when the centroid_pos is not within the cluster (the median lat/lon value isn't part of the cluster)\n",
    "        #need to adjust lat_centroid and lon_centroid until the closest centre within the cluster is identified\n",
    "        centroid_not_found = True\n",
    "        while centroid_not_found:\n",
    "            for i in range(1,len(lat)):\n",
    "                #loop through all possible centroid locations starting out from the median location\n",
    "                #so that if there are two possible locations of the centroid within the cluster both are chosen\n",
    "                centroid_pos_found = test_centroid_pos(cluster, var_bool_blocked_idx, lat_centroid+i, lon_centroid) \n",
    "                centroid_pos_found = test_centroid_pos(cluster, var_bool_blocked_idx, lat_centroid-i, lon_centroid) \n",
    "                centroid_pos_found = test_centroid_pos(cluster, var_bool_blocked_idx, lat_centroid, lon_centroid+i) \n",
    "                centroid_pos_found = test_centroid_pos(cluster, var_bool_blocked_idx, lat_centroid, lon_centroid-i)\n",
    "                if centroid_pos_found:\n",
    "                    centroid_not_found = False #break loop here when the nearest neighbours have been checked\n",
    "                #if still not found, look at the edge tiles\n",
    "                centroid_pos_found = test_centroid_pos(cluster, var_bool_blocked_idx, lat_centroid+i, lon_centroid+i) \n",
    "                centroid_pos_found = test_centroid_pos(cluster, var_bool_blocked_idx, lat_centroid-i, lon_centroid-i) \n",
    "                centroid_pos_found = test_centroid_pos(cluster, var_bool_blocked_idx, lat_centroid-i, lon_centroid+i) \n",
    "                centroid_pos_found = test_centroid_pos(cluster, var_bool_blocked_idx, lat_centroid+i, lon_centroid-i)\n",
    "                if centroid_pos_found: #break loop here when the edge tiles have been checked before looping back through\n",
    "                    centroid_not_found = False\n",
    "\n",
    "\n",
    "\n",
    "def get_adjacent_indices(i, j, m, n):\n",
    "    \"\"\"\n",
    "    Obtain the adjacent indices where they can be found\n",
    "    uses the nearest neighbour\n",
    "    from https://stackoverflow.com/questions/51657128/how-to-access-the-adjacent-cells-of-each-elements-of-matrix-in-python/51657232\n",
    "    \"\"\"\n",
    "    adjacent_indices = []\n",
    "    if i > 0:\n",
    "        adjacent_indices.append((i-1,j))\n",
    "    if i+1 < m:\n",
    "        adjacent_indices.append((i+1,j))\n",
    "    if j > 0:\n",
    "        adjacent_indices.append((i,j-1))\n",
    "    if j+1 < n:\n",
    "        adjacent_indices.append((i,j+1))\n",
    "    return adjacent_indices\n",
    "\n",
    "def add_adjacent_idx_to_cluster(lat_idx, lon_idx, cluster, idx_vals, lat_lon_idx_vals, len_lat, len_lon):\n",
    "    \"\"\"\n",
    "    If not already in the cluster, add adjacent values to the cluster\n",
    "    \"\"\"\n",
    "    if ((lat_idx, lon_idx)) not in cluster:\n",
    "        #print(f\"{(lat_idx, lon_idx)} added to cluster\")\n",
    "        cluster.append((lat_idx, lon_idx))\n",
    "    adjacent_indices = get_adjacent_indices(lat_idx, lon_idx, len_lat, len_lon)\n",
    "    #print(f\"adjacent_indices = {adjacent_indices}\")\n",
    "    for adj_idx in adjacent_indices:\n",
    "        if adj_idx in lat_lon_idx_vals:\n",
    "            if adj_idx not in cluster:\n",
    "                #add the value and the adjacent values to the cluster\n",
    "                cluster.append(adj_idx)  \n",
    "                if adj_idx not in idx_vals:\n",
    "                    idx_vals.append(adj_idx) # these are the new index values that are going to be iterated over again\n",
    "\n",
    "    return idx_vals\n",
    "            \n",
    "def calc_clusters(var_bool, len_lat, len_lon):\n",
    "    \"\"\"\n",
    "    Returns a list of grouped clusters using the nearest neighbour\n",
    "    \"\"\"\n",
    "    lat_idx_vals, lon_idx_vals = np.where(var_bool > 0)\n",
    "    lat_lon_idx_vals = [(lat_idx, lon_idx) for lat_idx, lon_idx in zip(lat_idx_vals, lon_idx_vals)]\n",
    "    cluster, cluster_arr = [], []\n",
    "    #print(lat_lon_idx_vals)\n",
    "    for i in range(lon_idx_vals.shape[0]):\n",
    "        #print(i)\n",
    "        #need to find in the whole array if there are any matching index values that are adjacent and haven't already been put into the cluster\n",
    "        lat_idx, lon_idx = lat_lon_idx_vals[i]\n",
    "        #print(lat_idx, lon_idx)\n",
    "        if sum([(lat_idx, lon_idx) in cluster for cluster in cluster_arr]) == 0: #check if lat or lon index already in a cluster\n",
    "            cluster, idx_vals = [], []\n",
    "            idx_vals = add_adjacent_idx_to_cluster(lat_idx, lon_idx, cluster, idx_vals, lat_lon_idx_vals, len_lat, len_lon)\n",
    "            num_idx_vals = len(idx_vals) # number of idx vals in cluster not looped across yet\n",
    "            #print(f\"num_idx_vals = {num_idx_vals}\")\n",
    "            idx_vals_old, idx_vals_new = idx_vals.copy(), idx_vals.copy()\n",
    "            while (num_idx_vals > 0): # while there are still index values in the nearest neighbour\n",
    "                #loop through all the adjacent values that are also blocked\n",
    "                for lat_idx, lon_idx in (idx_vals_old):\n",
    "                    #for each adjacent value that is also blocked, identify the new index values\n",
    "                    idx_vals_new = add_adjacent_idx_to_cluster(lat_idx, lon_idx, cluster, idx_vals_new, lat_lon_idx_vals, len_lat, len_lon)\n",
    "                    #remove the idx_val that has been looped over from the list\n",
    "                    idx_vals_new.remove((lat_idx, lon_idx))                \n",
    "                idx_vals_old = idx_vals_new.copy()\n",
    "                #print(f\"num_idx_vlas = {len(idx_vals_old)}\")\n",
    "                num_idx_vals = len(idx_vals_old)\n",
    "                #if num_idx_vals == 0:\n",
    "                    #print(\"HERE\")\n",
    "                    #break\n",
    "            cluster_arr.append((cluster))\n",
    "        else:\n",
    "            pass #here if current index in loop is already in a cluster\n",
    "\n",
    "    return cluster_arr    \n",
    "    \n",
    "\n",
    "\n",
    "# In[9]:\n",
    "\n",
    "\n",
    "#adapted from https://gis.stackexchange.com/questions/99917/converting-matplotlib-contour-objects-to-shapely-objects\n",
    "def find_nearest(array, value):\n",
    "    array = np.asarray(array)\n",
    "    idx = (np.abs(array - value)).argmin()\n",
    "    return idx+1\n",
    "\n",
    "def area_test(var_bool_samp, lat, lon, area_thresh, lon_corr, area_cell, time_val, i):\n",
    "    \"\"\"\n",
    "    Calculate the polygon shapes, determine the area for the blocked polygons and if there is a\n",
    "    blocked polygon identify whether or not it passes the area_thresh threshold\n",
    "    if so, then day is blocked\n",
    "    #Length of 1 degree of Longitude = cosine (latitude in decimal degrees) * length of degree (miles) at equator\n",
    "    #Each degree of latitude is approximately 69 miles (111 kilometers) apart\n",
    "    #The range varies (due to the earth's slightly ellipsoid shape) from 68.703 miles (110.567 km) at the equator to 69.407 (111.699 km) at the poles    \n",
    "    \"\"\"\n",
    "    blocked_day = 0\n",
    "    \n",
    "    #plt.pcolormesh(lon,lat,var_bool_samp)\n",
    "    #CS = plt.contour(lon,lat,var_bool)# corner_mask=True,interpolation='none')\n",
    "    #print(f\"var_bool.sum() = {var_bool.sum()}\")\n",
    "    #plt.close()\n",
    "    #plt.pcolormesh(lon,lat,var_bool)\n",
    "    #fig=plt.figure()\n",
    "    #plt.pcolormesh(lon,lat,var_bool)\n",
    "    var_bool_blocked_idx = np.zeros((len(lat),len(lon)))#use to identify blocked regions\n",
    "    cluster_num = 0\n",
    "\n",
    "    var_bool_blocked_idx=xarray.DataArray(var_bool_samp*0, name = \"TM90_clusters\", coords=var_bool_samp.coords)\n",
    "    #print(f\"var_bool_blocked_idx = {var_bool_blocked_idx}\")\n",
    "    #calculate all of the clusters for this time step\n",
    "    cluster_arr = calc_clusters(var_bool_samp, len(lat), len(lon))\n",
    "    #print(f\"var_bool_samp.sum() = {var_bool_samp.sum()}\")\n",
    "    for cluster in cluster_arr:\n",
    "        #calculate the area of different clusters by projecting the lat/lon values onto a boolean lat/lon grid area_cell grid\n",
    "        #and multiplying this by the area_cell grid to obtain the area\n",
    "        \n",
    "        #print(f\"cluster = {cluster}\")\n",
    "        var_bool_cluster = np.zeros((len(lat),len(lon)))\n",
    "        for lat_idx, lon_idx in cluster:\n",
    "            #print(f\"lat_idx, lon_idx = {lat_idx, lon_idx}\")\n",
    "            \n",
    "            var_bool_cluster[lat_idx,lon_idx] = 1\n",
    "        #fig = plt.figure()\n",
    "        #plt.pcolormesh(lon,lat,var_bool_cluster)            \n",
    "        #print(f\"var_bool_cluster = {var_bool_cluster}\")    \n",
    "        area_cell_sum=(area_cell*var_bool_cluster).sum().values\n",
    "        #plt.pcolormesh(lon,lat,area_cell) \n",
    "        #plt.colorbar()\n",
    "        #print(f\"var_bool_cluster.sum() = {var_bool_cluster.sum()}\")\n",
    "        #print(f\"area_cell_sum = {area_cell_sum} km^2\")\n",
    "        #print(f\"area_cell_sum_tot = {area_cell.sum().values} km^2\")\n",
    "        \n",
    "        #if this area > area_thresh, add the cluster to the 2D lat/lon grid for overlap calculation\n",
    "        if area_cell_sum > area_thresh:\n",
    "            #print(\"BLOCKED\")\n",
    "            #label day as blocked\n",
    "            cluster_num += 1\n",
    "            blocked_day = 1\n",
    "            for lat_idxs, lon_idxs in cluster:\n",
    "                var_bool_blocked_idx[lat_idxs,lon_idxs]=1\n",
    "            #label the centre lat, lon idx value with a 2\n",
    "            lats_arr, lons_arr = ([i[0] for i in cluster], [i[1] for i in cluster])\n",
    "            lat_centroid, lon_centroid = (np.median(lats_arr), np.median(lons_arr))\n",
    "            # if there isn't a value in the middle then set the two neighbouring middle indices to 2 (effectively blur the two centroids)\n",
    "            #otherwise there would be a bias to highlighting blicking in E/W or N/S directions\n",
    "            if lon_centroid%1 == 0 and lat_centroid%1 == 0:  \n",
    "                #print(lat_centroid, lon_centroid)\n",
    "                #print(cluster)\n",
    "                identify_centroid_within_cluster(lat_centroid, lon_centroid, cluster, var_bool_blocked_idx)\n",
    "            else: # if there isn't a value in the middle then set the two neighbouring middle indices to 2 (effectively blur the two centroids)\n",
    "                if lat_centroid%1 != 0:\n",
    "                    lat_centroid_arr = [lat_centroid-0.5, lat_centroid+0.5]\n",
    "                    lon_centroid_arr = [lon_centroid, lon_centroid]\n",
    "                if lon_centroid%1 != 0:\n",
    "                    lat_centroid_arr = [lat_centroid, lat_centroid]\n",
    "                    lon_centroid_arr = [lon_centroid-0.5, lon_centroid+0.5]\n",
    "                if lon_centroid%1 != 0 and lat_centroid%1 != 0:    #when no middle lat or lon - create a centroid blob containing 4 tiles\n",
    "                    lon_centroid_arr = [lon_centroid-0.5, lon_centroid+0.5, lon_centroid-0.5, lon_centroid+0.5]\n",
    "                    lat_centroid_arr = [lat_centroid-0.5, lat_centroid+0.5, lat_centroid+0.5, lat_centroid-0.5]\n",
    "                for lat_centroid, lon_centroid in zip(lat_centroid_arr, lon_centroid_arr):\n",
    "                    identify_centroid_within_cluster(lat_centroid, lon_centroid, cluster, var_bool_blocked_idx)\n",
    "    return var_bool_blocked_idx, cluster_num\n"
   ]
  },
  {
   "cell_type": "code",
   "execution_count": 27,
   "metadata": {},
   "outputs": [],
   "source": [
    "zg_anom = xr.open_dataset(\"/rds/general/project/carl_phd/live/carl/data/cmip6/UKESM1-0-LL/piControl/day/r1i1p1f2/zg/\"\n",
    "                \"500zg_day_UKESM1-0-LL_piControl_r1i1p1f2_gn_19600101-20601230_EUR_anom.nc\")['zg'].squeeze()"
   ]
  },
  {
   "cell_type": "code",
   "execution_count": 10,
   "metadata": {},
   "outputs": [
    {
     "data": {
      "text/plain": [
       "['/rds/general/project/carl_phd/live/carl/data/cmip6/UKESM1-0-LL/piControl/day/r1i1p1f2/zg/500zg_day_UKESM1-0-LL_piControl_r1i1p1f2_gn_19600101-20601230_EUR.nc',\n",
       " '/rds/general/project/carl_phd/live/carl/data/cmip6/UKESM1-0-LL/piControl/day/r1i1p1f2/zg/500zg_day_UKESM1-0-LL_piControl_r1i1p1f2_gn_19600101-20601230_EUR_anom.nc',\n",
       " '/rds/general/project/carl_phd/live/carl/data/cmip6/UKESM1-0-LL/piControl/day/r1i1p1f2/zg/500zg_day_UKESM1-0-LL_piControl_r1i1p1f2_gn_19600101-20601230_EUR_ydayavg.nc',\n",
       " '/rds/general/project/carl_phd/live/carl/data/cmip6/UKESM1-0-LL/piControl/day/r1i1p1f2/zg/500zg_day_UKESM1-0-LL_piControl_r1i1p1f2_gn_19600101-20601230_NHML.nc']"
      ]
     },
     "execution_count": 10,
     "metadata": {},
     "output_type": "execute_result"
    }
   ],
   "source": [
    "sorted(glob.glob((\"/rds/general/project/carl_phd/live/carl/data/cmip6/UKESM1-0-LL/piControl/day/r1i1p1f2/zg/*\")))"
   ]
  },
  {
   "cell_type": "code",
   "execution_count": 18,
   "metadata": {},
   "outputs": [],
   "source": [
    "EUR_zg=xr.open_dataset('/rds/general/user/cmt3718/home/data/cmip6/UKESM1-0-LL/piControl/r1i1p1f2/zg/'\n",
    "                       '500zg_day_UKESM1-0-LL_piControl_r1i1p1f2_gn_19600101-20601230_r180x91_LTDManom_EUR.nc')['zg'].squeeze()\n",
    "EUR2_zg=xr.open_dataset('/rds/general/user/cmt3718/home/data/cmip6/UKESM1-0-LL/piControl/r1i1p1f2/zg/'\n",
    "                        '500zg_day_UKESM1-0-LL_piControl_r1i1p1f2_gn_19600101-20601230_r180x91_LTDManom_EUR2.nc')['zg'].squeeze()"
   ]
  },
  {
   "cell_type": "code",
   "execution_count": 32,
   "metadata": {},
   "outputs": [],
   "source": [
    "EUR_zg_JJAextd = EUR_zg.sel(time=np.isin(EUR_zg['time.dayofyear'], np.arange(147,245)))"
   ]
  },
  {
   "cell_type": "code",
   "execution_count": 40,
   "metadata": {},
   "outputs": [],
   "source": [
    "EUR_zg_JJAextd_times=[EUR_zg_JJAextd[i]*0+i for i in range(EUR_zg_JJAextd.shape[0])]"
   ]
  },
  {
   "cell_type": "code",
   "execution_count": 41,
   "metadata": {},
   "outputs": [],
   "source": [
    "x=xr.concat(EUR_zg_JJAextd_times, dim=\"time\")"
   ]
  },
  {
   "cell_type": "code",
   "execution_count": 45,
   "metadata": {},
   "outputs": [
    {
     "name": "stdout",
     "output_type": "stream",
     "text": [
      "calculated sum\n",
      "calculated mixed terms\n"
     ]
    }
   ],
   "source": [
    "#time detrend\n",
    "#stats.linregress(range(9898), EUR_zg_JJAextd[:,0,0])\n",
    "\n",
    "y = EUR_zg_JJAextd\n",
    "#y['longitude']=x['longitude']\n",
    "Sum_x, Sum_y = (x.sum(axis=0)), (y.sum(axis=0))\n",
    "print(\"calculated sum\")\n",
    "Sum_x2 = (x*x).sum(axis=0)\n",
    "Sum_y2 = (y*y).sum(axis=0)\n",
    "Sum_xy = (x*y).sum(axis=0)\n",
    "mean = float(y.mean())\n",
    "print(\"calculated mixed terms\") \n",
    "#print(Sum_xy, Sum_x2, Sum_y2)\n",
    "n = x.shape[0]\n",
    "m = (n*Sum_xy - Sum_x*Sum_y) / (n*Sum_x2 - Sum_x**2)\n",
    "c = (Sum_y*Sum_x2 - Sum_x*Sum_xy) / (n*Sum_x2 - Sum_x**2)\n",
    "\n",
    "\n",
    "#EUR_zg_JJAextd_dtrnd = "
   ]
  },
  {
   "cell_type": "code",
   "execution_count": 59,
   "metadata": {},
   "outputs": [
    {
     "data": {
      "text/plain": [
       "<matplotlib.collections.QuadMesh at 0x1456cf407cc0>"
      ]
     },
     "execution_count": 59,
     "metadata": {},
     "output_type": "execute_result"
    },
    {
     "data": {
      "image/png": "[encoded data removed]",
      "text/plain": [
       "<Figure size 432x288 with 2 Axes>"
      ]
     },
     "metadata": {
      "needs_background": "light"
     },
     "output_type": "display_data"
    }
   ],
   "source": [
    "m.plot()"
   ]
  },
  {
   "cell_type": "code",
   "execution_count": 62,
   "metadata": {},
   "outputs": [],
   "source": [
    "time_trend = m*x+c"
   ]
  },
  {
   "cell_type": "code",
   "execution_count": 68,
   "metadata": {},
   "outputs": [],
   "source": [
    "EUR_zg_JJAextd_dtrnd = EUR_zg_JJAextd-time_trend"
   ]
  },
  {
   "cell_type": "code",
   "execution_count": 77,
   "metadata": {},
   "outputs": [
    {
     "data": {
      "text/plain": [
       "<matplotlib.collections.QuadMesh at 0x1456cef62eb8>"
      ]
     },
     "execution_count": 77,
     "metadata": {},
     "output_type": "execute_result"
    },
    {
     "data": {
      "image/png": "[encoded data removed]",
      "text/plain": [
       "<Figure size 432x288 with 2 Axes>"
      ]
     },
     "metadata": {
      "needs_background": "light"
     },
     "output_type": "display_data"
    }
   ],
   "source": [
    "EUR_zg_JJAextd_dtrnd[-1].plot()"
   ]
  },
  {
   "cell_type": "code",
   "execution_count": 79,
   "metadata": {},
   "outputs": [],
   "source": [
    "EUR_zg_JJAextd_dtrnd.to_netcdf('/rds/general/user/cmt3718/home/data/cmip6/UKESM1-0-LL/piControl/r1i1p1f2/zg/'\n",
    "                       '500zg_day_UKESM1-0-LL_piControl_r1i1p1f2_gn_19600101-20601230_r180x91_LTDManom_EUR_JJAextd_dtrnd.nc')"
   ]
  },
  {
   "cell_type": "code",
   "execution_count": 84,
   "metadata": {},
   "outputs": [],
   "source": [
    "\n",
    "#dp latitude correction\n",
    "\n",
    "lat_corr=np.sin(np.radians(45))/np.sin(np.radians(EUR_zg_JJAextd_dtrnd['lat']))\n",
    "\n",
    "\n",
    "zg_lat_corr=EUR_zg_JJAextd_dtrnd*lat_corr\n",
    "zg_lat_corr_rn=xr.DataArray(EUR_zg_JJAextd_dtrnd, name=\"zg\")\n",
    "zg_lat_corr_rn.to_netcdf('/rds/general/user/cmt3718/home/data/cmip6/UKESM1-0-LL/piControl/r1i1p1f2/zg/'\n",
    "                       '500zg_day_UKESM1-0-LL_piControl_r1i1p1f2_gn_19600101-20601230_r180x91_LTDManom_EUR_JJAextd_dtrnd_latcorr.nc')\n",
    "#cdo timstd 500zg_day_UKESM1-0-LL_piControl_r1i1p1f2_gn_19600101-20601230_r180x91_LTDManom_EUR_JJAextd_dtrnd_latcorr.nc\n",
    "#500zg_day_UKESM1-0-LL_piControl_r1i1p1f2_gn_19600101-20601230_r180x91_LTDManom_EUR_JJAextd_dtrnd_latcorr_timstd.nc"
   ]
  },
  {
   "cell_type": "code",
   "execution_count": 95,
   "metadata": {},
   "outputs": [],
   "source": [
    "\n",
    "zg_file=xr.open_dataset('/rds/general/user/cmt3718/home/data/cmip6/UKESM1-0-LL/piControl/r1i1p1f2/zg/'\n",
    "    '500zg_day_UKESM1-0-LL_piControl_r1i1p1f2_gn_19600101-20601230_r180x91_LTDManom_EUR_JJAextd_dtrnd_latcorr.nc')['zg'].squeeze()\n",
    "\n",
    "zg_file_timstd=xr.open_dataset('/rds/general/user/cmt3718/home/data/cmip6/UKESM1-0-LL/piControl/r1i1p1f2/zg/'\n",
    "    '500zg_day_UKESM1-0-LL_piControl_r1i1p1f2_gn_19600101-20601230_r180x91_LTDManom_EUR_JJAextd_dtrnd_latcorr_timstd.nc')['zg'].squeeze()"
   ]
  },
  {
   "cell_type": "code",
   "execution_count": 93,
   "metadata": {},
   "outputs": [],
   "source": [
    "amp_min_anom_thresh = 100\n",
    "var_anom_thresh_arr = zg_file_timstd*1.5\n",
    "var_anom_minthresh_arr = np.asarray(np.where(var_anom_thresh_arr < amp_min_anom_thresh))\n",
    "if var_anom_minthresh_arr.shape[1] > 0:\n",
    "    for var_anom_minthresh_lat, var_anom_minthresh_lon in zip(var_anom_minthresh_arr[0], var_anom_minthresh_arr[1]):\n",
    "        var_anom_thresh_arr[var_anom_minthresh_lat, var_anom_minthresh_lon] = amp_min_anom_thresh"
   ]
  },
  {
   "cell_type": "code",
   "execution_count": 96,
   "metadata": {},
   "outputs": [],
   "source": [
    "var_bool=(zg_file>var_anom_thresh_arr)"
   ]
  },
  {
   "cell_type": "code",
   "execution_count": 99,
   "metadata": {},
   "outputs": [],
   "source": [
    "var_bool.to_netcdf('/rds/general/user/cmt3718/home/data/cmip6/UKESM1-0-LL/piControl/r1i1p1f2/zg/'\n",
    "    '500zg_day_UKESM1-0-LL_piControl_r1i1p1f2_gn_19600101-20601230_r180x91_LTDManom_EUR_JJAextd_dtrnd_latcorr_DG83bool.nc')\n",
    "#.mean(axis=0).plot()"
   ]
  },
  {
   "cell_type": "code",
   "execution_count": 94,
   "metadata": {},
   "outputs": [
    {
     "data": {
      "text/plain": [
       "<matplotlib.collections.QuadMesh at 0x1456cec37ac8>"
      ]
     },
     "execution_count": 94,
     "metadata": {},
     "output_type": "execute_result"
    },
    {
     "data": {
      "image/png": "[encoded data removed]",
      "text/plain": [
       "<Figure size 432x288 with 2 Axes>"
      ]
     },
     "metadata": {
      "needs_background": "light"
     },
     "output_type": "display_data"
    }
   ],
   "source": [
    "var_anom_thresh_arr.plot()"
   ]
  },
  {
   "cell_type": "code",
   "execution_count": null,
   "metadata": {},
   "outputs": [],
   "source": []
  },
  {
   "cell_type": "code",
   "execution_count": 3,
   "metadata": {},
   "outputs": [],
   "source": [
    "var_bool=xr.open_dataset(\"/rds/general/user/cmt3718/home/data/cmip6/UKESM1-0-LL/piControl/r1i1p1f2/zg/\"\n",
    "                         \"500zg_day_UKESM1-0-LL_piControl_r1i1p1f2_gn_19600101-20601230_r180x91_LTDManom_EUR2_JJAextd_dtrnd_DG83bool.nc\")\n"
   ]
  },
  {
   "cell_type": "code",
   "execution_count": 7,
   "metadata": {},
   "outputs": [
    {
     "data": {
      "text/plain": [
       "<matplotlib.collections.QuadMesh at 0x1456e6016f98>"
      ]
     },
     "execution_count": 7,
     "metadata": {},
     "output_type": "execute_result"
    },
    {
     "data": {
      "image/png": "[encoded data removed]",
      "text/plain": [
       "<Figure size 432x288 with 2 Axes>"
      ]
     },
     "metadata": {
      "needs_background": "light"
     },
     "output_type": "display_data"
    }
   ],
   "source": [
    "var_bool['zg'].mean(axis=0).plot()"
   ]
  },
  {
   "cell_type": "code",
   "execution_count": null,
   "metadata": {},
   "outputs": [],
   "source": []
  },
  {
   "cell_type": "code",
   "execution_count": 3,
   "metadata": {},
   "outputs": [
    {
     "data": {
      "text/plain": [
       "<xarray.Dataset>\n",
       "Dimensions:    (latitude: 46, longitude: 51, time: 4100)\n",
       "Coordinates:\n",
       "  * time       (time) datetime64[ns] 1979-05-28T10:30:00 ... 2019-09-04T10:30:00\n",
       "  * latitude   (latitude) float32 30.0 31.0 32.0 33.0 ... 72.0 73.0 74.0 75.0\n",
       "  * longitude  (longitude) float32 -10.0 -9.0 -8.0 -7.0 ... 37.0 38.0 39.0 40.0\n",
       "Data variables:\n",
       "    zg         (time, latitude, longitude) bool ..."
      ]
     },
     "execution_count": 3,
     "metadata": {},
     "output_type": "execute_result"
    }
   ],
   "source": [
    "xr.open_dataset(\"/rds/general/project/carl_phd/live/carl/data/era5/day/zg/LTDM/500zg_day_era5_reanal_1979-2019_EUR2_JJAextd_dtrnd_DG83bool.nc\")"
   ]
  },
  {
   "cell_type": "code",
   "execution_count": null,
   "metadata": {},
   "outputs": [],
   "source": []
  },
  {
   "cell_type": "code",
   "execution_count": 5,
   "metadata": {},
   "outputs": [
    {
     "data": {
      "text/plain": [
       "<matplotlib.collections.QuadMesh at 0x2ab4ef069908>"
      ]
     },
     "execution_count": 5,
     "metadata": {},
     "output_type": "execute_result"
    },
    {
     "data": {
      "image/png": "[encoded data removed]",
      "text/plain": [
       "<Figure size 432x288 with 2 Axes>"
      ]
     },
     "metadata": {
      "needs_background": "light"
     },
     "output_type": "display_data"
    }
   ],
   "source": [
    "S04=xr.open_dataset(\"/rds/general/user/cmt3718/home/data/reanal/S04/block_data/S04_clusters_era5_reanal_EUR_ssp585_JJAextd_1979-2019.nc\")['TM90_clusters']\n",
    "\n",
    "\n",
    "S04.mean(axis=0).plot()"
   ]
  },
  {
   "cell_type": "code",
   "execution_count": 4,
   "metadata": {},
   "outputs": [
    {
     "data": {
      "text/plain": [
       "<xarray.DataArray 'z' (time: 4100, latitude: 46, longitude: 51)>\n",
       "[9618600 values with dtype=float64]\n",
       "Coordinates:\n",
       "  * time       (time) datetime64[ns] 1979-05-28T10:30:00 ... 2019-09-04T10:30:00\n",
       "  * latitude   (latitude) float32 30.0 31.0 32.0 33.0 ... 72.0 73.0 74.0 75.0\n",
       "  * longitude  (longitude) float32 -10.0 -9.0 -8.0 -7.0 ... 37.0 38.0 39.0 40.0"
      ]
     },
     "execution_count": 4,
     "metadata": {},
     "output_type": "execute_result"
    }
   ],
   "source": [
    "xr.open_dataset(\"/rds/general/project/carl_phd/live/carl/data/era5/day/zg/LTDM/z_timedtrnd_ERA5_1979-2019_EUR_JJAextd_LTDMdaymean_anom_sort.nc\")['z']"
   ]
  },
  {
   "cell_type": "code",
   "execution_count": 7,
   "metadata": {},
   "outputs": [],
   "source": [
    "#apply lat_corr to DG83 data - ERA5\n",
    "\n",
    "zg_file = xr.open_dataset(\"/rds/general/project/carl_phd/live/carl/data/era5/day/zg/LTDM/z_timedtrnd_ERA5_1979-2019_EUR_JJAextd_LTDMdaymean_anom_sort.nc\")['z']\n",
    "\n",
    "\n",
    "lat_corr=np.sin(np.radians(45))/np.sin(np.radians(zg_file['latitude']))\n",
    "\n",
    "\n",
    "zg_lat_corr=zg_file*lat_corr\n",
    "zg_lat_corr_rn=xr.DataArray(zg_lat_corr, name=\"zg\")\n",
    "zg_lat_corr_rn.to_netcdf(\"/rds/general/project/carl_phd/live/carl/data/era5/day/zg/LTDM/z_timedtrnd_ERA5_1979-2019_EUR_JJAextd_LTDMdaymean_anom_sort_latcorr.nc\")\n"
   ]
  },
  {
   "cell_type": "code",
   "execution_count": null,
   "metadata": {},
   "outputs": [],
   "source": [
    "\n",
    "cd /rds/general/project/carl_phd/live/carl/data/era5/day/zg/LTDM/\n",
    "cdo timstd z_timedtrnd_ERA5_1979-2019_EUR_JJAextd_LTDMdaymean_anom_sort_latcorr.nc  z_timedtrnd_ERA5_1979-2019_EUR_JJAextd_LTDMdaymean_anom_sort_latcorr_timstd.nc"
   ]
  },
  {
   "cell_type": "code",
   "execution_count": 89,
   "metadata": {},
   "outputs": [],
   "source": [
    "\n",
    "#create var_bool file for ERA5 DG83:\n",
    "\n",
    "zg_file=xr.open_dataset(\"/rds/general/project/carl_phd/live/carl/data/era5/day/zg/LTDM/z_timedtrnd_ERA5_1979-2019_EUR_JJAextd_LTDMdaymean_anom_sort_latcorr.nc\")['zg']\n",
    "zg_file_timstd=xr.open_dataset(\"/rds/general/project/carl_phd/live/carl/data/era5/day/zg/LTDM/z_timedtrnd_ERA5_1979-2019_EUR_JJAextd_LTDMdaymean_anom_sort_latcorr_timstd.nc\")['zg'].squeeze()\n"
   ]
  },
  {
   "cell_type": "code",
   "execution_count": 90,
   "metadata": {},
   "outputs": [],
   "source": [
    "amp_min_anom_thresh = 100\n",
    "var_anom_thresh_arr = zg_file_timstd*1.5\n",
    "var_anom_minthresh_arr = np.asarray(np.where(var_anom_thresh_arr < amp_min_anom_thresh))\n",
    "if var_anom_minthresh_arr.shape[1] > 0:\n",
    "    for var_anom_minthresh_lat, var_anom_minthresh_lon in zip(var_anom_minthresh_arr[0], var_anom_minthresh_arr[1]):\n",
    "        var_anom_thresh_arr[var_anom_minthresh_lat, var_anom_minthresh_lon] = amp_min_anom_thresh"
   ]
  },
  {
   "cell_type": "code",
   "execution_count": 91,
   "metadata": {},
   "outputs": [
    {
     "data": {
      "text/plain": [
       "<matplotlib.collections.QuadMesh at 0x1456cf4e0518>"
      ]
     },
     "execution_count": 91,
     "metadata": {},
     "output_type": "execute_result"
    },
    {
     "data": {
      "image/png": "[encoded data removed]",
      "text/plain": [
       "<Figure size 432x288 with 2 Axes>"
      ]
     },
     "metadata": {
      "needs_background": "light"
     },
     "output_type": "display_data"
    }
   ],
   "source": [
    "var_anom_thresh_arr.plot()#ERA5 zg"
   ]
  },
  {
   "cell_type": "code",
   "execution_count": 88,
   "metadata": {},
   "outputs": [
    {
     "data": {
      "text/plain": [
       "<matplotlib.collections.QuadMesh at 0x1456cc66ce10>"
      ]
     },
     "execution_count": 88,
     "metadata": {},
     "output_type": "execute_result"
    },
    {
     "data": {
      "image/png": "[encoded data removed]",
      "text/plain": [
       "<Figure size 432x288 with 2 Axes>"
      ]
     },
     "metadata": {
      "needs_background": "light"
     },
     "output_type": "display_data"
    }
   ],
   "source": [
    "var_anom_thresh_arr.plot()#UKESM zg"
   ]
  },
  {
   "cell_type": "code",
   "execution_count": 11,
   "metadata": {},
   "outputs": [],
   "source": [
    "var_bool=(zg_file>var_anom_thresh_arr)"
   ]
  },
  {
   "cell_type": "code",
   "execution_count": 13,
   "metadata": {},
   "outputs": [
    {
     "data": {
      "text/plain": [
       "<matplotlib.collections.QuadMesh at 0x2ab4ef265160>"
      ]
     },
     "execution_count": 13,
     "metadata": {},
     "output_type": "execute_result"
    },
    {
     "data": {
      "image/png": "[encoded data removed]",
      "text/plain": [
       "<Figure size 432x288 with 2 Axes>"
      ]
     },
     "metadata": {
      "needs_background": "light"
     },
     "output_type": "display_data"
    }
   ],
   "source": [
    "var_bool.mean(axis=0).plot()"
   ]
  },
  {
   "cell_type": "code",
   "execution_count": 14,
   "metadata": {},
   "outputs": [],
   "source": [
    "var_bool.to_netcdf(\"/rds/general/project/carl_phd/live/carl/data/era5/day/zg/LTDM/500zg_day_era5_reanal_1979-2019_EUR2_JJAextd_dtrnd_DG83bool.nc\")\n"
   ]
  },
  {
   "cell_type": "code",
   "execution_count": 38,
   "metadata": {},
   "outputs": [],
   "source": [
    "#apply lat_corr to DG83 data - UKESM\n",
    "\n",
    "zg_file = xr.open_dataset(\"/rds/general/user/cmt3718/home/data/cmip6/UKESM1-0-LL/piControl/r1i1p1f2/zg/500zg_day_UKESM1-0-LL_piControl_r1i1p1f2_gn_19600101-20601230_r180x91_LTDManom_EUR2_JJAextd_dtrnd.nc\")['zg']\n",
    "\n",
    "\n",
    "lat_corr=np.sin(np.radians(45))/np.sin(np.radians(zg_file['lat']))\n",
    "\n",
    "\n",
    "zg_lat_corr=zg_file*lat_corr\n",
    "zg_lat_corr_rn=xr.DataArray(zg_lat_corr, name=\"zg\")\n",
    "zg_lat_corr_rn.to_netcdf(\"/rds/general/user/cmt3718/home/data/cmip6/UKESM1-0-LL/piControl/r1i1p1f2/zg/500zg_day_UKESM1-0-LL_piControl_r1i1p1f2_gn_19600101-20601230_r180x91_LTDManom_EUR2_JJAextd_dtrnd_latcorr.nc\")\n"
   ]
  },
  {
   "cell_type": "code",
   "execution_count": 5,
   "metadata": {},
   "outputs": [],
   "source": [
    "##create var_bool file for UKESM1-0-LL DG83:\n",
    "\n",
    "zg_file=xr.open_dataset(\"/rds/general/user/cmt3718/home/data/cmip6/UKESM1-0-LL/piControl/r1i1p1f2/zg/500zg_day_UKESM1-0-LL_piControl_r1i1p1f2_gn_19600101-20601230_r180x91_LTDManom_EUR2_JJAextd_dtrnd_latcorr.nc\")['zg']\n",
    "zg_file_timstd=xr.open_dataset(\"/rds/general/user/cmt3718/home/data/cmip6/UKESM1-0-LL/piControl/r1i1p1f2/zg/500zg_day_UKESM1-0-LL_piControl_r1i1p1f2_gn_19600101-20601230_r180x91_LTDManom_EUR2_JJAextd_dtrnd_latcorr_timstd.nc\")['zg'].squeeze()\n"
   ]
  },
  {
   "cell_type": "code",
   "execution_count": 23,
   "metadata": {},
   "outputs": [
    {
     "data": {
      "text/plain": [
       "<matplotlib.collections.QuadMesh at 0x2b4ab4235630>"
      ]
     },
     "execution_count": 23,
     "metadata": {},
     "output_type": "execute_result"
    },
    {
     "data": {
      "image/png": "[encoded data removed]",
      "text/plain": [
       "<Figure size 432x288 with 2 Axes>"
      ]
     },
     "metadata": {
      "needs_background": "light"
     },
     "output_type": "display_data"
    }
   ],
   "source": [
    "var_anom_thresh_arr.plot()"
   ]
  },
  {
   "cell_type": "code",
   "execution_count": 26,
   "metadata": {},
   "outputs": [],
   "source": [
    "var_bool=(zg_file>var_anom_thresh_arr)"
   ]
  },
  {
   "cell_type": "code",
   "execution_count": 29,
   "metadata": {},
   "outputs": [
    {
     "data": {
      "text/plain": [
       "<matplotlib.collections.QuadMesh at 0x2b4ab4497630>"
      ]
     },
     "execution_count": 29,
     "metadata": {},
     "output_type": "execute_result"
    },
    {
     "data": {
      "image/png": "[encoded data removed]",
      "text/plain": [
       "<Figure size 432x288 with 2 Axes>"
      ]
     },
     "metadata": {
      "needs_background": "light"
     },
     "output_type": "display_data"
    }
   ],
   "source": [
    "var_bool.mean(axis=0).plot()"
   ]
  },
  {
   "cell_type": "code",
   "execution_count": 31,
   "metadata": {},
   "outputs": [],
   "source": [
    "var_bool.to_netcdf(\"/rds/general/user/cmt3718/home/data/cmip6/UKESM1-0-LL/piControl/r1i1p1f2/zg/\"\n",
    "    \"500zg_day_UKESM1-0-LL_piControl_r1i1p1f2_gn_19600101-20601230_r180x91_LTDManom_EUR2_JJAextd_dtrnd_DG83bool.nc\")\n"
   ]
  },
  {
   "cell_type": "code",
   "execution_count": 15,
   "metadata": {},
   "outputs": [
    {
     "data": {
      "text/plain": [
       "<xarray.Dataset>\n",
       "Dimensions:        (latitude: 47, longitude: 51, time: 100)\n",
       "Coordinates:\n",
       "  * longitude      (longitude) float32 -10.0 -9.0 -8.0 -7.0 ... 38.0 39.0 40.0\n",
       "  * latitude       (latitude) float32 30.0 31.0 32.0 33.0 ... 74.0 75.0 76.0\n",
       "  * time           (time) datetime64[ns] 2019-05-28T10:30:00 ... 2019-09-04T10:30:00\n",
       "Data variables:\n",
       "    TM90_clusters  (time, latitude, longitude) int64 ..."
      ]
     },
     "execution_count": 15,
     "metadata": {},
     "output_type": "execute_result"
    }
   ],
   "source": [
    "xr.open_dataset(\"/rds/general/user/cmt3718/home/data/reanal/S04/block_data/S04_clusters_era5_reanal_EUR_ssp585_JJAextd_2019.nc\")"
   ]
  },
  {
   "cell_type": "code",
   "execution_count": null,
   "metadata": {},
   "outputs": [],
   "source": [
    "#/rds/general/user/cmt3718/home/data/reanal/S04/block_data/*S04_clusters_era5_reanal_EUR_ssp585_JJAextd_*"
   ]
  },
  {
   "cell_type": "code",
   "execution_count": 106,
   "metadata": {},
   "outputs": [
    {
     "name": "stdout",
     "output_type": "stream",
     "text": [
      "UKESM1-0-LL r1i1p1f2_piControl 1960 2060\n"
     ]
    }
   ],
   "source": [
    "#implelemnt the amplitude criterea (as above but normalised for when the file is loaded again)\n",
    "#this is the file that is used from the rest of the notebook to implement the other blocking criterea\n",
    "#zg_dtrnd_areaweighted_DG83_varbool=xarray.open_dataset(\"/rds/general/project/carl_phd/live/carl/data/era5/day/zg/\"\n",
    "#                                            \"500zg_JJA_era5_1979-2019_daymean_EurAR5_1x1_anom_dtrnd_wrt_tas_DG83_bool.nc\")['500zg']\n",
    "\n",
    "\n",
    "#run cell for TM90 calculations\n",
    "TM902D_arr = sorted(glob.glob(\"/rds/general/user/cmt3718/home/data/cmip5/TM90_2D/*TM902D*\"))\n",
    "#TM902D_arr.remove('/rds/general/user/cmt3718/home/data/cmip6/TM90_2D/TM902D_CESM2_r10i1p1f1_EURATL_ssp585_JJAextd_1939-1939tot.nc')\n",
    "\n",
    "#TM902D_arr = [\"/rds/general/user/cmt3718/home/data/cmip6/TM90_2D/TM902D_AWI-CM-1-1-MR_r1i1p1f1_EURATL_ssp585_JJAextd_2015-2100tot.nc\"]\n",
    "lons_arr = [170-180,220-180]\n",
    "lats_arr = [30,76]\n",
    "domain = \"EUR\"\n",
    "grid_res = 2\n",
    "lat_str, lon_str = \"lat\", \"lon\"\n",
    "    \n",
    "#var_bool#=xr.open_dataset(\"/rds/general/project/nowack_graven/live/carl/pv_era5/vpv_1x1_150-500hPa_1979-2019_tot_daymean_hires_LTDManom_bool_neg_inv_bool_JJAextdEUR.nc\")['VPV']\n",
    "#xr.open_dataset(\"/rds/general/user/cmt3718/home/data/cmip6/UKESM1-0-LL/piControl/r1i1p1f2/zg/500zg_day_UKESM1-0-LL_piControl_r1i1p1f2_gn_19600101-20601230_r180x91_LTDManom_EUR2_JJAextd_dtrnd_DG83bool.nc\")['zg']\n",
    "\n",
    "    #\"/rds/general/project/carl_phd/live/carl/data/era5/day/zg/\"\n",
    "    #                                        \"500zg_JJA_era5_1979-2019_daymean_EurAR5_1x1_anom_dtrnd_wrt_tas_DG83_bool.nc\")['500zg']    \n",
    "#var_bool = xarray.open_dataset(\"/rds/general/project/nowack_graven/live/carl/pv_era5/\"\n",
    "#                                    \"pv_1x1_150-500hPa_1979-2019_tot_daymean_P19vertmean_LTDManom_bool.nc\")['__xarray_dataarray_variable__']\n",
    "\n",
    "#qsub -v SCRIPT=/rds/general/user/cmt3718/home/notebooks/area_thresh-era5-2.py ipython_qsub.sh\n",
    "    \n",
    "lat, lon = var_bool[lat_str], var_bool[lon_str]\n",
    "#these variables can be modified\n",
    "area_thresh = 1e6 # minimum blocked area in km^2\n",
    "# 1e6 km^2 is a reasonable minimum area since this is approximately the squared radius of a typical anticyclone (pg 10 of Hoskins & James)\n",
    "#grid_res = 1 #grid resolution\n",
    "#create a tuple of the lat/lon coordinates of the grid to test whether or not the grid cells exist within the point\n",
    "lats, lons = np.asarray(np.meshgrid(lat,lon))[0,:,:].flatten(), np.asarray(np.meshgrid(lat,lon))[1,:,:].flatten()\n",
    "grid_coords = list(zip(lats,lons-180))\n",
    "#rough minimum for the number of grid cells needed for a blocking event\n",
    "min_num_grid_cells=area_thresh*np.cos(np.radians(30))/(grid_res*grid_res*110*110) #0.25x0.25 grid x 110km (roughly 1/360 of Earth's circumference)\n",
    "#minimum proportion of grid cells to block\n",
    "prop_blocked_thresh = min_num_grid_cells/(len(lat)*len(lon))\n",
    "\n",
    "lon_corr = [True if var_bool[lon_str].max() > 180 else False][0]\n",
    "if lon_corr:\n",
    "    lon = lon - 180\n",
    "mdl, ens, styr, endyr = \"UKESM1-0-LL\", \"r1i1p1f2_piControl\", 1960, 2060#TM902D_str.split(\"_\")[2], TM902D_str.split(\"_\")[3], TM902D_str.split(\"_\")[-1][:4], TM902D_str.split(\"_\")[-1][5:9]\n",
    "#create a DataArray where each element corresponds to the area of that cell\n",
    "area_cell=xr.DataArray(var_bool[0,:,:],name = \"grid_cell_area\")*0+1\n",
    "area_cell[:,:] = area_cell[:,:]*(np.cos(np.radians(var_bool[lat_str][:]))*111*grid_res)*(111*grid_res)   \n",
    "time, lat, lon = var_bool['time'], var_bool[lat_str], var_bool[lon_str]\n",
    "blocked_day_arr = np.zeros((len(var_bool['time'])))\n",
    "print(mdl,ens,styr,endyr)\n",
    "var_bool_blocked_arr = []\n",
    "cs_2003_idxvals = np.arange(24*92+62,24*92+74+1)\n",
    "cs_2019_idxvals = np.arange(-92+20,-92+23+10)\n",
    "\n",
    "JJA_days = len(np.unique(var_bool['time.dayofyear']))\n",
    "\n",
    "\n",
    "\n",
    "for year_num in range(0,101):\n",
    "    year = 1960+year_num\n",
    "    var_bool_blocked_arr=[]\n",
    "    for i in np.arange(year_num*JJA_days,(year_num+1)*JJA_days):\n",
    "        #if i%2 == 0:\n",
    "        #print(f\"calculating day {i} for year {year}\")\n",
    "            #print(f\"{100*i/time.shape[0]}% done\")\n",
    "        var_bool_blocked, cluster_num = area_test(var_bool[i,:,:], lat, lon, area_thresh, lon_corr, area_cell, var_bool['time'][i], i)\n",
    "                    #fig = plt.figure()\n",
    "                    #plt.pcolormesh(lon,lat,var_bool_blocked)\n",
    "                    ##var_bool_samp, lat, lon, area_thresh, lon_corr, area_cell, time_val\n",
    "        var_bool_blocked_arr.append(var_bool_blocked)\n",
    "    var_bool_blocked_clusters = xarray.concat(var_bool_blocked_arr, dim='time')\n",
    "    var_bool_blocked_clusters.to_netcdf(f\"/rds/general/user/cmt3718/home/data/UKESM1-0-LL_piControl/DG83/DG83_clusters_{mdl}_{ens}_{domain}_ssp585_JJAextd_{year}.nc\")\n",
    "        #f\"/rds/general/user/cmt3718/home/data/reanal/DG83/block_data/DG83_clusters_{mdl}_{ens}_{domain}_ssp585_JJAextd_{year}.nc\")\n",
    "        #f\"/rds/general/user/cmt3718/home/data/UKESM1-0-LL_piControl/AGP/DG83_clusters_{mdl}_{ens}_{domain}_ssp585_JJA_{year}.nc\")\n",
    "\n"
   ]
  },
  {
   "cell_type": "code",
   "execution_count": 108,
   "metadata": {},
   "outputs": [],
   "source": [
    "DG83=xr.open_dataset(\"/rds/general/user/cmt3718/home/data/UKESM1-0-LL_piControl/DG83/DG83_clusters_UKESM1-0-LL_r1i1p1f2_piControl_EUR_ssp585_JJAextd_1960-2060.nc\")['TM90_clusters']"
   ]
  },
  {
   "cell_type": "code",
   "execution_count": 110,
   "metadata": {},
   "outputs": [
    {
     "data": {
      "text/plain": [
       "<matplotlib.collections.QuadMesh at 0x1456d748a828>"
      ]
     },
     "execution_count": 110,
     "metadata": {},
     "output_type": "execute_result"
    },
    {
     "data": {
      "image/png": "[encoded data removed]",
      "text/plain": [
       "<Figure size 432x288 with 2 Axes>"
      ]
     },
     "metadata": {
      "needs_background": "light"
     },
     "output_type": "display_data"
    }
   ],
   "source": [
    "DG83.mean(axis=0).plot()"
   ]
  },
  {
   "cell_type": "code",
   "execution_count": 103,
   "metadata": {},
   "outputs": [
    {
     "data": {
      "text/plain": [
       "98"
      ]
     },
     "execution_count": 103,
     "metadata": {},
     "output_type": "execute_result"
    }
   ],
   "source": [
    "len(np.unique(var_bool['time.dayofyear']))"
   ]
  },
  {
   "cell_type": "code",
   "execution_count": 18,
   "metadata": {},
   "outputs": [
    {
     "data": {
      "text/plain": [
       "<matplotlib.collections.QuadMesh at 0x2b6f391db828>"
      ]
     },
     "execution_count": 18,
     "metadata": {},
     "output_type": "execute_result"
    },
    {
     "data": {
      "image/png": "[encoded data removed]",
      "text/plain": [
       "<Figure size 432x288 with 2 Axes>"
      ]
     },
     "metadata": {
      "needs_background": "light"
     },
     "output_type": "display_data"
    }
   ],
   "source": [
    "var_bool_blocked_clusters.mean(axis=0).plot()"
   ]
  },
  {
   "cell_type": "code",
   "execution_count": null,
   "metadata": {},
   "outputs": [],
   "source": []
  },
  {
   "cell_type": "code",
   "execution_count": null,
   "metadata": {},
   "outputs": [],
   "source": [
    "#implelemnt the amplitude criterea (as above but normalised for when the file is loaded again)\n",
    "#this is the file that is used from the rest of the notebook to implement the other blocking criterea\n",
    "zg_dtrnd_areaweighted_DG83_varbool=xarray.open_dataset(\"/rds/general/project/carl_phd/live/carl/data/era5/day/zg/\"\n",
    "                                            \"500zg_JJA_era5_1979-2019_daymean_EurAR5_1x1_anom_dtrnd_wrt_tas_DG83_bool.nc\")['500zg']\n",
    "\n",
    "\n",
    "#run cell for TM90 calculations\n",
    "TM902D_arr = sorted(glob.glob(\"/rds/general/user/cmt3718/home/data/cmip5/TM90_2D/*TM902D*\"))\n",
    "#TM902D_arr.remove('/rds/general/user/cmt3718/home/data/cmip6/TM90_2D/TM902D_CESM2_r10i1p1f1_EURATL_ssp585_JJAextd_1939-1939tot.nc')\n",
    "\n",
    "#TM902D_arr = [\"/rds/general/user/cmt3718/home/data/cmip6/TM90_2D/TM902D_AWI-CM-1-1-MR_r1i1p1f1_EURATL_ssp585_JJAextd_2015-2100tot.nc\"]\n",
    "lons_arr = [170,220]\n",
    "lats_arr = [30,76]\n",
    "domain = \"EUR\"\n",
    "grid_res = 1\n",
    "lat_str, lon_str = \"latitude\", \"longitude\"\n",
    "    \n",
    "var_bool=xarray.open_dataset(\"/rds/general/project/carl_phd/live/carl/data/era5/day/zg/\"\n",
    "                                            \"500zg_JJA_era5_1979-2019_daymean_EurAR5_1x1_anom_dtrnd_wrt_tas_DG83_bool.nc\")['500zg']    \n",
    "#var_bool = xarray.open_dataset(\"/rds/general/project/nowack_graven/live/carl/pv_era5/\"\n",
    "#                                    \"pv_1x1_150-500hPa_1979-2019_tot_daymean_P19vertmean_LTDManom_bool.nc\")['__xarray_dataarray_variable__']\n",
    "\n",
    "#qsub -v SCRIPT=/rds/general/user/cmt3718/home/notebooks/area_thresh-era5-2.py ipython_qsub.sh\n",
    "    \n",
    "lat, lon = var_bool[lat_str], var_bool[lon_str]\n",
    "#these variables can be modified\n",
    "area_thresh = 1e6 # minimum blocked area in km^2\n",
    "# 1e6 km^2 is a reasonable minimum area since this is approximately the squared radius of a typical anticyclone (pg 10 of Hoskins & James)\n",
    "#grid_res = 1 #grid resolution\n",
    "#create a tuple of the lat/lon coordinates of the grid to test whether or not the grid cells exist within the point\n",
    "lats, lons = np.asarray(np.meshgrid(lat,lon))[0,:,:].flatten(), np.asarray(np.meshgrid(lat,lon))[1,:,:].flatten()\n",
    "grid_coords = list(zip(lats,lons-180))\n",
    "#rough minimum for the number of grid cells needed for a blocking event\n",
    "min_num_grid_cells=area_thresh*np.cos(np.radians(30))/(grid_res*grid_res*110*110) #0.25x0.25 grid x 110km (roughly 1/360 of Earth's circumference)\n",
    "#minimum proportion of grid cells to block\n",
    "prop_blocked_thresh = min_num_grid_cells/(len(lat)*len(lon))\n",
    "\n",
    "lon_corr = [True if var_bool[lon_str].max() > 180 else False][0]\n",
    "if lon_corr:\n",
    "    lon = lon - 180\n",
    "mdl, ens, styr, endyr = \"era5\", \"reanal\", 1979, 2019#TM902D_str.split(\"_\")[2], TM902D_str.split(\"_\")[3], TM902D_str.split(\"_\")[-1][:4], TM902D_str.split(\"_\")[-1][5:9]\n",
    "#create a DataArray where each element corresponds to the area of that cell\n",
    "area_cell=xr.DataArray(var_bool[0,:,:],name = \"grid_cell_area\")*0+1\n",
    "area_cell[:,:] = area_cell[:,:]*(np.cos(np.radians(var_bool[lat_str][:]))*111*grid_res)*(111*grid_res)   \n",
    "time, lat, lon = var_bool['time'], var_bool['latitude'], var_bool['longitude']\n",
    "blocked_day_arr = np.zeros((len(var_bool['time'])))\n",
    "print(mdl,ens,styr,endyr)\n",
    "var_bool_blocked_arr = []\n",
    "cs_2003_idxvals = np.arange(24*92+62,24*92+74+1)\n",
    "cs_2019_idxvals = np.arange(-92+20,-92+23+10)\n",
    "\n",
    "for i in np.arange(year_num*92,(year_num+1)*92):#specify here the values needed for the \n",
    "    #if i%2 == 0:\n",
    "    print(f\"calculating day {i} for year {year}\")\n",
    "        #print(f\"{100*i/time.shape[0]}% done\")\n",
    "    var_bool_blocked, cluster_num = area_test(var_bool[i,:,:], lat, lon, area_thresh, lon_corr, area_cell, var_bool['time'][i], i)\n",
    "                #fig = plt.figure()\n",
    "                #plt.pcolormesh(lon,lat,var_bool_blocked)\n",
    "                ##var_bool_samp, lat, lon, area_thresh, lon_corr, area_cell, time_val\n",
    "    var_bool_blocked_arr.append(var_bool_blocked)\n",
    "var_bool_blocked_clusters = xarray.concat(var_bool_blocked_arr, dim='time')\n",
    "var_bool_blocked_clusters.to_netcdf(f\"/rds/general/user/cmt3718/home/data/reanal/DG83/block_data/DG83_clusters_{mdl}_{ens}_{domain}_ssp585_JJA_{year}.nc\")\n",
    "\n"
   ]
  },
  {
   "cell_type": "code",
   "execution_count": null,
   "metadata": {},
   "outputs": [],
   "source": []
  },
  {
   "cell_type": "code",
   "execution_count": null,
   "metadata": {},
   "outputs": [],
   "source": []
  }
 ],
 "metadata": {
  "kernelspec": {
   "display_name": "Python [conda env:odin]",
   "language": "python",
   "name": "conda-env-odin-py"
  },
  "language_info": {
   "codemirror_mode": {
    "name": "ipython",
    "version": 3
   },
   "file_extension": ".py",
   "mimetype": "text/x-python",
   "name": "python",
   "nbconvert_exporter": "python",
   "pygments_lexer": "ipython3",
   "version": "3.6.5"
  }
 },
 "nbformat": 4,
 "nbformat_minor": 2
}
