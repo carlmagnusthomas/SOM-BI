{
 "cells": [
  {
   "cell_type": "code",
   "execution_count": 1,
   "metadata": {},
   "outputs": [],
   "source": [
    "import xarray as xr\n",
    "import xarray\n",
    "import numpy as np\n",
    "import pandas as pd\n",
    "import matplotlib.pyplot as plt\n",
    "from scipy import stats\n",
    "import glob\n",
    "import scipy\n",
    "val = 0\n"
   ]
  },
  {
   "cell_type": "code",
   "execution_count": 1,
   "metadata": {},
   "outputs": [],
   "source": [
    "\n",
    "def len_iter(items):\n",
    "    return sum(1 for _ in items)\n",
    "\n",
    "def consecutive_one(data):\n",
    "    return max(len_iter(run) for val, run in groupby(data) if val)\n",
    "\n",
    "def test_centroid_pos(cluster, var_bool_blocked_idx, lat_centroid, lon_centroid):\n",
    "    \"\"\"\n",
    "    test centroid position\n",
    "    \"\"\"\n",
    "    if len([i for i, v in enumerate(cluster) if v[0] == lat_centroid and v[1] == lon_centroid]) == 1:\n",
    "        centroid_pos = ([i for i, v in enumerate(cluster) if v[0] == lat_centroid and v[1] == lon_centroid][0])\n",
    "        var_bool_blocked_idx[cluster[centroid_pos][0], cluster[centroid_pos][1]] = 2\n",
    "        return True\n",
    "    else:\n",
    "        return False\n",
    "\n",
    "def identify_centroid_within_cluster(lat_centroid, lon_centroid, cluster, var_bool_blocked_idx):\n",
    "    \"\"\"\n",
    "    Identify the location(s) of the centroid within the cluster\n",
    "    function contains exception handling for if the centroid position (identified using the median lat/lon values)\n",
    "    is not in the list\n",
    "    Note that this has been written for a grid resolution of 2x2 - other grid resolutions e.g. 2.5x2.5 might have errors\n",
    "    \"\"\"\n",
    "    try:\n",
    "        centroid_pos = ([i for i, v in enumerate(cluster) if v[0] == lat_centroid and v[1] == lon_centroid][0])\n",
    "        var_bool_blocked_idx[cluster[centroid_pos][0], cluster[centroid_pos][1]] = 2\n",
    "    except IndexError: #when the centroid_pos is not within the cluster (the median lat/lon value isn't part of the cluster)\n",
    "        #need to adjust lat_centroid and lon_centroid until the closest centre within the cluster is identified\n",
    "        centroid_not_found = True\n",
    "        while centroid_not_found:\n",
    "            for i in range(1,len(lat)):\n",
    "                #loop through all possible centroid locations starting out from the median location\n",
    "                #so that if there are two possible locations of the centroid within the cluster both are chosen\n",
    "                centroid_pos_found = test_centroid_pos(cluster, var_bool_blocked_idx, lat_centroid+i, lon_centroid) \n",
    "                centroid_pos_found = test_centroid_pos(cluster, var_bool_blocked_idx, lat_centroid-i, lon_centroid) \n",
    "                centroid_pos_found = test_centroid_pos(cluster, var_bool_blocked_idx, lat_centroid, lon_centroid+i) \n",
    "                centroid_pos_found = test_centroid_pos(cluster, var_bool_blocked_idx, lat_centroid, lon_centroid-i)\n",
    "                if centroid_pos_found:\n",
    "                    centroid_not_found = False #break loop here when the nearest neighbours have been checked\n",
    "                #if still not found, look at the edge tiles\n",
    "                centroid_pos_found = test_centroid_pos(cluster, var_bool_blocked_idx, lat_centroid+i, lon_centroid+i) \n",
    "                centroid_pos_found = test_centroid_pos(cluster, var_bool_blocked_idx, lat_centroid-i, lon_centroid-i) \n",
    "                centroid_pos_found = test_centroid_pos(cluster, var_bool_blocked_idx, lat_centroid-i, lon_centroid+i) \n",
    "                centroid_pos_found = test_centroid_pos(cluster, var_bool_blocked_idx, lat_centroid+i, lon_centroid-i)\n",
    "                if centroid_pos_found: #break loop here when the edge tiles have been checked before looping back through\n",
    "                    centroid_not_found = False\n",
    "\n",
    "def get_adjacent_indices(i, j, m, n):\n",
    "    \"\"\"\n",
    "    Obtain the adjacent indices where they can be found\n",
    "    uses the nearest neighbour\n",
    "    from https://stackoverflow.com/questions/51657128/how-to-access-the-adjacent-cells-of-each-elements-of-matrix-in-python/51657232\n",
    "    \"\"\"\n",
    "    adjacent_indices = []\n",
    "    if i > 0:\n",
    "        adjacent_indices.append((i-1,j))\n",
    "    if i+1 < m:\n",
    "        adjacent_indices.append((i+1,j))\n",
    "    if j > 0:\n",
    "        adjacent_indices.append((i,j-1))\n",
    "    if j+1 < n:\n",
    "        adjacent_indices.append((i,j+1))\n",
    "    return adjacent_indices\n",
    "\n",
    "def add_adjacent_idx_to_cluster(lat_idx, lon_idx, cluster, idx_vals, lat_lon_idx_vals, len_lat, len_lon):\n",
    "    \"\"\"\n",
    "    If not already in the cluster, add adjacent values to the cluster\n",
    "    \"\"\"\n",
    "    if ((lat_idx, lon_idx)) not in cluster:\n",
    "        #print(f\"{(lat_idx, lon_idx)} added to cluster\")\n",
    "        cluster.append((lat_idx, lon_idx))\n",
    "    adjacent_indices = get_adjacent_indices(lat_idx, lon_idx, len_lat, len_lon)\n",
    "    #print(f\"adjacent_indices = {adjacent_indices}\")\n",
    "    for adj_idx in adjacent_indices:\n",
    "        if adj_idx in lat_lon_idx_vals:\n",
    "            if adj_idx not in cluster:\n",
    "                #add the value and the adjacent values to the cluster\n",
    "                cluster.append(adj_idx)  \n",
    "                if adj_idx not in idx_vals:\n",
    "                    idx_vals.append(adj_idx) # these are the new index values that are going to be iterated over again\n",
    "    return idx_vals\n",
    "            \n",
    "def calc_clusters(var_bool, len_lat, len_lon):\n",
    "    \"\"\"\n",
    "    Returns a list of grouped clusters using the nearest neighbour\n",
    "    \"\"\"\n",
    "    lat_idx_vals, lon_idx_vals = np.where(var_bool > 0)\n",
    "    lat_lon_idx_vals = [(lat_idx, lon_idx) for lat_idx, lon_idx in zip(lat_idx_vals, lon_idx_vals)]\n",
    "    cluster, cluster_arr = [], []\n",
    "    for i in range(lon_idx_vals.shape[0]):\n",
    "        #need to find in the whole array if there are any matching index values that are adjacent and haven't already been put into the cluster\n",
    "        lat_idx, lon_idx = lat_lon_idx_vals[i]\n",
    "        if sum([(lat_idx, lon_idx) in cluster for cluster in cluster_arr]) == 0: #check if lat or lon index already in a cluster\n",
    "            cluster, idx_vals = [], []\n",
    "            idx_vals = add_adjacent_idx_to_cluster(lat_idx, lon_idx, cluster, idx_vals, lat_lon_idx_vals, len_lat, len_lon)\n",
    "            num_idx_vals = len(idx_vals) # number of idx vals in cluster not looped across yet\n",
    "            idx_vals_old, idx_vals_new = idx_vals.copy(), idx_vals.copy()\n",
    "            while (num_idx_vals > 0): # while there are still index values in the nearest neighbour\n",
    "                #loop through all the adjacent values that are also blocked\n",
    "                for lat_idx, lon_idx in (idx_vals_old):\n",
    "                    #for each adjacent value that is also blocked, identify the new index values\n",
    "                    idx_vals_new = add_adjacent_idx_to_cluster(lat_idx, lon_idx, cluster, idx_vals_new, lat_lon_idx_vals, len_lat, len_lon)\n",
    "                    #remove the idx_val that has been looped over from the list\n",
    "                    idx_vals_new.remove((lat_idx, lon_idx))                \n",
    "                idx_vals_old = idx_vals_new.copy()\n",
    "                num_idx_vals = len(idx_vals_old)\n",
    "            cluster_arr.append((cluster))\n",
    "        else:\n",
    "            pass #here if current index in loop is already in a cluster\n",
    "    return cluster_arr    \n",
    "    \n",
    "def find_nearest(array, value):\n",
    "    array = np.asarray(array)\n",
    "    idx = (np.abs(array - value)).argmin()\n",
    "    return idx+1"
   ]
  },
  {
   "cell_type": "code",
   "execution_count": 2,
   "metadata": {},
   "outputs": [],
   "source": [
    "def area_test(var_bool_samp, lat, lon, area_thresh, area_cell, time_val, i):\n",
    "    \"\"\"\n",
    "    Calculate the polygon shapes, determine the area for the blocked polygons and if there is a\n",
    "    blocked polygon identify whether or not it passes the area_thresh threshold\n",
    "    if so, then day is blocked\n",
    "    #Length of 1 degree of Longitude = cosine (latitude in decimal degrees) * length of degree (miles) at equator\n",
    "    #Each degree of latitude is approximately 69 miles (111 kilometers) apart\n",
    "    #The range varies (due to the earth's slightly ellipsoid shape) from 68.703 miles (110.567 km) at the equator to 69.407 (111.699 km) at the poles    \n",
    "    \"\"\"\n",
    "    blocked_day = 0\n",
    "    \n",
    "    #plt.pcolormesh(lon,lat,var_bool_samp)\n",
    "    #CS = plt.contour(lon,lat,var_bool)# corner_mask=True,interpolation='none')\n",
    "    #print(f\"var_bool.sum() = {var_bool.sum()}\")\n",
    "    #plt.close()\n",
    "    #plt.pcolormesh(lon,lat,var_bool)\n",
    "    #fig=plt.figure()\n",
    "    #plt.pcolormesh(lon,lat,var_bool)\n",
    "    var_bool_blocked_idx = np.zeros((len(lat),len(lon)))#use to identify blocked regions\n",
    "    cluster_num = 0\n",
    "\n",
    "    var_bool_blocked_idx=xarray.DataArray(var_bool_samp*0, name = \"TM90_clusters\", coords=var_bool_samp.coords)\n",
    "    #print(f\"var_bool_blocked_idx = {var_bool_blocked_idx}\")\n",
    "    #calculate all of the clusters for this time step\n",
    "    cluster_arr = calc_clusters(var_bool_samp, len(lat), len(lon))\n",
    "    #print(f\"var_bool_samp.sum() = {var_bool_samp.sum()}\")\n",
    "    for cluster in cluster_arr:\n",
    "        #calculate the area of different clusters by projecting the lat/lon values onto a boolean lat/lon grid area_cell grid\n",
    "        #and multiplying this by the area_cell grid to obtain the area\n",
    "        var_bool_cluster = np.zeros((len(lat),len(lon)))\n",
    "        for lat_idx, lon_idx in cluster:\n",
    "            #print(f\"lat_idx, lon_idx = {lat_idx, lon_idx}\")\n",
    "            \n",
    "            var_bool_cluster[lat_idx,lon_idx] = 1\n",
    "        #fig = plt.figure()\n",
    "        #plt.pcolormesh(lon,lat,var_bool_cluster)            \n",
    "        #print(f\"var_bool_cluster = {var_bool_cluster}\")    \n",
    "        area_cell_sum=(area_cell*var_bool_cluster).sum().values\n",
    "        #plt.pcolormesh(lon,lat,area_cell) \n",
    "        #plt.colorbar()\n",
    "        #print(f\"var_bool_cluster.sum() = {var_bool_cluster.sum()}\")\n",
    "        #print(f\"area_cell_sum = {area_cell_sum} km^2\")\n",
    "        #print(f\"area_cell_sum_tot = {area_cell.sum().values} km^2\")\n",
    "        \n",
    "        #if this area > area_thresh, add the cluster to the 2D lat/lon grid for overlap calculation\n",
    "        if area_cell_sum > area_thresh:\n",
    "            #label day as blocked\n",
    "            cluster_num += 1\n",
    "            blocked_day = 1\n",
    "            for lat_idxs, lon_idxs in cluster:\n",
    "                var_bool_blocked_idx[lat_idxs,lon_idxs]=1\n",
    "            #label the centre lat, lon idx value with a 2\n",
    "            lats_arr, lons_arr = ([i[0] for i in cluster], [i[1] for i in cluster])\n",
    "            lat_centroid, lon_centroid = (np.median(lats_arr), np.median(lons_arr))\n",
    "            # if there isn't a value in the middle then set the two neighbouring middle indices to 2 (effectively blur the two centroids)\n",
    "            #otherwise there would be a bias to highlighting blicking in E/W or N/S directions\n",
    "            if lon_centroid%1 == 0 and lat_centroid%1 == 0:  \n",
    "                #print(lat_centroid, lon_centroid)\n",
    "                #print(cluster)\n",
    "                identify_centroid_within_cluster(lat_centroid, lon_centroid, cluster, var_bool_blocked_idx)\n",
    "            else: # if there isn't a value in the middle then set the two neighbouring middle indices to 2 (effectively blur the two centroids)\n",
    "                if lat_centroid%1 != 0:\n",
    "                    lat_centroid_arr = [lat_centroid-0.5, lat_centroid+0.5]\n",
    "                    lon_centroid_arr = [lon_centroid, lon_centroid]\n",
    "                if lon_centroid%1 != 0:\n",
    "                    lat_centroid_arr = [lat_centroid, lat_centroid]\n",
    "                    lon_centroid_arr = [lon_centroid-0.5, lon_centroid+0.5]\n",
    "                if lon_centroid%1 != 0 and lat_centroid%1 != 0:    #when no middle lat or lon - create a centroid blob containing 4 tiles\n",
    "                    lon_centroid_arr = [lon_centroid-0.5, lon_centroid+0.5, lon_centroid-0.5, lon_centroid+0.5]\n",
    "                    lat_centroid_arr = [lat_centroid-0.5, lat_centroid+0.5, lat_centroid+0.5, lat_centroid-0.5]\n",
    "                for lat_centroid, lon_centroid in zip(lat_centroid_arr, lon_centroid_arr):\n",
    "                    identify_centroid_within_cluster(lat_centroid, lon_centroid, cluster, var_bool_blocked_idx)\n",
    "    return var_bool_blocked_idx, cluster_num"
   ]
  },
  {
   "cell_type": "code",
   "execution_count": 4,
   "metadata": {},
   "outputs": [],
   "source": [
    "def save_block_TM90_2D(zg_file, model, ens, sim, season, Delta, min_blocked_tiles,\n",
    "                    persis_thresh, overlap_val, styr, endyr, lat_bnds, lon_bnds, grid_res, domain, mip):\n",
    "    \"\"\"\n",
    "    Saves the 2D TM90 fiile for a given blocked region\n",
    "    \"\"\"\n",
    "\n",
    "    print(model, ens)\n",
    "    #in cmip5 the lat/lon variables are \"lat\" and \"lon\", whereas in era5 they are \"latitude\" and \"longitude\"\n",
    "    lat_str=\"lat\"\n",
    "    lon_str=\"lon\"     \n",
    "    if model == \"era5\":\n",
    "        lat_str=\"latitude\"\n",
    "        lon_str=\"longitude\"\n",
    "\n",
    "    E_min = 0 #m per degree latitude\n",
    "    W_min = -10\n",
    "\n",
    "    #select European domain with shifts of latitude so that the domains can be subtracted from each other\n",
    "    #amount the indices need to be shifted by - in Scherrer et al 2005 they used del_lat ir 15 degrees\n",
    "    #becuase I've regridded to a 2x2 grid shift use 14 degrees\n",
    "    deg_shift = 14\n",
    "\n",
    "    #select the time periods for each model from the start and end years\n",
    "    dayofyr_xr=[zg_file.sel(time=(slice(f\"{yr}-05-27\", f\"{yr}-09-04\")))['time'] for yr in range(int(styr),int(endyr)+1)]    \n",
    "    #select DJF to test TM90 index behaviour\n",
    "    #dayofyr_xr=[zg_file.sel(time=np.isin(zg_file['time.season'], \"DJF\"))]       \n",
    "\n",
    "    #concatenate the lists of boolean DataArray objects - also takes a few seconds\n",
    "    dayofyr_xr_concat = xarray.concat(dayofyr_xr, \"time\")\n",
    "    if lat_str == \"latitude\":\n",
    "        Europe_zg_xr = zg_file.sel(longitude = range(lon_bnds[0],lon_bnds[1]+grid_res,grid_res), latitude = range(lat_bnds[0],lat_bnds[1]+grid_res,grid_res),\n",
    "                                   time = dayofyr_xr_concat['time']).squeeze()\n",
    "\n",
    "        Europe_zg_xr_S_shift = zg_file.sel(longitude = range(lon_bnds[0],lon_bnds[1]+grid_res,grid_res), latitude = np.arange(lat_bnds[0]-deg_shift,lat_bnds[1]-deg_shift+grid_res,grid_res), \n",
    "                                   time = dayofyr_xr_concat['time']).squeeze()\n",
    "\n",
    "        Europe_zg_xr_N_shift = zg_file.sel(longitude = range(lon_bnds[0],lon_bnds[1]+grid_res,grid_res), latitude = np.arange(lat_bnds[0]+deg_shift,lat_bnds[1]+deg_shift+grid_res,grid_res), \n",
    "                                   time = dayofyr_xr_concat['time']).squeeze()\n",
    "        \n",
    "    if lat_str == \"lat\":\n",
    "        Europe_zg_xr = zg_file.sel(lon = range(lon_bnds[0],lon_bnds[1]+grid_res,grid_res), lat = range(lat_bnds[0],lat_bnds[1]+grid_res,grid_res),\n",
    "                                   ).squeeze()\n",
    "\n",
    "        Europe_zg_xr_S_shift = zg_file.sel(lon = range(lon_bnds[0],lon_bnds[1]+grid_res,grid_res), lat = np.arange(lat_bnds[0]-deg_shift,lat_bnds[1]-deg_shift+grid_res,grid_res), \n",
    "                                   ).squeeze()\n",
    "\n",
    "        Europe_zg_xr_N_shift = zg_file.sel(lon = range(lon_bnds[0],lon_bnds[1]+grid_res,grid_res), lat = np.arange(lat_bnds[0]+deg_shift,lat_bnds[1]+deg_shift+grid_res,grid_res), \n",
    "                                   ).squeeze()        \n",
    "        #time = dayofyr_xr_concat['time']\n",
    "    print(f\"Europe_zg_xr = {Europe_zg_xr}\")\n",
    "    #readjust the coordinates so that the subtraction occurs across the same dimensions\n",
    "    Europe_zg_xr_S_shift[lat_str] = Europe_zg_xr_S_shift[lat_str]+deg_shift\n",
    "    Europe_zg_xr_N_shift[lat_str] = Europe_zg_xr_N_shift[lat_str]-deg_shift\n",
    "    \n",
    "    GHGS=(Europe_zg_xr-Europe_zg_xr_S_shift)/deg_shift\n",
    "    GHGN=(Europe_zg_xr_N_shift-Europe_zg_xr)/deg_shift\n",
    "    Europe_zg_xr['GHGN']=xarray.DataArray(data=GHGN, coords=(Europe_zg_xr['time'],Europe_zg_xr[lat_str],Europe_zg_xr[lon_str]))\n",
    "    Europe_zg_xr['GHGS']=xarray.DataArray(data=GHGS, coords=(Europe_zg_xr['time'],Europe_zg_xr[lat_str],Europe_zg_xr[lon_str])) \n",
    "    Europe_zg_xr['blocking_index'] = ((Europe_zg_xr['GHGS'] > E_min ) & (Europe_zg_xr['GHGN'] < W_min))\n",
    "\n",
    "    TM90_2D_xr = xarray.DataArray(Europe_zg_xr['blocking_index'].values, name = \"AGP\", coords = (Europe_zg_xr['time'],Europe_zg_xr[lat_str],Europe_zg_xr[lon_str]))\n",
    "\n",
    "    return TM90_2D_xr"
   ]
  },
  {
   "cell_type": "code",
   "execution_count": 19,
   "metadata": {},
   "outputs": [],
   "source": [
    "# calculates the blocking on each day considering the criteria\n",
    "min_blocked_tiles = 4 #number of consecutive cells that are blocked - using 20 to cover over a block across 5deg\n",
    "#numbers from Table 2 in Pinheiro et al (2019)\n",
    "persis_thresh = 5 # minimum number of days over which blocking must persist\n",
    "overlap_val = 1 # minimum nuymber of tiles to test for contour overlap\n",
    "Delta = 2 # shift of all latitudes\n",
    "plev=0 #set to 3 when looking at 500hPa, 0 if 500hPa data has been isolated\n",
    "area_thresh = 1e6 # minimum blocked area in km^2\n",
    "# 1e6 km^2 is a reasonable minimum area since this is approximately the squared radius of a typical anticyclone (pg 10 of Hoskins & James)\n",
    "\n",
    "lat_str, lon_str = \"lat\", \"lon\"      \n",
    "lat_bnds, lon_bnds = ([30, 76], [-10, 40])\n",
    "lons_arr = [-10,40]\n",
    "lats_arr = [30,76]\n",
    "grid_res = 2\n",
    "domain = \"EUR\"\n",
    "season = \"JJAextd\""
   ]
  },
  {
   "cell_type": "code",
   "execution_count": 20,
   "metadata": {},
   "outputs": [],
   "source": [
    "file_zg_dir=sorted(glob.glob(\"/rds/general/user/cmt3718/ephemeral/*/*/*/*/zg/*r180x91mt.nc*\"))\n",
    "#/rds/general/user/cmt3718/ephemeral/cmip5/ACCESS1-0/rcp85/r1i1p1/zg"
   ]
  },
  {
   "cell_type": "code",
   "execution_count": 18,
   "metadata": {},
   "outputs": [],
   "source": [
    "def da_lon_adj(da):\n",
    "    \"\"\"\n",
    "    Reset the longitude coordinates if they are defined from 0-360 E to -180 - 180 E.\n",
    "    \"\"\"\n",
    "    #identify label for the longitude coordinate\n",
    "    if \"longitude\" in str(da.coords):\n",
    "        lon_str = \"longitude\"\n",
    "    else:\n",
    "        lon_str = \"lon\"\n",
    "    if int(da[lon_str].max()>180):\n",
    "        #calculate longitude resolution\n",
    "        lon_diff = abs(int(da[lon_str][1]-da[lon_str][0]))\n",
    "        #redefine 0-360 degrees E to -180 - +180 deg E\n",
    "        lon_adj = da[lon_str]*(da[lon_str]<(180+lon_diff/2))+((da[lon_str]-360)*(da[lon_str]>180))\n",
    "        da[lon_str] = lon_adj\n",
    "        # number of indices that lat idx should be mvoed by\n",
    "        if da[lon_str][0] == 0:\n",
    "            lat_idx_roll = int(len(da[lon_str])/2)\n",
    "        else:\n",
    "            print(\"ERROR - coordinate system doesn't start from 0 degrees east\")\n",
    "            return da\n",
    "    \n",
    "        if lon_str == \"lon\":\n",
    "            da_roll = da.roll(lon = lat_idx_roll, roll_coords=True)\n",
    "        if lon_str == \"longitude\":\n",
    "            da_roll = da.roll(longitude = lat_idx_roll, roll_coords=True)     \n",
    "        #check that the output longitude coordinates are in ascending order\n",
    "        if False not in np.array(da[lon_str].values == da[lon_str].sortby(lon_str, ascending=True).values):\n",
    "            return da_roll\n",
    "        else:\n",
    "            print(\"ERROR - longitude coordinates are not in ascending order\")\n",
    "            return da_roll\n",
    "    else:\n",
    "        return da"
   ]
  },
  {
   "cell_type": "code",
   "execution_count": 58,
   "metadata": {},
   "outputs": [],
   "source": [
    "\n",
    "def sel_JJA_extd(da):\n",
    "    \"\"\"\n",
    "    Selects the JJA extd period +- 5 days.\n",
    "    \"\"\"\n",
    "    da_MJJAS=da.sel(time = np.isin(da['time.month'], np.arange(5,10)))\n",
    "    da_JJAextdS=da_MJJAS.sel(time=~(((da_MJJAS.time.dt.month == 5) & (da_MJJAS.time.dt.day < 28))))\n",
    "    da_JJAextd=da_JJAextdS.sel(time=~(((da_JJAextdS.time.dt.month == 9) & (da_JJAextdS.time.dt.day > 4))))\n",
    "    return da_JJAextd\n",
    "\n",
    "zg_JJA = sel_JJA_extd(zg)"
   ]
  },
  {
   "cell_type": "code",
   "execution_count": 40,
   "metadata": {},
   "outputs": [],
   "source": [
    "zg = xr.open_dataset(\"/rds/general/user/cmt3718/home/data/cmip6/UKESM1-0-LL/piControl/r1i1p1f2/zg/500zg_day_UKESM1-0-LL_piControl_r1i1p1f2_gn_19600101-20601230_r180x91.nc\")['zg'].squeeze()\n",
    "\n",
    "zg_JJAextd = zg.sel(time=np.isin(zg['time.dayofyear'], range(147,245)))"
   ]
  },
  {
   "cell_type": "code",
   "execution_count": 42,
   "metadata": {},
   "outputs": [
    {
     "name": "stdout",
     "output_type": "stream",
     "text": [
      "ERROR - longitude coordinates are not in ascending order\n"
     ]
    }
   ],
   "source": [
    "zg_JJAextd_lon = da_lon_adj(zg_JJAextd)"
   ]
  },
  {
   "cell_type": "code",
   "execution_count": 48,
   "metadata": {},
   "outputs": [],
   "source": [
    "zg_JJAextd_lon_eurextd=zg_JJAextd_lon.sel(lat=np.arange(10,92,2), lon=np.arange(-10,41,2))"
   ]
  },
  {
   "cell_type": "code",
   "execution_count": 50,
   "metadata": {},
   "outputs": [],
   "source": [
    "zg_JJAextd_lon_eurextd.to_netcdf(\"/rds/general/user/cmt3718/home/data/cmip6/UKESM1-0-LL/piControl/r1i1p1f2/zg/500zg_day_UKESM1-0-LL_piControl_r1i1p1f2_gn_19600101-20601230_r180x91_EURextd_JJAextd.nc\")"
   ]
  },
  {
   "cell_type": "code",
   "execution_count": 60,
   "metadata": {},
   "outputs": [
    {
     "data": {
      "text/plain": [
       "<xarray.Dataset>\n",
       "Dimensions:  (lat: 41, lon: 26, time: 9898)\n",
       "Coordinates:\n",
       "  * lon      (lon) float32 -10.0 -8.0 -6.0 -4.0 -2.0 ... 34.0 36.0 38.0 40.0\n",
       "  * lat      (lat) float32 10.0 12.0 14.0 16.0 18.0 ... 82.0 84.0 86.0 88.0 90.0\n",
       "    plev     float64 ...\n",
       "  * time     (time) object 1960-05-27 12:00:00 ... 2060-09-04 12:00:00\n",
       "Data variables:\n",
       "    zg       (time, lat, lon) float32 ..."
      ]
     },
     "execution_count": 60,
     "metadata": {},
     "output_type": "execute_result"
    }
   ],
   "source": [
    "xr.open_dataset(\"/rds/general/user/cmt3718/home/data/cmip6/UKESM1-0-LL/piControl/r1i1p1f2/zg/500zg_day_UKESM1-0-LL_piControl_r1i1p1f2_gn_19600101-20601230_r180x91_EURextd_JJAextd.nc\")"
   ]
  },
  {
   "cell_type": "code",
   "execution_count": 21,
   "metadata": {},
   "outputs": [
    {
     "name": "stdout",
     "output_type": "stream",
     "text": [
      "/rds/general/user/cmt3718/home/data/cmip6/UKESM1-0-LL/piControl/r1i1p1f2/zg/500zg_day_UKESM1-0-LL_piControl_r1i1p1f2_gn_19600101-20601230_r180x91_EURextd_JJAextd.nc\n",
      "save_block_TM90_2D\n",
      "saved /rds/general/user/cmt3718/home/data/AGP/AGP_era5_reanal_EUR_JJAextd_1979-2019.nc\n"
     ]
    }
   ],
   "source": [
    "file_zg_dir = [\"/rds/general/user/cmt3718/home/data/cmip6/UKESM1-0-LL/piControl/r1i1p1f2/zg/500zg_day_UKESM1-0-LL_piControl_r1i1p1f2_gn_19600101-20601230_r180x91_EURextd_JJAextd.nc\"]\n",
    "    #\"/rds/general/user/cmt3718/home/data/cmip6/UKESM1-0-LL/piControl/r1i1p1f2/zg/500zg_day_UKESM1-0-LL_piControl_r1i1p1f2_gn_19600101-20601230_r180x91.nc\"]\n",
    "# [\"/rds/general/project/carl_phd/live/carl/data/era5/day/zg/LTDM/500zg_1x1_1979-2019_daymean_JJAextd_EURextd2.nc\"]\n",
    "#[\"/rds/general/user/cmt3718/home/data/cmip6/UKESM1-0-LL/piControl/r1i1p1f2/zg/500zg_day_UKESM1-0-LL_piControl_r1i1p1f2_gn_19600101-20601230_r180x91_LTDManom.nc\"]\n",
    "#[\"/rds/general/user/cmt3718/home/data/cmip6/UKESM1-0-LL/piControl/r1i1p1f2/zg/500zg_day_UKESM1-0-LL_piControl_r1i1p1f2_gn_19600101-20601230_r180x91_LTDManom_EUR2_JJAextd_dtrnd.nc\"]\n",
    "mdl, ens = \"UKESM1-0-LL\", \"r1i1p1f2_piControl\"\n",
    "for zg_str in file_zg_dir:\n",
    "    mip, mdl, sim, ens = zg_str.split(\"/\")[6:10]\n",
    "    mdls_done = [var_str.split(\"_\")[1] for var_str in sorted(glob.glob(f\"/rds/general/user/cmt3718/home/data/*/AGP/*\"))]\n",
    "    if True:#mdl not in mdls_done and mdl not in [\"CanESM2\"]:\n",
    "        print(zg_str)\n",
    "        zg_file = xarray.open_dataset(zg_str)['zg'].squeeze()\n",
    "        zg_file=da_lon_adj(zg_file)\n",
    "        styr, endyr = int(zg_file['time.year'].min()), int(zg_file['time.year'].max())\n",
    "        #directory where the output is saved\n",
    "        print(\"save_block_TM90_2D\")\n",
    "        #TM90_2D_xr = save_block_TM90_2D(zg_file, mdl, ens, sim, season, Delta, min_blocked_tiles,\n",
    "        #            persis_thresh, overlap_val, styr, endyr, lat_bnds, lon_bnds, grid_res, domain, mip)\n",
    "        \n",
    "        #TM90_2D_xr.to_netcdf('/rds/general/user/cmt3718/home/data/AGP/AGP_era5_reanal_EUR_JJAextd_1979-2019.nc')\n",
    "        ##TM90_2D_xr.to_netcdf('/rds/general/user/cmt3718/home/data/AGP/AGP_UKESM1-0-LL_r1i1p1f2_piControl_EUR_JJAextd_1960-2060.nc')\n",
    "        #('/rds/general/user/cmt3718/home/data/AGP/AGP_cmip6_piControl_UKESM1-0-LL_EUR2_JJAextd_1960-2060.nc')  \n",
    "        print(f\"saved /rds/general/user/cmt3718/home/data/AGP/AGP_era5_reanal_EUR_JJAextd_1979-2019.nc\") \n",
    "#         #except:\n",
    "#         #    print(f\"Exception for {mip, mdl, sim, ens}\")\n",
    "# #         #var_bool = xr.open_dataset(\"/rds/general/user/cmt3718/home/data/cmip5/AGP/AGP_BNU-ESM_r1i1p1_rcp85_EUR_JJAextd_1950-2100.nc\")['AGP']##TM90_2D_xr['AGP']\n",
    "#         var_bool = TM90_2D_xr\n",
    "#         lat, lon = zg_file[lat_str], zg_file[lon_str]\n",
    "#         #lon_corr = [True if var_bool[lon_str].max() > 180 else False][0]\n",
    "#         #if lon_corr:\n",
    "#         #    lon = lon - 180                   \n",
    "#         #these variables can be modified\n",
    "#         #create a tuple of the lat/lon coordinates of the grid to test whether or not the grid cells exist within the point\n",
    "#         lats, lons = np.asarray(np.meshgrid(lat,lon))[0,:,:].flatten(), np.asarray(np.meshgrid(lat,lon))[1,:,:].flatten()\n",
    "#         grid_coords = list(zip(lats,lons-180))\n",
    "#         #rough minimum for the number of grid cells needed for a blocking event\n",
    "#         min_num_grid_cells=area_thresh*np.cos(np.radians(30))/(grid_res*grid_res*110*110) #0.25x0.25 grid x 110km (roughly 1/360 of Earth's circumference)\n",
    "#         #minimum proportion of grid cells to block\n",
    "#         prop_blocked_thresh = min_num_grid_cells/(len(lat)*len(lon))\n",
    "#         #create a DataArray where each element corresponds to the area of that cell\n",
    "#         area_cell = xr.DataArray(var_bool[0,:,:],name = \"grid_cell_area\")*0+1\n",
    "#         area_cell = area_cell*(np.cos(np.radians(var_bool[lat_str][:]))*111*grid_res)*(111*grid_res)   \n",
    "#         time, lat, lon = var_bool['time'], var_bool[lat_str], var_bool[lon_str]\n",
    "#         blocked_day_arr = np.zeros((len(var_bool['time'])))\n",
    "#         var_bool_blocked_arr = []\n",
    "#         print(\"area_test\")\n",
    "\n",
    "#         for i in np.arange(0,len(time)):\n",
    "#             if i%250 == 0:\n",
    "#                 print(f\"{100*i/time.shape[0]}% done\")\n",
    "#             var_bool_blocked, cluster_num = area_test(var_bool[i,:,:], lat, lon, area_thresh, area_cell, var_bool['time'][i], i)\n",
    "#             var_bool_blocked_arr.append(var_bool_blocked)\n",
    "#         var_bool_blocked_clusters = xarray.concat(var_bool_blocked_arr, dim='time')\n",
    "#         var_bool_blocked_clusters.to_netcdf(f\"/rds/general/user/cmt3718/home/data/{mip}/AGP/AGP_clusters_{mdl}_{ens}_{domain}_{sim}_JJAextd.nc\")\n",
    "#         print(f\"saved /rds/general/user/cmt3718/home/data/{mip}/AGP/AGP_clusters_{mdl}_{ens}_{domain}_{sim}_JJAextd.nc\")"
   ]
  },
  {
   "cell_type": "code",
   "execution_count": 36,
   "metadata": {},
   "outputs": [],
   "source": [
    "TM90_2D_xr=xr.open_dataset('/rds/general/user/cmt3718/home/data/AGP/AGP_UKESM1-0-LL_r1i1p1f2_piControl_EUR_JJAextd_1960-2060.nc')['AGP']\n",
    "\n",
    "AGP_area=xr.open_dataset('/rds/general/user/cmt3718/home/data/reanal/AGP/AGP_clusters_UKESM1-0-LL_r1i1p1f2_piControl_EUR_UKESM1-0-LL_JJAextd_new.nc')['TM90_clusters']"
   ]
  },
  {
   "cell_type": "code",
   "execution_count": 55,
   "metadata": {},
   "outputs": [
    {
     "data": {
      "text/plain": [
       "<xarray.DataArray 'TM90_clusters' ()>\n",
       "array(0)"
      ]
     },
     "execution_count": 55,
     "metadata": {},
     "output_type": "execute_result"
    }
   ],
   "source": [
    "(AGP_area.sum(axis=1).sum(axis=1)==9).sum()"
   ]
  },
  {
   "cell_type": "code",
   "execution_count": 50,
   "metadata": {},
   "outputs": [
    {
     "data": {
      "text/plain": [
       "<xarray.DataArray 'AGP' ()>\n",
       "array(100)"
      ]
     },
     "execution_count": 50,
     "metadata": {},
     "output_type": "execute_result"
    }
   ],
   "source": [
    "(TM90_2D_xr.sum(axis=1).sum(axis=1)==4).sum()"
   ]
  },
  {
   "cell_type": "code",
   "execution_count": 28,
   "metadata": {},
   "outputs": [],
   "source": [
    "zg=xr.open_dataset(\"/rds/general/project/carl_phd/live/carl/data/era5/day/zg/LTDM/500zg_1x1_1979-2019_daymean.nc\")\n",
    "zg_JJA=zg.sel(time=np.isin(zg['time.season'], \"JJA\"))"
   ]
  },
  {
   "cell_type": "code",
   "execution_count": 29,
   "metadata": {},
   "outputs": [
    {
     "name": "stdout",
     "output_type": "stream",
     "text": [
      "ERROR - longitude coordinates are not in ascending order\n"
     ]
    }
   ],
   "source": [
    "zg_JJA_lon=da_lon_adj(zg_JJA)\n",
    "\n",
    "\n",
    "#.to_netcdf()"
   ]
  },
  {
   "cell_type": "code",
   "execution_count": 24,
   "metadata": {},
   "outputs": [],
   "source": [
    "zg_JJA_lon_sel = zg_JJA_lon.sel(longitude=np.arange(-10,41), latitude=np.arange(10,91))"
   ]
  },
  {
   "cell_type": "code",
   "execution_count": 25,
   "metadata": {},
   "outputs": [],
   "source": [
    "zg_JJA_lon_sel.to_netcdf(\"/rds/general/project/carl_phd/live/carl/data/era5/day/zg/LTDM/500zg_1x1_1979-2019_daymean_JJAextd_EURextd2.nc\")"
   ]
  },
  {
   "cell_type": "code",
   "execution_count": 67,
   "metadata": {},
   "outputs": [],
   "source": [
    "mdl, ens, mip = \"UKESM1-0-LL\", \"r1i1p1f2_piControl\", \"cmip6\""
   ]
  },
  {
   "cell_type": "code",
   "execution_count": 30,
   "metadata": {},
   "outputs": [
    {
     "name": "stdout",
     "output_type": "stream",
     "text": [
      "area_test\n"
     ]
    }
   ],
   "source": [
    "var_bool = TM90_2D_xr\n",
    "lat_str, lon_str = \"lat\", \"lon\"\n",
    "lat, lon = zg_file[lat_str], zg_file[lon_str]\n",
    "#lon_corr = [True if var_bool[lon_str].max() > 180 else False][0]\n",
    "#if lon_corr:\n",
    "#    lon = lon - 180                   \n",
    "#these variables can be modified\n",
    "#create a tuple of the lat/lon coordinates of the grid to test whether or not the grid cells exist within the point\n",
    "lats, lons = np.asarray(np.meshgrid(lat,lon))[0,:,:].flatten(), np.asarray(np.meshgrid(lat,lon))[1,:,:].flatten()\n",
    "grid_coords = list(zip(lats,lons-180))\n",
    "#rough minimum for the number of grid cells needed for a blocking event\n",
    "min_num_grid_cells=area_thresh*np.cos(np.radians(30))/(grid_res*grid_res*110*110) #0.25x0.25 grid x 110km (roughly 1/360 of Earth's circumference)\n",
    "#minimum proportion of grid cells to block\n",
    "prop_blocked_thresh = min_num_grid_cells/(len(lat)*len(lon))\n",
    "#create a DataArray where each element corresponds to the area of that cell\n",
    "area_cell = xr.DataArray(var_bool[0,:,:],name = \"grid_cell_area\")*0+1\n",
    "area_cell = area_cell*(np.cos(np.radians(var_bool[lat_str][:]))*111*grid_res)*(111*grid_res)   \n",
    "time, lat, lon = var_bool['time'], var_bool[lat_str], var_bool[lon_str]\n",
    "blocked_day_arr = np.zeros((len(var_bool['time'])))\n",
    "var_bool_blocked_arr = []\n",
    "print(\"area_test\")\n",
    "mip=\"reanal\"\n",
    "\n",
    "# for i in np.arange(0,len(time)):\n",
    "#     if i%250 == 0:\n",
    "#         print(f\"{100*i/time.shape[0]}% done\")\n",
    "#     var_bool_blocked, cluster_num = area_test(var_bool[i,:,:], lat, lon, area_thresh, area_cell, var_bool['time'][i], i)\n",
    "#     var_bool_blocked_arr.append(var_bool_blocked)\n",
    "# var_bool_blocked_clusters = xarray.concat(var_bool_blocked_arr, dim='time')\n",
    "# var_bool_blocked_clusters.to_netcdf(f\"/rds/general/user/cmt3718/home/data/{mip}/AGP/AGP_clusters_{mdl}_{ens}_{domain}_{sim}_JJAextd.nc\")\n",
    "# print(f\"saved /rds/general/user/cmt3718/home/data/{mip}/AGP/AGP_clusters_{mdl}_{ens}_{domain}_{sim}_JJAextd.nc\")"
   ]
  },
  {
   "cell_type": "code",
   "execution_count": 35,
   "metadata": {},
   "outputs": [
    {
     "data": {
      "text/plain": [
       "<matplotlib.collections.QuadMesh at 0x2b6df8b1de48>"
      ]
     },
     "execution_count": 35,
     "metadata": {},
     "output_type": "execute_result"
    },
    {
     "data": {
      "image/png": "[encoded data removed]",
      "text/plain": [
       "<Figure size 432x288 with 2 Axes>"
      ]
     },
     "metadata": {
      "needs_background": "light"
     },
     "output_type": "display_data"
    }
   ],
   "source": [
    "area_cell.plot()"
   ]
  },
  {
   "cell_type": "code",
   "execution_count": 69,
   "metadata": {},
   "outputs": [
    {
     "data": {
      "text/plain": [
       "<matplotlib.collections.QuadMesh at 0x14603991b630>"
      ]
     },
     "execution_count": 69,
     "metadata": {},
     "output_type": "execute_result"
    },
    {
     "data": {
      "image/png": "[encoded data removed]",
      "text/plain": [
       "<Figure size 432x288 with 2 Axes>"
      ]
     },
     "metadata": {
      "needs_background": "light"
     },
     "output_type": "display_data"
    }
   ],
   "source": [
    "var_bool_blocked_clusters.mean(axis=0).plot()"
   ]
  },
  {
   "cell_type": "code",
   "execution_count": 33,
   "metadata": {},
   "outputs": [
    {
     "data": {
      "text/plain": [
       "<matplotlib.collections.QuadMesh at 0x2b8ed009b390>"
      ]
     },
     "execution_count": 33,
     "metadata": {},
     "output_type": "execute_result"
    },
    {
     "data": {
      "image/png": "[encoded data removed]",
      "text/plain": [
       "<Figure size 432x288 with 2 Axes>"
      ]
     },
     "metadata": {
      "needs_background": "light"
     },
     "output_type": "display_data"
    }
   ],
   "source": [
    "AGP=xr.open_dataset(\"/rds/general/user/cmt3718/home/data/reanal/AGP/AGP_clusters_data_day_EUR_era5_JJAextd.nc\")['TM90_clusters']\n",
    "\n",
    "AGP.mean(axis=0).plot()\n"
   ]
  },
  {
   "cell_type": "code",
   "execution_count": 45,
   "metadata": {},
   "outputs": [],
   "source": [
    "TM90_2D_xr.to_netcdf('/rds/general/user/cmt3718/home/data/AGP/AGP_cmip6_piControl_UKESM1-0-LL_EUR2_JJAextd_1960-2060.nc')  "
   ]
  },
  {
   "cell_type": "code",
   "execution_count": 39,
   "metadata": {},
   "outputs": [
    {
     "data": {
      "text/plain": [
       "<matplotlib.collections.QuadMesh at 0x2adeaedfc860>"
      ]
     },
     "execution_count": 39,
     "metadata": {},
     "output_type": "execute_result"
    },
    {
     "data": {
      "image/png": "[encoded data removed]",
      "text/plain": [
       "<Figure size 432x288 with 2 Axes>"
      ]
     },
     "metadata": {
      "needs_background": "light"
     },
     "output_type": "display_data"
    }
   ],
   "source": [
    "TM90_2D_xr.mean(axis=0).plot()"
   ]
  },
  {
   "cell_type": "code",
   "execution_count": 47,
   "metadata": {},
   "outputs": [],
   "source": [
    "TM90_2D_xrtot=xr.open_dataset(\"/rds/general/user/cmt3718/home/data/UKESM1-0-LL_piControl/AGP/AGP_clusters_UKESM1-0-LL_r1i1p1f2_EUR_piControl_JJAextd_1960-2060.nc\")['TM90_clusters']"
   ]
  },
  {
   "cell_type": "code",
   "execution_count": 50,
   "metadata": {},
   "outputs": [
    {
     "data": {
      "text/plain": [
       "<matplotlib.collections.QuadMesh at 0x2adeb0126ef0>"
      ]
     },
     "execution_count": 50,
     "metadata": {},
     "output_type": "execute_result"
    },
    {
     "data": {
      "image/png": "[encoded data removed]",
      "text/plain": [
       "<Figure size 432x288 with 2 Axes>"
      ]
     },
     "metadata": {
      "needs_background": "light"
     },
     "output_type": "display_data"
    }
   ],
   "source": [
    "TM90_2D_xrtot.mean(axis=0).plot()"
   ]
  },
  {
   "cell_type": "code",
   "execution_count": null,
   "metadata": {},
   "outputs": [],
   "source": []
  }
 ],
 "metadata": {
  "kernelspec": {
   "display_name": "Python [conda env:odin]",
   "language": "python",
   "name": "conda-env-odin-py"
  },
  "language_info": {
   "codemirror_mode": {
    "name": "ipython",
    "version": 3
   },
   "file_extension": ".py",
   "mimetype": "text/x-python",
   "name": "python",
   "nbconvert_exporter": "python",
   "pygments_lexer": "ipython3",
   "version": "3.6.5"
  }
 },
 "nbformat": 4,
 "nbformat_minor": 2
}
