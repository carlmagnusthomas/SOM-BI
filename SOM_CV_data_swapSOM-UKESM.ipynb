{
 "cells": [
  {
   "cell_type": "markdown",
   "metadata": {},
   "source": [
    "## SOM_CV_data_swapSOM\n",
    "\n",
    "This notebook trains the SOMs from the input data where there is a given GTD (either era5 or UK-ESM-1-0-LL piControl). From a specified number of folds in the cross-validation, the function trains and plots the SOM and associated trends from the training data. The SOM is then applied to the test dataset. This is done for each specified set of years.\n",
    "\n",
    "Here the codebook vectors trained from the ERA5 SOM is applied to the UKESM1-0-LL data to see if it can produce a better picture for the distribution of weather patterns.\n",
    "\n",
    "The opposite will also be tried as a way of testing the UKESM SOM.\n",
    "\n"
   ]
  },
  {
   "cell_type": "code",
   "execution_count": 1,
   "metadata": {},
   "outputs": [],
   "source": [
    "import numpy as np\n",
    "import scipy\n",
    "import netCDF4\n",
    "import matplotlib as mpl\n",
    "mpl.use(\"Agg\", warn=False)\n",
    "import matplotlib.pyplot as plt\n",
    "import matplotlib.cm as cm\n",
    "import sys\n",
    "import pandas as pd\n",
    "import os\n",
    "os.environ[\"PROJ_LIB\"] = \"/rds/general/user/kc1116/home/anaconda3/envs/zeus/share/proj\"\n",
    "import matplotlib as mpl\n",
    "import matplotlib\n",
    "import matplotlib.colors as colors\n",
    "from matplotlib.ticker import MultipleLocator, FormatStrFormatter\n",
    "from matplotlib import rcParams\n",
    "from mpl_toolkits.mplot3d import Axes3D\n",
    "import somoclu\n",
    "import cartopy\n",
    "import xarray\n",
    "import xarray as xr\n",
    "import glob\n",
    "import math\n",
    "from mpl_toolkits.basemap import Basemap as bm\n",
    "from itertools import groupby\n",
    "from scipy import stats\n",
    "import cartopy.crs as ccrs\n",
    "from statsmodels.stats.multitest import (multipletests, fdrcorrection,\n",
    "                                         fdrcorrection_twostage,\n",
    "                                         NullDistribution,\n",
    "                                         local_fdr)\n",
    "from scipy.stats import spearmanr, kendalltau, pearsonr\n",
    "from functools import wraps\n",
    "import errno\n",
    "import os\n",
    "import signal\n",
    "import SOM_trends_funcs as SOM_fn"
   ]
  },
  {
   "cell_type": "markdown",
   "metadata": {},
   "source": [
    "Run cell below to train z500 on ERA5 data and use the resulting map for UKESM1-0-LL for a given node number"
   ]
  },
  {
   "cell_type": "code",
   "execution_count": 7,
   "metadata": {},
   "outputs": [],
   "source": [
    "\n",
    "def save_SOM_data(zg_file, yrst, yrend, season, region, init, neigh, std, ep, rad_0, rad_N, rad_cooling, scale_0, scale_N, scale_cooling,\n",
    "            savefig_title, savefig_trends, n_rows, n_columns, samp, zg_str, colormap_str, suptitle, mult_test_method, #yrst=1979, yrend=2013\n",
    "                data_yr_reshaped, lat_str, lon_str, units, mdl, train_input = False, som_yr = None, JJA_days=104, save_SOM_str = False, save_SOM_trends_str = False, showplot=False):\n",
    "    \"\"\"\n",
    "    Save the data for all the climate models\n",
    "    \"\"\"\n",
    "    #Get the prepared data\n",
    "    #issue with prepData function so load information beforehand\n",
    "    if \"latitude\" in str(zg_file.coords):\n",
    "        lat_str, lon_str = \"latitude\", \"longitude\"\n",
    "    else:\n",
    "        lat_str, lon_str = \"lat\", \"lon\"\n",
    "    lats, lons, dates = zg_file[lat_str], zg_file[lon_str], data_yr_reshaped['time']\n",
    "    yrst, yrend = int(data_yr_reshaped['time.year'].min()), int(data_yr_reshaped['time.year'].max())\n",
    "    nr_lat, nr_lon = len(lats), len(lons)\n",
    "    m = bm(projection='cyl',llcrnrlat=lats[0],urcrnrlat=lats[-1],llcrnrlon=lons[0],urcrnrlon=lons[-1],resolution='l')\n",
    "    #print(f\"save_SOM data_yr_reshaped.shape = {data_yr_reshaped.shape}\")\n",
    "    #Train the SOM if not inputting an already trained SOM pattern\n",
    "    if train_input == False:\n",
    "        print(\"training\")\n",
    "        som_yr = somoclu.Somoclu(n_columns, n_rows, maptype=\"planar\",compactsupport=True,initialization=f\"{init}\", neighborhood=f\"{neigh}\", std_coeff=std)\n",
    "        som_yr.train(data_yr_reshaped,epochs=ep,radius0=rad_0,radiusN=rad_N,radiuscooling=f\"{rad_cooling}\",\n",
    "                 scale0=scale_0,scaleN=scale_N,scalecooling=f\"{scale_cooling}\")\n",
    "        bmus=som_yr.bmus\n",
    "    else:\n",
    "        #already have som_yr but need to calculate bmus\n",
    "        codebook_da = xarray.DataArray(som_yr.codebook, name = \"codebook\", dims = (\"row\", \"col\", \"latlon\"))\n",
    "        codebook_da_reshaped = codebook_da.values.reshape(n_rows*n_columns, data_yr_reshaped.shape[1])\n",
    "        codebook_da_reshaped_xr = xr.DataArray(codebook_da_reshaped, name = f\"codebook_reshaped\")\n",
    "        codebook_da_reshaped_xr = codebook_da_reshaped_xr.rename(dim_0=\"rowcol\").rename(dim_1=\"latlon_flat\")\n",
    "        bmus = SOM_fn.Identify_BMU_from_codebook(codebook_da_reshaped_xr, data_yr_reshaped, n_rows, n_columns)\n",
    "        \n",
    "    #Plot the trained SOM nodes \n",
    "    g, axes = plt.subplots(nrows=n_rows, ncols=n_columns, figsize=(10,5))\n",
    "    g.subplots_adjust(hspace=0.2, wspace=0.2)\n",
    "    #Store the frequency data in a list\n",
    "    freq_list = []\n",
    "    for i in range(n_rows): \n",
    "        for j in range(n_columns):\n",
    "            try:\n",
    "                ax = axes[i][j]\n",
    "                node = som_yr.codebook[i][j]\n",
    "            except: #doesn't work when not indexed, when one of n_rows or n_columns = 1\n",
    "                if n_rows > n_columns:\n",
    "                    ax = axes[i]\n",
    "                    node = som_yr.codebook[j]\n",
    "                else:\n",
    "                    ax = axes[i]\n",
    "                    node = som_yr.codebook[i]\n",
    "            #print(f\"node = {node}\")\n",
    "            #print(f\"node.shape = {node.shape}\")\n",
    "            node_orig = node.reshape(nr_lat,nr_lon)            \n",
    "            \n",
    "            SOM_fn.plot_field(m, node_orig, lats, lons, -330, 330, 30, ncols = n_columns, nrows = n_rows,  #for pv use -330/250, 330/250, 30/250 as levels\n",
    "                       ax=ax, grid=False, cmap=plt.get_cmap(colormap_str), fig=g, row=i, col=j)\n",
    "            #Pattern frequencies\n",
    "            if train_input == False:\n",
    "                freq = sum([1 for pat in som_yr.bmus if pat.tolist() == [j,i]])/float(len(som_yr.bmus))*100 #note the flipped indices\n",
    "            else:\n",
    "                #print(f\"pat = {[j,i]}\")\n",
    "                freq = sum([1 for pat in bmus if pat == [j,i]])/float(len(bmus))*100 #note the flipped indices\n",
    "                #print(f\"freq = {freq}\")\n",
    "            freq_list.append(freq)\n",
    "            props = dict(boxstyle='round', facecolor='white', alpha=0.8)\n",
    "            ax.text(0.05, 0.95, str(round(freq,1))+\"%\", transform=ax.transAxes, fontsize=14, verticalalignment='top', bbox=props)\n",
    "            #ax1.ticklabel_format(style=\"plain\")      \n",
    "    suptitle=f\"zg LTDM anom {mdl} {yrst}-{yrend} JJA ({units})\"            \n",
    "    g.suptitle(f\"{suptitle}\", fontsize=10)    \n",
    "    ax.ticklabel_format(style=\"plain\")      \n",
    "    if save_SOM_str != False:\n",
    "        print(f\"save_SOM_str = {save_SOM_str}\")\n",
    "        g.savefig(save_SOM_str, bbox_inches=\"tight\", dpi = 300)\n",
    "    if showplot == False:\n",
    "        plt.close();\n",
    "        \n",
    "    da_xr_trend, all_occur = saveSOMTrends(som_yr, dates, n_rows, n_columns, savefig_trends, colormap_str,\n",
    "                                mult_test_method, mdl, train_input=train_input, bmus=bmus, JJA_days=JJA_days, yrst=yrst, yrend=yrend, samp=samp)#, save_SOM_trends_str=save_SOM_trends_str)\n",
    "    return da_xr_trend, all_occur, som_yr\n"
   ]
  },
  {
   "cell_type": "code",
   "execution_count": 8,
   "metadata": {},
   "outputs": [],
   "source": [
    "#from swapERA5 (potentially fixed)\n",
    "def SOM_calc_samp_swap(file_zg_str, n_rows, n_columns, yrnum_train, som_yr_train_swap = None, showplot = False):\n",
    "    \"\"\"\n",
    "    Calculate and save the trained arrangement of SOM nodes for a set of subsamples of the data\n",
    "    Compare the perfrmance of the trained SOM for ERA5 with UK-ESM-1-0-LL when applying each to the other\n",
    "    One expects the performance - this tells us how important the files are\n",
    "    \"\"\"\n",
    "    file_zg_tot = xarray.open_dataset(file_zg_str).squeeze()\n",
    "    \n",
    "    yrst, yrend = int(file_zg_tot['time.year'].min()), int(file_zg_tot['time.year'].max())\n",
    "    yrst_train_arr = [yrst+i*yrnum_train for i in range(int((yrend - yrst)/yrnum_train))]    \n",
    "    \n",
    "    k = int((yrend - yrst)/yrnum_train)\n",
    "    #print(f\"{k}-fold cv\")    \n",
    "    if \"psl\" in file_zg_str:\n",
    "        zg_str = \"psl\"\n",
    "        units = \"Pa\"\n",
    "        data_yr_reshaped_str = (\"/rds/general/user/cmt3718/home/data/cmip6/UKESM1-0-LL/piControl/r1i1p1f2/psl/\"\n",
    " \"psl_day_UKESM1-0-LL_piControl_r1i1p1f2_gn_19600101-20601230_r180x91_LTDManom_EUR2_JJAextd_dtrnd_reshaped.nc\")     \n",
    "    if \"msl\" in file_zg_str:\n",
    "        zg_str = \"msl\"\n",
    "        units = \"Pa\"\n",
    "        data_yr_reshaped_str = f\"/rds/general/project/nowack_graven/live/carl/era5/mean_sea_level_pressure/mslp_ERA5_{yrst}-{yrend}_EUR_JJAextd_LTDMdaymean_anom_reshaped2.nc\"\n",
    "    if \"zg\" in file_zg_str:\n",
    "        zg_str = \"z\"\n",
    "        units = \"hPa\"\n",
    "        data_yr_reshaped_str = \"/rds/general/project/carl_phd/live/carl/data/era5/day/zg/LTDM/z_timedtrnd_ERA5_1979-2019_EUR_JJAextd_LTDMdaymean_anom_sort_reshaped.nc\"\n",
    "        if \"r180x91\" in file_zg_str:\n",
    "            data_yr_reshaped_str = \"/rds/general/project/carl_phd/live/carl/data/era5/day/zg/LTDM/z_timedtrnd_ERA5_1979-2019_EUR_JJAextd_LTDMdaymean_anom_r180x91_reshaped.nc\"\n",
    "    if \"UKESM\" in file_zg_str:\n",
    "        if \"zg\" in file_zg_str:\n",
    "            zg_str = \"zg\"\n",
    "            data_yr_reshaped_str = (\"/rds/general/user/cmt3718/home/data/cmip6/UKESM1-0-LL/piControl/r1i1p1f2/zg/\"\n",
    "                \"500zg_day_UKESM1-0-LL_piControl_r1i1p1f2_gn_19600101-20601230_r180x91_LTDManom_EUR_JJAextd_dtrnd_reshaped.nc\")\n",
    "            data_yr_reshaped = xr.open_dataset(data_yr_reshaped_str)['data_yr_reshaped']\n",
    "        if \"psl\" in file_zg_str:\n",
    "            zg_str = \"psl\"\n",
    "            data_yr_reshaped_str = (\"/rds/general/user/cmt3718/home/data/cmip6/UKESM1-0-LL/piControl/r1i1p1f2/psl/\"\n",
    "                \"psl_day_UKESM1-0-LL_piControl_r1i1p1f2_gn_19600101-20601230_r180x91_LTDManom_EUR_JJAextd_dtrnd_reshaped.nc\")\n",
    "            data_yr_reshaped = xr.open_dataset(data_yr_reshaped_str)['data_yr_reshaped']      \n",
    "    if \"era5\" in data_yr_reshaped_str and \"r180x91\" not in data_yr_reshaped_str:\n",
    "        data_yr_reshaped = xr.open_dataset(data_yr_reshaped_str)[f'era5_{zg_str}_reshaped']   \n",
    "    if \"r180x91\" and \"era5\" not in file_zg_str:\n",
    "        file_zg_tot = file_zg_tot[zg_str]\n",
    "\n",
    "    lat_str, lon_str = \"latitude\", \"longitude\"\n",
    "    if \"era5\" in file_zg_str:\n",
    "        mdl, ens = \"era5\", \"reanal\"\n",
    "        mdl_ens_str = f\"{mdl}_{ens}\"\n",
    "        mip = \"reanal\"\n",
    "    if \"UK\" in file_zg_str:\n",
    "        mdl, ens = \"UKESM1-0-LL\", \"r1i1p1f2\"\n",
    "        mdl_ens_str = f\"{mdl}_{ens}\"\n",
    "        mip = \"cmip6\"\n",
    "        lat_str, lon_str = \"lat\", \"lon\"\n",
    "    lats, lons = np.arange(30,76), np.arange(-10,41)\n",
    "    #need to adjust the longitude coordinate if it runs from 0 - 360 E instead of -180 to +180 E\n",
    "    file_zg_tot=SOM_fn.da_lon_adj(file_zg_tot)\n",
    "    if \"UKESM\" in file_zg_str:\n",
    "        file_zg_tot = file_zg_tot.sel(time = np.isin(file_zg_tot['time.dayofyear'], np.arange(147,245)))\n",
    "    else:\n",
    "        JJA_extd_daymonth_xr = xr.open_dataset(\"/rds/general/project/nowack_graven/live/carl/era5/day_month_1979-2019_JJAextd.nc\")['JJA_extd']\n",
    "        day_month = xr.open_dataset(\"/rds/general/project/nowack_graven/live/carl/era5/day_month_1979-2019_nolp.nc\")['day_month']\n",
    "        #file_zg_tot = file_zg_tot.sel(latitude = np.isin(file_zg_tot['latitude'], lats), \n",
    "        #                          longitude = np.isin(file_zg_tot['longitude'], lons))\n",
    "    file_zg_tot = file_zg_tot[zg_str]        \n",
    "    num_days, num_lats, num_lons = file_zg_tot.shape\n",
    "\n",
    "\n",
    "    init, neigh, std, ep, rad_0, rad_N, rad_cooling, scale_0, scale_N, scale_cooling = \"pca\", \"gaussian\", 0.5, 50, 1, 0, \"linear\", 0.1, 0.01, \"exponential\"\n",
    "    region, season = \"Europe\", \"JJA_extd\"\n",
    "    domain=\"EUR\"\n",
    "    samp = int((yrst_train_arr[1]-yrst_train_arr[0])/2)\n",
    "    colormap_str = \"seismic\"\n",
    "    suptitle=f\"zg LTDM anom {mdl} {yrst}-{yrend} JJA extd ({units})\"\n",
    "    #all cover different variations on the mltiple hypothesis test applied in Horton et al 2015\n",
    "    mult_test_method = \"fdr_bh\"#\"k-FWER\"#\"none\"#\"fdr_bh\"\n",
    "\n",
    "    if som_yr_train_swap != None:\n",
    "            dir_str = \"/rds/general/project/nowack_graven/live/carl_som_index/data\"\n",
    "            if \"UKESM\" in file_zg_str:\n",
    "                mdl_str = \"UKESM1-0-LL_piControl\"\n",
    "                swap_str = \"_swapERA5\"\n",
    "            elif \"era5\" in file_zg_str:\n",
    "                mdl_str = \"era5\"\n",
    "                swap_str = \"_swapUKESM1-0-LL\"\n",
    "            else:\n",
    "                print(\"not UKESM or era5 - cannot define save directories\")\n",
    "                return\n",
    "            savefig_SOM = (f\"{dir_str}/{mdl_str}/{zg_str}/plots/\"\n",
    "                        f\"SOM_fig_{mdl_ens_str}_{n_rows}x{n_columns}_{domain}_not{int(yrst)}-{int(yrend)}_{season}_{zg_str}{swap_str}.png\")\n",
    "            savefig_trends = (f\"{dir_str}/{mdl_str}/{zg_str}/plots/\"\n",
    "                        f\"SOMtrends_fig_{mdl_ens_str}_{n_rows}x{n_columns}_{domain}_not{int(yrst)}-{int(yrend)}_{season}_{zg_str}{swap_str}.png\")\n",
    "            SOM_trend_str = (f\"{dir_str}/{mdl_str}/{zg_str}/\"\n",
    "                        f\"SOM_tot_{mdl_ens_str}_{n_rows}x{n_columns}_{domain}_{int(yrst)}-{int(yrend)}_{season}_{zg_str}{swap_str}.nc\")\n",
    "            SOM_data_occ_str = (f\"{dir_str}/{mdl_str}/{zg_str}/\"\n",
    "                        f\"SOM_data_occur_tot_{mdl_ens_str}_{n_rows}x{n_columns}_{domain}_{int(yrst)}-{int(yrend)}_{season}_{zg_str}{swap_str}.nc\")\n",
    "\n",
    "\n",
    "            JJA_days = int(len(np.unique(file_zg_tot['time.dayofyear'])))\n",
    "            if \"era5\" in file_zg_str and \"msl\" not in file_zg_str:\n",
    "                JJA_days = JJA_days-1 #where there are leap years, need to remove from JJA_days since dayofyear will reflec the different leap year \n",
    "            #print(data_yr_reshaped_train)\n",
    "            #print(\"use trained SOM to calculate cv dataset\")\n",
    "            data_yr_reshaped = xr.open_dataset(\"/rds/general/project/carl_phd/live/carl/data/era5/day/zg/LTDM/z_timedtrnd_ERA5_1979-2019_EUR_JJAextd_LTDMdaymean_anom_r180x91_reshaped.nc\")[f'__xarray_dataarray_variable__']\n",
    "            #print(f\"file_zg_tot = {file_zg_tot}\")\n",
    "            #print(f\"data_yr_reshaped = {data_yr_reshaped}\")\n",
    "            #print(f\"som_yr_train_swap.bmus.shape = {som_yr_train_swap.bmus.shape}\")\n",
    "            #using the trained SOM, calculate the \n",
    "            da_xr_trend, all_occur, som_yr = save_SOM_data(file_zg_tot, yrst, yrend, \n",
    "                        season, region, init, neigh, std, ep, rad_0, rad_N, rad_cooling, scale_0, scale_N, scale_cooling,\n",
    "                        savefig_SOM, savefig_trends, n_rows, n_columns, samp, zg_str, colormap_str, suptitle, mult_test_method, \n",
    "                            data_yr_reshaped, lat_str, lon_str, units, mdl_ens_str, train_input = True, som_yr = som_yr_train_swap, JJA_days=JJA_days, showplot=showplot)\n",
    "\n",
    "            print(f\"saving tested data in {SOM_trend_str} \\n {SOM_data_occ_str}\")\n",
    "            da_xr_trend.to_netcdf(SOM_trend_str)\n",
    "            da = xarray.DataArray(all_occur, name = \"SOM_data\", dims = (\"row\", \"col\", \"time\"))\n",
    "            da['time'] = file_zg_tot['time']\n",
    "            da.to_netcdf(SOM_data_occ_str)        \n",
    "\n",
    "        \n",
    "    else:\n",
    "        #cross-validation training period\n",
    "        for yrst_train in yrst_train_arr[:]:\n",
    "            #print(f\"train period {yrst_train}-{yrst_train+yrnum_train}\")\n",
    "            if int(yrst_train) > 0:\n",
    "                #subselect training and cv periods    \n",
    "                file_zg_tot_train = file_zg_tot.sel(time = np.isin(file_zg_tot['time.year'], np.arange(yrst_train, yrst_train+yrnum_train+1), invert=True))\n",
    "                data_yr_reshaped_train = data_yr_reshaped.sel(time = np.isin(data_yr_reshaped['time'], file_zg_tot_train['time']))\n",
    "\n",
    "                file_zg_tot_cv = file_zg_tot.sel(time = np.isin(file_zg_tot['time.year'], np.arange(yrst_train, yrst_train+yrnum_train+1), invert=False))\n",
    "                data_yr_reshaped_cv = data_yr_reshaped.sel(time = np.isin(data_yr_reshaped['time'], file_zg_tot_cv['time']))        \n",
    "                if \"UKESM\" in file_zg_str:\n",
    "                    #/rds/general/user/cmt3718/home/data/cmip6/SOM/trends/UK-ESM1-0-LL_piControl/zg/crossval/10-fold\n",
    "                    #/rds/general/project/nowack_graven/live/carl_som_index/data/UKESM1-0-LL_piControl/zg/crossval/5-fold/\n",
    "                    savefig_SOM = f\"/rds/general/project/nowack_graven/live/carl_som_index/data/UKESM1-0-LL_piControl/{zg_str}/crossval/{k}-fold/plots/SOM_fig_{mdl_ens_str}_{n_rows}x{n_columns}_{domain}_not{int(yrst_train)}-{int(yrst_train+yrnum_train)}_{season}_{zg_str}_LTDManom.png\"\n",
    "                    savefig_trends = f\"/rds/general/project/nowack_graven/live/carl_som_index/data/UKESM1-0-LL_piControl/{zg_str}/crossval/{k}-fold/plots/SOMtrends_fig_{mdl_ens_str}_{n_rows}x{n_columns}_{domain}_not{int(yrst_train)}-{int(yrst_train+yrnum_train)}_{season}_{zg_str}_LTDManom.png\"\n",
    "                    SOM_trend_str_train = f\"/rds/general/project/nowack_graven/live/carl_som_index/data/UKESM1-0-LL_piControl/{zg_str}/crossval/{k}-fold/SOM_train_{mdl_ens_str}_{n_rows}x{n_columns}_{domain}_not{int(yrst_train)}-{int(yrst_train+yrnum_train)}_{season}_{zg_str}_LTDManom.nc\"\n",
    "                    SOM_data_occ_str_train = f\"/rds/general/project/nowack_graven/live/carl_som_index/data/UKESM1-0-LL_piControl/{zg_str}/crossval/{k}-fold/SOM_data_occur_train_{mdl_ens_str}_{n_rows}x{n_columns}_{domain}_not{int(yrst_train)}-{int(yrst_train+yrnum_train)}_{season}_{zg_str}_LTDManom.nc\"\n",
    "                    SOM_trend_str_cv = f\"/rds/general/project/nowack_graven/live/carl_som_index/data/UKESM1-0-LL_piControl/{zg_str}/crossval/{k}-fold/SOM_cv_{mdl_ens_str}_{n_rows}x{n_columns}_{domain}_{int(yrst_train)}-{int(yrst_train+yrnum_train)}_{season}_{zg_str}_LTDManom.nc\"\n",
    "                    SOM_data_occ_str_cv = f\"/rds/general/project/nowack_graven/live/carl_som_index/data/UKESM1-0-LL_piControl/{zg_str}/crossval/{k}-fold/SOM_data_occur_cv_{mdl_ens_str}_{n_rows}x{n_columns}_{domain}_{int(yrst_train)}-{int(yrst_train+yrnum_train)}_{season}_{zg_str}_LTDManom.nc\"\n",
    "\n",
    "                elif \"era5\" in file_zg_str:\n",
    "                    savefig_SOM = f\"/rds/general/project/nowack_graven/live/carl_som_index/data/era5/{zg_str}/crossval/{k}-fold/plots/SOM_fig_{mdl_ens_str}_{n_rows}x{n_columns}_{domain}_not{int(yrst_train)}-{int(yrst_train+yrnum_train)}_{season}_{zg_str}_LTDManom.png\"\n",
    "                    savefig_trends = f\"/rds/general/project/nowack_graven/live/carl_som_index/data/era5/{zg_str}/crossval/{k}-fold/plots/SOMtrends_fig_{mdl_ens_str}_{n_rows}x{n_columns}_{domain}_not{int(yrst_train)}-{int(yrst_train+yrnum_train)}_{season}_{zg_str}_LTDManom.png\"\n",
    "                    SOM_trend_str_train = f\"/rds/general/project/nowack_graven/live/carl_som_index/data/era5/{zg_str}/crossval/{k}-fold/SOM_train_{mdl_ens_str}_{n_rows}x{n_columns}_{domain}_not{int(yrst_train)}-{int(yrst_train+yrnum_train)}_{season}_{zg_str}_LTDManom.nc\"\n",
    "                    SOM_data_occ_str_train = f\"/rds/general/project/nowack_graven/live/carl_som_index/data/era5/{zg_str}/crossval/{k}-fold/SOM_data_occur_train_{mdl_ens_str}_{n_rows}x{n_columns}_{domain}_not{int(yrst_train)}-{int(yrst_train+yrnum_train)}_{season}_{zg_str}_LTDManom.nc\"\n",
    "                    SOM_trend_str_cv = f\"/rds/general/project/nowack_graven/live/carl_som_index/data/era5/{zg_str}/crossval/{k}-fold/SOM_cv_{mdl_ens_str}_{n_rows}x{n_columns}_{domain}_{int(yrst_train)}-{int(yrst_train+yrnum_train)}_{season}_{zg_str}_LTDManom.nc\"\n",
    "                    SOM_data_occ_str_cv = f\"/rds/general/project/nowack_graven/live/carl_som_index/data/era5/{zg_str}/crossval/{k}-fold/SOM_data_occur_cv_{mdl_ens_str}_{n_rows}x{n_columns}_{domain}_{int(yrst_train)}-{int(yrst_train+yrnum_train)}_{season}_{zg_str}_LTDManom.nc\"\n",
    "                else:\n",
    "                    print(\"not UKESM or era5 - cannot define save directories\")\n",
    "                    return\n",
    "\n",
    "                JJA_days = int(len(np.unique(file_zg_tot['time.dayofyear'])))\n",
    "                if \"era5\" in file_zg_str and \"msl\" not in file_zg_str:\n",
    "                    JJA_days = JJA_days-1 #where there are leap years, need to remove from JJA_days since dayofyear will reflec the different leap year \n",
    "                #print(data_yr_reshaped_train)\n",
    "                #load the training dataset\n",
    "                da_xr_trend_train, all_occur_train, som_yr_train = save_SOM_data(file_zg_tot_train, yrst, yrend, \n",
    "                            season, region, init, neigh, std, ep, rad_0, rad_N, rad_cooling, scale_0, scale_N, scale_cooling,\n",
    "                            savefig_SOM, savefig_trends, n_rows, n_columns, samp, zg_str, colormap_str, suptitle, mult_test_method, \n",
    "                                data_yr_reshaped_train, lat_str, lon_str, units, mdl_ens_str, train_input = False, JJA_days=JJA_days, save_SOM_str=savefig_SOM, showplot=showplot)\n",
    "\n",
    "                #print(\"use trained SOM to calculate cv dataset\")\n",
    "                #using the trained SOM, calculate the \n",
    "                da_xr_trend_cv, all_occur_cv, som_yr_train = save_SOM_data(file_zg_tot_cv, yrst, yrend, \n",
    "                            season, region, init, neigh, std, ep, rad_0, rad_N, rad_cooling, scale_0, scale_N, scale_cooling,\n",
    "                            savefig_SOM, savefig_trends, n_rows, n_columns, samp, zg_str, colormap_str, suptitle, mult_test_method, \n",
    "                                data_yr_reshaped_cv, lat_str, lon_str, units, mdl_ens_str, train_input = True, som_yr = som_yr_train, JJA_days=JJA_days, showplot=showplot)\n",
    "\n",
    "                print(f\"saving training in {SOM_trend_str_train}\")\n",
    "                da_xr_trend_train.to_netcdf(SOM_trend_str_train)\n",
    "                da_train=xarray.DataArray(all_occur_train, name = \"SOM_data\", dims = (\"row\", \"col\", \"time\"))\n",
    "                da_train['time']=file_zg_tot_train['time']\n",
    "                da_train.to_netcdf(SOM_data_occ_str_train)\n",
    "                print(f\"saving cv in {SOM_trend_str_cv}\")\n",
    "                da_xr_trend_cv.to_netcdf(SOM_trend_str_cv)\n",
    "                da_cv=xarray.DataArray(all_occur_cv, name = \"SOM_data\", dims = (\"row\", \"col\", \"time\"))\n",
    "                da_cv['time']=file_zg_tot_cv['time']\n",
    "                da_cv.to_netcdf(SOM_data_occ_str_cv)\n",
    "    return\n",
    "\n",
    "\n",
    "\n",
    "    \n",
    "def train_test_maps(file_zg_str_train, file_zg_str_test, n_rows, n_columns):\n",
    "    \"\"\"\n",
    "    Train the SOM maps for what \n",
    "    \"\"\"\n",
    "    file_zg_tot_train = xarray.open_dataset(file_zg_str_train).squeeze()\n",
    "\n",
    "    if \"psl\" in file_zg_str_train:\n",
    "        zg_str = \"psl\"\n",
    "        units = \"Pa\"\n",
    "        data_yr_reshaped_str = (\"/rds/general/user/cmt3718/home/data/cmip6/UKESM1-0-LL/piControl/r1i1p1f2/psl/\"\n",
    "    \"psl_day_UKESM1-0-LL_piControl_r1i1p1f2_gn_19600101-20601230_r180x91_LTDManom_EUR2_JJAextd_dtrnd_reshaped.nc\")     \n",
    "    if \"msl\" in file_zg_str_train:\n",
    "        zg_str = \"msl\"\n",
    "        units = \"Pa\"\n",
    "        data_yr_reshaped_str = f\"/rds/general/project/nowack_graven/live/carl/era5/mean_sea_level_pressure/mslp_ERA5_{yrst}-{yrend}_EUR_JJAextd_LTDMdaymean_anom_reshaped2.nc\"\n",
    "    if \"zg\" in file_zg_str_train:\n",
    "        zg_str = \"z\"\n",
    "        units = \"hPa\"\n",
    "        data_yr_reshaped_str = \"/rds/general/project/carl_phd/live/carl/data/era5/day/zg/LTDM/z_timedtrnd_ERA5_1979-2019_EUR_JJAextd_LTDMdaymean_anom_sort_reshaped.nc\"\n",
    "        if \"r180x91\" in file_zg_str_train:\n",
    "            data_yr_reshaped_str = \"/rds/general/project/carl_phd/live/carl/data/era5/day/zg/LTDM/z_timedtrnd_ERA5_1979-2019_EUR_JJAextd_LTDMdaymean_anom_r180x91_reshaped.nc\"\n",
    "    if \"UKESM\" in file_zg_str_train:\n",
    "        if \"zg\" in file_zg_str_train:\n",
    "            zg_str = \"zg\"\n",
    "            data_yr_reshaped_str = (\"/rds/general/user/cmt3718/home/data/cmip6/UKESM1-0-LL/piControl/r1i1p1f2/zg/\"\n",
    "                \"500zg_day_UKESM1-0-LL_piControl_r1i1p1f2_gn_19600101-20601230_r180x91_LTDManom_EUR_JJAextd_dtrnd_reshaped.nc\")\n",
    "            data_yr_reshaped_train = xr.open_dataset(data_yr_reshaped_str)['data_yr_reshaped']\n",
    "        if \"psl\" in file_zg_str_train:\n",
    "            zg_str = \"psl\"\n",
    "            data_yr_reshaped_str = (\"/rds/general/user/cmt3718/home/data/cmip6/UKESM1-0-LL/piControl/r1i1p1f2/psl/\"\n",
    "                \"psl_day_UKESM1-0-LL_piControl_r1i1p1f2_gn_19600101-20601230_r180x91_LTDManom_EUR_JJAextd_dtrnd_reshaped.nc\")\n",
    "            data_yr_reshaped = xr.open_dataset(data_yr_reshaped_str)['data_yr_reshaped']      \n",
    "    if \"era5\" in data_yr_reshaped_str:\n",
    "        if \"r180x91\" not in data_yr_reshaped_str:\n",
    "            data_yr_reshaped_train = xr.open_dataset(data_yr_reshaped_str)[f'era5_{zg_str}_reshaped']   \n",
    "        else:\n",
    "            data_yr_reshaped_train = xr.open_dataset(\"/rds/general/project/carl_phd/live/carl/data/era5/day/zg/LTDM/z_timedtrnd_ERA5_1979-2019_EUR_JJAextd_LTDMdaymean_anom_r180x91_reshaped.nc\")['__xarray_dataarray_variable__']\n",
    "\n",
    "    if \"r180x91\" not in file_zg_str_train:\n",
    "        file_zg_tot_train = file_zg_tot[zg_str]\n",
    "\n",
    "    if \"latitude\" in str(file_zg_tot_train.coords):    \n",
    "        lat_str, lon_str = \"latitude\", \"longitude\"\n",
    "    else:\n",
    "        lat_str, lon_str = \"lat\", \"lon\"\n",
    "\n",
    "    if \"era5\" in file_zg_str_train:\n",
    "        mdl, ens = \"era5\", \"reanal\"\n",
    "        mdl_ens_str = f\"{mdl}_{ens}\"\n",
    "        mdl_str = \"era5\"\n",
    "        swap_str = \"_tot\"#\"_swapERA5\"    \n",
    "        mip = \"reanal\"\n",
    "    if \"UK\" in file_zg_str_train:\n",
    "        mdl, ens = \"UKESM1-0-LL\", \"piControl\"\n",
    "        mdl_ens_str = f\"{mdl}_{ens}\"\n",
    "        mdl_str = f\"{mdl}_{ens}\"\n",
    "        mip = \"cmip6\"\n",
    "        swap_str = \"_tot\"#\"_swapUKESM1-0-LL\"    \n",
    "        lat_str, lon_str = \"lat\", \"lon\"\n",
    "    lats, lons = np.arange(30,77), np.arange(-10,41)\n",
    "    #need to adjust the longitude coordinate if it runs from 0 - 360 E instead of -180 to +180 E\n",
    "    file_zg_tot_train = SOM_fn.da_lon_adj(file_zg_tot_train)\n",
    "    if \"UKESM\" in file_zg_str_train:\n",
    "        file_zg_tot_train = file_zg_tot_train.sel(time = np.isin(file_zg_tot_train['time.dayofyear'], np.arange(147,245)))\n",
    "    elif \"era5\" in file_zg_str_train and \"r180x91\" not in file_zg_str_train:\n",
    "        JJA_extd_daymonth_xr = xr.open_dataset(\"/rds/general/project/nowack_graven/live/carl/era5/day_month_1979-2019_JJAextd.nc\")['JJA_extd']\n",
    "        #zg_file['day_month'] = xr.open_dataset(\"/rds/general/project/nowack_graven/live/carl/era5/day_month_1979-2019_nolp.nc\")['day_month']\n",
    "        day_month = xr.open_dataset(\"/rds/general/project/nowack_graven/live/carl/era5/day_month_1979-2019_nolp.nc\")['day_month']\n",
    "        file_zg_tot_train = file_zg_tot_train.sel(latitude = np.isin(file_zg_tot_train[lat_str], lats), \n",
    "                                  longitude = np.isin(file_zg_tot_train[lon_str], lons))\n",
    "        #if \"msl\" in file_zg_str_train:\n",
    "        #    file_zg_tot = file_zg_tot.sel(time = np.isin(day_month, JJA_extd_daymonth_xr))\n",
    "        #.sel(time = np.isin(file_zg_tot['time.year'], np.arange(yrst_train, yrst_train+yrnum_train+1), invert=True))[zg_str]\n",
    "    num_days, num_lats, num_lons = file_zg_tot_train['zg'].shape\n",
    "\n",
    "    yrst, yrend = int(file_zg_tot_train['time.year'].min()), int(file_zg_tot_train['time.year'].max())\n",
    "    samp = int((yrst-yrend)/2)\n",
    "    init, neigh, std, ep, rad_0, rad_N, rad_cooling, scale_0, scale_N, scale_cooling = \"pca\", \"gaussian\", 0.5, 50, 1, 0, \"linear\", 0.1, 0.01, \"exponential\"\n",
    "    region, season, domain = \"Europe\", \"JJA_extd\", \"EUR\"\n",
    "\n",
    "\n",
    "    dir_str = \"/rds/general/project/nowack_graven/live/carl_som_index/data\"\n",
    "    savefig_SOM = (f\"{dir_str}/{mdl_str}/{zg_str}/plots/\"\n",
    "                f\"SOM_fig_{mdl_ens_str}_{n_rows}x{n_columns}_{domain}_not{int(yrst)}-{int(yrend)}_{season}_{zg_str}{swap_str}.png\")\n",
    "    savefig_trends = (f\"{dir_str}/{mdl_str}/{zg_str}/plots/\"\n",
    "                f\"SOMtrends_fig_{mdl_ens_str}_{n_rows}x{n_columns}_{domain}_not{int(yrst)}-{int(yrend)}_{season}_{zg_str}{swap_str}.png\")\n",
    "    SOM_trend_str_train = (f\"{dir_str}/{mdl_str}/{zg_str}/\"\n",
    "                f\"SOM_train_{mdl_ens_str}_{n_rows}x{n_columns}_{domain}_not{int(yrst)}-{int(yrend)}_{season}_{zg_str}{swap_str}.nc\")\n",
    "    SOM_data_occ_str_train = (f\"{dir_str}/{mdl_str}/{zg_str}/\"\n",
    "                f\"SOM_data_occur_train_{mdl_ens_str}_{n_rows}x{n_columns}_{domain}_not{int(yrst)}-{int(yrend)}_{season}_{zg_str}{swap_str}.nc\")\n",
    "    SOM_trend_str_cv = (f\"{dir_str}/{mdl_str}/{zg_str}/\"\n",
    "                f\"SOM_cv_{mdl_ens_str}_{n_rows}x{n_columns}_{domain}_{int(yrst)}-{int(yrend)}_{season}_{zg_str}{swap_str}.nc\")\n",
    "    SOM_data_occ_str_cv = (f\"{dir_str}/{mdl_str}/{zg_str}/\"\n",
    "                f\"SOM_data_occur_cv_{mdl_ens_str}_{n_rows}x{n_columns}_{domain}_{int(yrst)}-{int(yrend)}_{season}_{zg_str}{swap_str}.nc\")\n",
    "\n",
    "    #print(f\"SOM_data_occ_str_train = {SOM_data_occ_str_train}\")\n",
    "    #print(f\"SOM_data_occ_str_cv = {SOM_data_occ_str_cv}\")    \n",
    "    \n",
    "    JJA_days = int(len(np.unique(file_zg_tot_train['time.dayofyear'])))\n",
    "    if \"era5\" in file_zg_str_train and \"msl\" not in file_zg_str_train:\n",
    "        JJA_days = JJA_days-1\n",
    "    colormap_str = \"seismic\"\n",
    "    suptitle=f\"zg LTDM anom {mdl} {yrst}-{yrend} JJA extd ({units})\"\n",
    "    mult_test_method = \"fdr_bh\"#\"k-FWER\"#\"none\"#\"fdr_bh\"\n",
    "    \n",
    "    \n",
    "    #print(f\"file_zg_tot_train = {file_zg_tot_train}\")\n",
    "    #print(f\"training original SOM data on {file_zg_str_train}\")\n",
    "    da_xr_trend_train, all_occur_train, som_yr_train = save_SOM_data(file_zg_tot_train, yrst, yrend, \n",
    "                        season, region, init, neigh, std, ep, rad_0, rad_N, rad_cooling, scale_0, scale_N, scale_cooling,\n",
    "                        savefig_SOM, savefig_trends, n_rows, n_columns, samp, zg_str, colormap_str, suptitle, mult_test_method, \n",
    "                        data_yr_reshaped_train, lat_str, lon_str, units, mdl_ens_str, train_input = False, JJA_days=JJA_days, save_SOM_str=savefig_SOM, showplot=True)\n",
    "    da_xr_trend_train.to_netcdf(SOM_trend_str_train)\n",
    "    print(f\"saved trends in {SOM_trend_str_train}\")\n",
    "#    print(f\"all_occur_train = {all_occur_train}\")\n",
    "    da = xarray.DataArray(all_occur_train, name = \"SOM_data\", dims = (\"row\", \"col\", \"time\"))\n",
    "    da['time'] = file_zg_tot_train['time']\n",
    "    da.to_netcdf(SOM_data_occ_str_train)\n",
    "    print(f\"saved data_occ in {SOM_data_occ_str_train}\")\n",
    "#    da_xr_trend_train\n",
    "#    /rds/general/project/nowack_graven/live/carl_som_index/data/zg/\n",
    "    ##add the code below - just running again here since I neglected to save the training data files 29/10/20\n",
    "    print(f\"test the trained SOM on {file_zg_str_test}\")\n",
    "    yrnum_train=10 #irrelevant value here since variable is simply apssed through the function\n",
    "    SOM_calc_samp_swap(file_zg_str_test, n_rows, n_columns, yrnum_train, som_yr_train_swap = som_yr_train, showplot = True)\n",
    "    return\n",
    "\n",
    "\n",
    "\n"
   ]
  },
  {
   "cell_type": "code",
   "execution_count": 9,
   "metadata": {},
   "outputs": [],
   "source": [
    "#Function to plot the SOM trends\n",
    "#added values to modify Gerald's function (issues with date formatting)\n",
    "def saveSOMTrends(som_yr, dates, n_rows, n_columns, savefig_trends, colormap_str, mult_test_method, mdl, train_input=False, bmus=None, JJA_days=104, yrst=1979, yrend=2019, samp=10, plot=True, showplot=False):\n",
    "    \"\"\"\n",
    "    Plots the trends (occurrence, persistence, max duration) of the SOM patterns generated from the GPH data. \n",
    "    \n",
    "    Parameters\n",
    "    ----------\n",
    "    som_yr    : somoclu.train.Somoclu\n",
    "        The trained SOM (somoclu object)\n",
    "    seas_yr   : xarray.DataArray\n",
    "        Data array containing GPH data and information on time, latitude, longitude variables in the selected time range, season and region\n",
    "        \n",
    "    Returns\n",
    "    ---------\n",
    "    grad_list : list \n",
    "        List of the gradients of the pattern occurrence trends computed by linear least-squares regression \n",
    "    all_occur : list \n",
    "        List of occurrences per day in the trained dataset for each SOM pattern\n",
    "    \"\"\"\n",
    "    if train_input==False:\n",
    "        #calculate the best matching unit\n",
    "        #Extract pattern data (occurence, persistence, max duration)\n",
    "        #Store each pattern data as a binary list of len(dates), i.e. [1,0,0,0,1...,1]\n",
    "        bmus = som_yr.bmus\n",
    "    \n",
    "    global all_occur\n",
    "    all_occur = [[] for i in range(max(n_rows,n_columns))]\n",
    "    for a in range(n_rows):\n",
    "        for b in range(n_columns): \n",
    "            curr_occur = []\n",
    "            for c in bmus:\n",
    "                if train_input==False:\n",
    "                    if c.tolist() == [b,a]: #### need to swap the indices here!! #b'a\n",
    "                        curr_occur.append(1) #This pattern occured on this date\n",
    "                    else:\n",
    "                        curr_occur.append(0) #This pattern didn't occur \n",
    "                else:\n",
    "                    if c == [b,a]: #### need to swap the indices here!! #b'a\n",
    "                        curr_occur.append(1) #This pattern occured on this date\n",
    "                    else:\n",
    "                        curr_occur.append(0) #This pattern didn't occur                     \n",
    "            all_occur[a].append(curr_occur)\n",
    "    #Loop through each set of circulation occurence data\n",
    "    da_arr, rownum_arr, colnum_arr = [], [], []\n",
    "    \n",
    "   \n",
    "    \n",
    "    ##### Plotting - can put in a different function\n",
    "    #####\n",
    "    if plot:\n",
    "        #Plotting axes the extracted circulation data\n",
    "        if n_columns == 1:\n",
    "            f, axes1 = plt.subplots(nrows=n_rows, ncols=n_columns+1, figsize=(10,10))\n",
    "        elif n_rows == 1:\n",
    "            f, axes1 = plt.subplots(nrows=n_rows+1, ncols=n_columns, figsize=(10,10))\n",
    "        else:\n",
    "            f, axes1 = plt.subplots(nrows=n_rows, ncols=n_columns, figsize=(10,10))\n",
    "        f.subplots_adjust(hspace=0.2, wspace=0.2)\n",
    "    test_num = 8 #number of p value tests in family of hypotheses (occ, persis, max_dur and event_no * 2)\n",
    "    #pvalue and gradient matrices for each node\n",
    "    pval_mat, grad_mat = np.zeros((n_rows,n_columns,test_num)), np.zeros((n_rows,n_columns,test_num))    \n",
    "    grad_list = []\n",
    "    for row in range(n_rows):  \n",
    "        for col in range(n_columns):\n",
    "            #Need some exception handling for rare cases where any of the patterns doesnt occur in a year\n",
    "            #NOTE the swapped indices [col][row] here! Doulbe check with Joy's code, see if node number can be confirmed\n",
    "            #print(f\"all_occur[row][col] = {all_occur[row][col]}\")\n",
    "            #all_occur[row][col] is the relevant matrix for investigating case studies\n",
    "            cum_data = pd.Series(np.array(all_occur[row][col]), index=dates.values)\n",
    "            #print(f\"cum_data = {cum_data}\")\n",
    "            #to generate the years in the dataset, since cum_data.index.year has issues\n",
    "            #hard-coded here for simplicity, but can probably neaten up later\n",
    "            JJA_days, years_num = 98, 101 #for UKESM\n",
    "            if train_input:\n",
    "                JJA_days, years_num = 100, 41 # hard-coded here for UKESM comparison with ERA5\n",
    "            years_zeros = np.zeros((years_num*JJA_days))\n",
    "            if type(yrst) == int or type(yrst) == float:\n",
    "                arr_gen = np.array([years_zeros[JJA_days*i:JJA_days*(i+1)]+i+yrst for i in range(years_num)\n",
    "                               ]).reshape(years_num*JJA_days)\n",
    "            else: #yrst an array\n",
    "                print(\"yrst an array\")\n",
    "                arr_gen = np.array([years_zeros[JJA_days*i:JJA_days*(i+1)]+i+int(yrst.values) for i in range(years_num)\n",
    "                               ]).reshape(years_num*JJA_days)\n",
    "            sort_to_year = cum_data.groupby(arr_gen).apply(list)\n",
    "            year = np.array(sort_to_year.keys().tolist()) #[1979, 1980,...]\n",
    "            occ = [sum(d) for d in sort_to_year]  #[25,40,...]\n",
    "            # Count streaks \n",
    "            streaks = [[sum(1 for i in g) for k,g in groupby(x) if k == 1] for x in sort_to_year]\n",
    "            streak_count = [[(k, sum(1 for i in g)) for k,g in groupby(sorted(x)) ] for x in streaks]\n",
    "            \n",
    "            #Persistence (if statement to avoid division by zero )\n",
    "            persis = [ sum([x[0]*x[1] for x in year])/sum([x[1] for x in year]) if sum([x[1] for x in year]) != 0 else 0 for year in streak_count ]\n",
    "            #Max Duration \n",
    "            max_dur = [ year[-1][0] if year != [] else 0 for year in streak_count]\n",
    "            ##want to store occ, persis, max_dur and ev_no in a xarray Dataset/DataArray to save, with the time file showing the years\n",
    "            ##need to store this for each node (36 different 1d arrays for each model, plus the timestamp)\n",
    "\n",
    "            def len_iter(items):\n",
    "                return sum(1 for _ in items)            \n",
    "            \n",
    "            def consecutive_one_len(data):\n",
    "                return len(list(len_iter(run) for val, run in groupby(data) if val))            \n",
    "            event_no = [consecutive_one_len(d) for d in sort_to_year] \n",
    "            \n",
    "            store = [occ, persis, max_dur, event_no]\n",
    "            \n",
    "            da = xarray.DataArray(store, dims = ('SOM_trend_metrics', \"year\"))\n",
    "            da['year'] = year\n",
    "            da['SOM_trend_metrics'] = ['occ', 'persis', 'max_dur', 'event_no']\n",
    "            da_arr.append(da)\n",
    "            #store the DataArray and the accompanying row and column number of the SOM pattern            \n",
    "            rownum_arr.append(row)\n",
    "            colnum_arr.append(col)\n",
    "            \n",
    "            if plot:\n",
    "                def len_iter(items):\n",
    "                    return sum(1 for _ in items)            \n",
    "\n",
    "                def consecutive_one_len(data):\n",
    "                    return len(list(len_iter(run) for val, run in groupby(data) if val))            \n",
    "                event_no = [consecutive_one_len(d) for d in sort_to_year]      \n",
    "                #event_no = [sum(d) for d in sort_to_year]        \n",
    "                #np.ones((len(sort_to_year)))*sum(sort_to_year)\n",
    "                #Fitting via Linear Least Squares Regression (With Serial Correlation)\n",
    "                def fit(m,x,c):  #Simple linear function\n",
    "                    return m*x + c\n",
    "\n",
    "                #Occurrence \n",
    "                m0, c0, r0, p0, err0 = scipy.stats.linregress(year,occ)\n",
    "                m1, c1, r1, p1, err1 = scipy.stats.linregress(year[samp:],occ[samp:])\n",
    "                fit_occ = [fit(m0,x,c0) for x in year]\n",
    "                fit_occ1 = [fit(m1,x,c1) for x in year[samp:]]\n",
    "                grad_list.append(m0)\n",
    "\n",
    "                #Persistence\n",
    "                m2, c2, r2, p2, err2 = scipy.stats.linregress(year,persis)\n",
    "                m3, c3, r3, p3, err3 = scipy.stats.linregress(year[samp:],persis[samp:])\n",
    "                fit_per = [fit(m2,x,c2) for x in year]\n",
    "                fit_per1 = [fit(m3,x,c3) for x in year[samp:]]\n",
    "\n",
    "                #Max duration\n",
    "                m4, c4, r4, p4, err4 = scipy.stats.linregress(year,max_dur)\n",
    "                m5, c5, r5, p5, err5 = scipy.stats.linregress(year[samp:],max_dur[samp:])\n",
    "                fit_dur = [fit(m4,x,c4) for x in year]\n",
    "                fit_dur1 = [fit(m5,x,c5) for x in year[samp:]]\n",
    "\n",
    "                #Event number\n",
    "                m6, c6, r6, p6, err6 = scipy.stats.linregress(year,event_no)\n",
    "                m7, c7, r7, p7, err7 = scipy.stats.linregress(year[samp:],event_no[samp:])\n",
    "                fit_evno = [fit(m6,x,c6) for x in year]\n",
    "                fit_evno1 = [fit(m7,x,c7) for x in year[samp:]]\n",
    "                \n",
    "                #Plot results\n",
    "                row, col = int(row), int(col)\n",
    "                occ, persis, max_dur, event_no = np.array(occ), np.array(persis), np.array(max_dur), np.array(event_no)\n",
    "                \n",
    "                axes1[row][col].scatter(year, occ, c='k', s=3, label=\"Occurrences\") #plot occurrences vs years\n",
    "                axes1[row][col].plot(year, fit_occ, c='k')\n",
    "                axes1[row][col].plot(year[samp:], fit_occ1, '--', c='k')\n",
    "\n",
    "                axes1[row][col].scatter(year, persis, c='b', s=3, label=\"Persistence\") #plot persistence vs years\n",
    "                axes1[row][col].plot(year, fit_per, c='b')\n",
    "                axes1[row][col].plot(year[samp:], fit_per1, '--', c='b')\n",
    "\n",
    "                axes1[row][col].scatter(year, max_dur, c='r', s=3, label=\"Max Duration\") #plot max duration vs years\n",
    "                axes1[row][col].plot(year, fit_dur, c='r')\n",
    "                axes1[row][col].plot(year[samp:], fit_dur1, '--', c='r')\n",
    "\n",
    "                axes1[row][col].scatter(year, event_no, c=(0.5,0.5,0.5), s=3, label=\"Event no\") #plot event number vs years\n",
    "                axes1[row][col].plot(year, fit_evno, c=(0.5,0.5,0.5))\n",
    "                axes1[row][col].plot(year[samp:], fit_evno1, '--', c=(0.5,0.5,0.5))         \n",
    "\n",
    "                if n_rows*n_columns > 5:\n",
    "                    font_size_text = 8\n",
    "                    font_size_title = 9 \n",
    "                else:\n",
    "                    font_size_text = 11\n",
    "                    font_size_title = 12                  \n",
    "                font_size_suptitle = 14\n",
    "                #corrected p values\n",
    "                (pval_occ, pval_occ_samp, pval_persis, pval_persis_samp, \n",
    "                 pval_max_dur, pval_max_dur_samp, pval_event_no, pval_event_no_samp) = (SOM_fn.lmtrendtest(year, occ), SOM_fn.lmtrendtest(year[samp:], occ[samp:]),\n",
    "                                                                                        SOM_fn.lmtrendtest(year, persis), SOM_fn.lmtrendtest(year[samp:], persis[samp:]),\n",
    "                                                                                        SOM_fn.lmtrendtest(year, max_dur), SOM_fn.lmtrendtest(year[samp:], max_dur[samp:]),\n",
    "                                                                                        SOM_fn.lmtrendtest(year, event_no), SOM_fn.lmtrendtest(year[samp:], event_no[samp:]))\n",
    "\n",
    "                #store the calculated p values in a matrix\n",
    "                pval_mat[row,col,:] = [pval_occ, pval_occ_samp, pval_persis, pval_persis_samp, pval_max_dur, pval_max_dur_samp, pval_event_no, pval_event_no_samp]\n",
    "                grad_mat[row,col,:] = [m0,m1,m2,m3,m4,m5,m6,m7]\n",
    "    \n",
    "    if plot:\n",
    "        if mult_test_method == \"none\":\n",
    "            print(\"No multiple hypothesis correction applied\")\n",
    "        elif mult_test_method == \"k-FWER\":    \n",
    "            #test for the k-familywise error rate using the Bonferroni correction\n",
    "            pval_arr = SOM_fn.Bonferroni_kFWER(pval_mat[:,:,:].flatten(), k = 20)\n",
    "            pval_mat = pval_arr.reshape((n_rows,n_columns,test_num)) \n",
    "        else:\n",
    "            pval_arr = multipletests(pval_mat[:,:,:].flatten(), alpha=0.05, method=mult_test_method, is_sorted=False, returnsorted=False)[1]  \n",
    "            pval_mat = pval_arr.reshape((n_rows,n_columns,test_num)) \n",
    "\n",
    "        for row in range(n_rows):  \n",
    "            for col in range(n_columns):            \n",
    "\n",
    "                m0,m1,m2,m3,m4,m5,m6,m7 = grad_mat[row,col,:]\n",
    "                p0,p1,p2,p3,p4,p5,p6,p7 = pval_mat[row,col,:]            \n",
    "\n",
    "                #Legend\n",
    "                #calculate the corrected p values and create the strings to reduce the bold text\n",
    "                m0_str, m1_str, m2_str, m3_str, m4_str, m5_str, m6_str, m7_str = (SOM_fn.pval_str(m0, p0), SOM_fn.pval_str(m1, p1), \n",
    "                                                                  SOM_fn.pval_str(m2, p2), SOM_fn.pval_str(m3, p3), \n",
    "                                                                  SOM_fn.pval_str(m4, p4), SOM_fn.pval_str(m5, p5),\n",
    "                                                                  SOM_fn.pval_str(m6, p6), SOM_fn.pval_str(m7, p7))\n",
    "                axes1[row][col].text(0.16, 0.99, \"Occurrence\", transform=axes1[row][col].transAxes, fontsize=font_size_title, verticalalignment='top', horizontalalignment='center')\n",
    "                axes1[row][col].text(0.16, 0.93, m0_str,\n",
    "                                     transform=axes1[row][col].transAxes, fontsize=font_size_text, verticalalignment='top', horizontalalignment='center')\n",
    "                axes1[row][col].text(0.16, 0.87, m1_str, \n",
    "                                     transform=axes1[row][col].transAxes, fontsize=font_size_text, verticalalignment='top', horizontalalignment='center')\n",
    "\n",
    "                axes1[row][col].text(0.49, 0.99, \"Persistence\", transform=axes1[row][col].transAxes, fontsize=font_size_title, verticalalignment='top',horizontalalignment='center', color='b')\n",
    "                axes1[row][col].text(0.49, 0.93, m2_str, \n",
    "                                     transform=axes1[row][col].transAxes, fontsize=font_size_text, verticalalignment='top', horizontalalignment='center', color='b')\n",
    "                axes1[row][col].text(0.49, 0.87, m3_str, \n",
    "                                     transform=axes1[row][col].transAxes, fontsize=font_size_text, verticalalignment='top', horizontalalignment='center', color='b')\n",
    "\n",
    "                axes1[row][col].text(0.83, 0.99, \"Max duration\", transform=axes1[row][col].transAxes, fontsize=font_size_title, verticalalignment='top', horizontalalignment='center', color='r')\n",
    "                axes1[row][col].text(0.83, 0.93, m4_str, \n",
    "                                     transform=axes1[row][col].transAxes, fontsize=font_size_text, verticalalignment='top', horizontalalignment='center', color='r')\n",
    "                axes1[row][col].text(0.83, 0.87, m5_str, \n",
    "                                     transform=axes1[row][col].transAxes, fontsize=font_size_text, verticalalignment='top', horizontalalignment='center', color='r')      \n",
    "\n",
    "                axes1[row][col].text(0.16, 0.82, f\"Event no\", transform=axes1[row][col].transAxes, fontsize=font_size_title, verticalalignment='top', horizontalalignment='center', color=(0.5,0.5,0.5))\n",
    "                axes1[row][col].text(0.16, 0.76, m6_str, \n",
    "                                     transform=axes1[row][col].transAxes, fontsize=font_size_text, verticalalignment='top', horizontalalignment='center', color=(0.5,0.5,0.5))\n",
    "                axes1[row][col].text(0.16, 0.70, m7_str, \n",
    "                                     transform=axes1[row][col].transAxes, fontsize=font_size_text, verticalalignment='top', horizontalalignment='center', color=(0.5,0.5,0.5))               \n",
    "\n",
    "                axes1[row][col].set_ylim((0,55))            \n",
    "            f.suptitle(f'Time series of circulation trends \\n {mdl} {yrst}-{yrend}', fontsize=14)\n",
    "        f.savefig(savefig_trends, bbox_inches=\"tight\", dpi=300) \n",
    "        if showplot == False:\n",
    "            plt.close();\n",
    "    #####        \n",
    "    #####        \n",
    "            \n",
    "    #concatenate the array\n",
    "    da_xr = xarray.concat(da_arr, dim = (\"node\"))\n",
    "    #add a new coordinates to specify the row and column number for each layer\n",
    "    da_xr = da_xr.assign_coords(\n",
    "        rownum=('node', rownum_arr))\n",
    "    da_xr = da_xr.assign_coords(\n",
    "        colnum=('node', colnum_arr))           \n",
    "            \n",
    "    return da_xr, all_occur\n",
    "\n"
   ]
  },
  {
   "cell_type": "code",
   "execution_count": 5,
   "metadata": {},
   "outputs": [],
   "source": [
    "n_rows, n_columns = 3, 3\n",
    "file_zg_str_test = \"/rds/general/project/carl_phd/live/carl/data/era5/day/zg/LTDM/z_timedtrnd_ERA5_1979-2019_EUR_JJAextd_LTDMdaymean_anom_r180x91.nc\"\n",
    "                     #\"/rds/general/project/carl_phd/live/carl/data/era5/day/zg/LTDM/z_timedtrnd_ERA5_1979-2019_EUR_JJAextd_LTDMdaymean_anom_sort.nc\"\n",
    "file_zg_str_train = (\"/rds/general/user/cmt3718/home/data/cmip6/UKESM1-0-LL/piControl/r1i1p1f2/zg/\"\n",
    "\"500zg_day_UKESM1-0-LL_piControl_r1i1p1f2_gn_19600101-20601230_r180x91_LTDManom_EUR2_JJAextd_dtrnd.nc\")"
   ]
  },
  {
   "cell_type": "code",
   "execution_count": 11,
   "metadata": {},
   "outputs": [
    {
     "name": "stdout",
     "output_type": "stream",
     "text": [
      "n_rows, n_columns = 5, 1\n",
      "training\n"
     ]
    },
    {
     "name": "stderr",
     "output_type": "stream",
     "text": [
      "/home/cmt3718/anaconda3/envs/odin/lib/python3.6/site-packages/somoclu/train.py:497: RuntimeWarning: invalid value encountered in true_divide\n",
      "  coord = coord / [self._n_rows - 1, self._n_columns - 1]\n"
     ]
    },
    {
     "name": "stdout",
     "output_type": "stream",
     "text": [
      "save_SOM_str = /rds/general/project/nowack_graven/live/carl_som_index/data/UKESM1-0-LL_piControl/zg/plots/SOM_fig_UKESM1-0-LL_piControl_5x1_EUR_not1960-2060_JJA_extd_zg_tot.png\n",
      "saved trends in /rds/general/project/nowack_graven/live/carl_som_index/data/UKESM1-0-LL_piControl/zg/SOM_train_UKESM1-0-LL_piControl_5x1_EUR_not1960-2060_JJA_extd_zg_tot.nc\n",
      "saved data_occ in /rds/general/project/nowack_graven/live/carl_som_index/data/UKESM1-0-LL_piControl/zg/SOM_data_occur_train_UKESM1-0-LL_piControl_5x1_EUR_not1960-2060_JJA_extd_zg_tot.nc\n",
      "test the trained SOM on /rds/general/project/carl_phd/live/carl/data/era5/day/zg/LTDM/z_timedtrnd_ERA5_1979-2019_EUR_JJAextd_LTDMdaymean_anom_r180x91.nc\n",
      "saving tested data in /rds/general/project/nowack_graven/live/carl_som_index/data/era5/z/SOM_tot_era5_reanal_5x1_EUR_1979-2019_JJA_extd_z_swapUKESM1-0-LL.nc \n",
      " /rds/general/project/nowack_graven/live/carl_som_index/data/era5/z/SOM_data_occur_tot_era5_reanal_5x1_EUR_1979-2019_JJA_extd_z_swapUKESM1-0-LL.nc\n",
      "n_rows, n_columns = 3, 2\n",
      "training\n",
      "save_SOM_str = /rds/general/project/nowack_graven/live/carl_som_index/data/UKESM1-0-LL_piControl/zg/plots/SOM_fig_UKESM1-0-LL_piControl_3x2_EUR_not1960-2060_JJA_extd_zg_tot.png\n",
      "saved trends in /rds/general/project/nowack_graven/live/carl_som_index/data/UKESM1-0-LL_piControl/zg/SOM_train_UKESM1-0-LL_piControl_3x2_EUR_not1960-2060_JJA_extd_zg_tot.nc\n",
      "saved data_occ in /rds/general/project/nowack_graven/live/carl_som_index/data/UKESM1-0-LL_piControl/zg/SOM_data_occur_train_UKESM1-0-LL_piControl_3x2_EUR_not1960-2060_JJA_extd_zg_tot.nc\n",
      "test the trained SOM on /rds/general/project/carl_phd/live/carl/data/era5/day/zg/LTDM/z_timedtrnd_ERA5_1979-2019_EUR_JJAextd_LTDMdaymean_anom_r180x91.nc\n",
      "saving tested data in /rds/general/project/nowack_graven/live/carl_som_index/data/era5/z/SOM_tot_era5_reanal_3x2_EUR_1979-2019_JJA_extd_z_swapUKESM1-0-LL.nc \n",
      " /rds/general/project/nowack_graven/live/carl_som_index/data/era5/z/SOM_data_occur_tot_era5_reanal_3x2_EUR_1979-2019_JJA_extd_z_swapUKESM1-0-LL.nc\n",
      "n_rows, n_columns = 7, 1\n",
      "training\n"
     ]
    },
    {
     "name": "stderr",
     "output_type": "stream",
     "text": [
      "/home/cmt3718/anaconda3/envs/odin/lib/python3.6/site-packages/somoclu/train.py:497: RuntimeWarning: invalid value encountered in true_divide\n",
      "  coord = coord / [self._n_rows - 1, self._n_columns - 1]\n"
     ]
    },
    {
     "name": "stdout",
     "output_type": "stream",
     "text": [
      "save_SOM_str = /rds/general/project/nowack_graven/live/carl_som_index/data/UKESM1-0-LL_piControl/zg/plots/SOM_fig_UKESM1-0-LL_piControl_7x1_EUR_not1960-2060_JJA_extd_zg_tot.png\n",
      "saved trends in /rds/general/project/nowack_graven/live/carl_som_index/data/UKESM1-0-LL_piControl/zg/SOM_train_UKESM1-0-LL_piControl_7x1_EUR_not1960-2060_JJA_extd_zg_tot.nc\n",
      "saved data_occ in /rds/general/project/nowack_graven/live/carl_som_index/data/UKESM1-0-LL_piControl/zg/SOM_data_occur_train_UKESM1-0-LL_piControl_7x1_EUR_not1960-2060_JJA_extd_zg_tot.nc\n",
      "test the trained SOM on /rds/general/project/carl_phd/live/carl/data/era5/day/zg/LTDM/z_timedtrnd_ERA5_1979-2019_EUR_JJAextd_LTDMdaymean_anom_r180x91.nc\n",
      "saving tested data in /rds/general/project/nowack_graven/live/carl_som_index/data/era5/z/SOM_tot_era5_reanal_7x1_EUR_1979-2019_JJA_extd_z_swapUKESM1-0-LL.nc \n",
      " /rds/general/project/nowack_graven/live/carl_som_index/data/era5/z/SOM_data_occur_tot_era5_reanal_7x1_EUR_1979-2019_JJA_extd_z_swapUKESM1-0-LL.nc\n",
      "n_rows, n_columns = 4, 2\n",
      "training\n",
      "save_SOM_str = /rds/general/project/nowack_graven/live/carl_som_index/data/UKESM1-0-LL_piControl/zg/plots/SOM_fig_UKESM1-0-LL_piControl_4x2_EUR_not1960-2060_JJA_extd_zg_tot.png\n",
      "saved trends in /rds/general/project/nowack_graven/live/carl_som_index/data/UKESM1-0-LL_piControl/zg/SOM_train_UKESM1-0-LL_piControl_4x2_EUR_not1960-2060_JJA_extd_zg_tot.nc\n",
      "saved data_occ in /rds/general/project/nowack_graven/live/carl_som_index/data/UKESM1-0-LL_piControl/zg/SOM_data_occur_train_UKESM1-0-LL_piControl_4x2_EUR_not1960-2060_JJA_extd_zg_tot.nc\n",
      "test the trained SOM on /rds/general/project/carl_phd/live/carl/data/era5/day/zg/LTDM/z_timedtrnd_ERA5_1979-2019_EUR_JJAextd_LTDMdaymean_anom_r180x91.nc\n",
      "saving tested data in /rds/general/project/nowack_graven/live/carl_som_index/data/era5/z/SOM_tot_era5_reanal_4x2_EUR_1979-2019_JJA_extd_z_swapUKESM1-0-LL.nc \n",
      " /rds/general/project/nowack_graven/live/carl_som_index/data/era5/z/SOM_data_occur_tot_era5_reanal_4x2_EUR_1979-2019_JJA_extd_z_swapUKESM1-0-LL.nc\n",
      "n_rows, n_columns = 3, 3\n",
      "training\n",
      "save_SOM_str = /rds/general/project/nowack_graven/live/carl_som_index/data/UKESM1-0-LL_piControl/zg/plots/SOM_fig_UKESM1-0-LL_piControl_3x3_EUR_not1960-2060_JJA_extd_zg_tot.png\n",
      "saved trends in /rds/general/project/nowack_graven/live/carl_som_index/data/UKESM1-0-LL_piControl/zg/SOM_train_UKESM1-0-LL_piControl_3x3_EUR_not1960-2060_JJA_extd_zg_tot.nc\n",
      "saved data_occ in /rds/general/project/nowack_graven/live/carl_som_index/data/UKESM1-0-LL_piControl/zg/SOM_data_occur_train_UKESM1-0-LL_piControl_3x3_EUR_not1960-2060_JJA_extd_zg_tot.nc\n",
      "test the trained SOM on /rds/general/project/carl_phd/live/carl/data/era5/day/zg/LTDM/z_timedtrnd_ERA5_1979-2019_EUR_JJAextd_LTDMdaymean_anom_r180x91.nc\n",
      "saving tested data in /rds/general/project/nowack_graven/live/carl_som_index/data/era5/z/SOM_tot_era5_reanal_3x3_EUR_1979-2019_JJA_extd_z_swapUKESM1-0-LL.nc \n",
      " /rds/general/project/nowack_graven/live/carl_som_index/data/era5/z/SOM_data_occur_tot_era5_reanal_3x3_EUR_1979-2019_JJA_extd_z_swapUKESM1-0-LL.nc\n",
      "n_rows, n_columns = 5, 2\n",
      "training\n",
      "save_SOM_str = /rds/general/project/nowack_graven/live/carl_som_index/data/UKESM1-0-LL_piControl/zg/plots/SOM_fig_UKESM1-0-LL_piControl_5x2_EUR_not1960-2060_JJA_extd_zg_tot.png\n",
      "saved trends in /rds/general/project/nowack_graven/live/carl_som_index/data/UKESM1-0-LL_piControl/zg/SOM_train_UKESM1-0-LL_piControl_5x2_EUR_not1960-2060_JJA_extd_zg_tot.nc\n",
      "saved data_occ in /rds/general/project/nowack_graven/live/carl_som_index/data/UKESM1-0-LL_piControl/zg/SOM_data_occur_train_UKESM1-0-LL_piControl_5x2_EUR_not1960-2060_JJA_extd_zg_tot.nc\n",
      "test the trained SOM on /rds/general/project/carl_phd/live/carl/data/era5/day/zg/LTDM/z_timedtrnd_ERA5_1979-2019_EUR_JJAextd_LTDMdaymean_anom_r180x91.nc\n",
      "saving tested data in /rds/general/project/nowack_graven/live/carl_som_index/data/era5/z/SOM_tot_era5_reanal_5x2_EUR_1979-2019_JJA_extd_z_swapUKESM1-0-LL.nc \n",
      " /rds/general/project/nowack_graven/live/carl_som_index/data/era5/z/SOM_data_occur_tot_era5_reanal_5x2_EUR_1979-2019_JJA_extd_z_swapUKESM1-0-LL.nc\n",
      "n_rows, n_columns = 11, 1\n",
      "training\n"
     ]
    },
    {
     "name": "stderr",
     "output_type": "stream",
     "text": [
      "/home/cmt3718/anaconda3/envs/odin/lib/python3.6/site-packages/somoclu/train.py:497: RuntimeWarning: invalid value encountered in true_divide\n",
      "  coord = coord / [self._n_rows - 1, self._n_columns - 1]\n"
     ]
    },
    {
     "name": "stdout",
     "output_type": "stream",
     "text": [
      "save_SOM_str = /rds/general/project/nowack_graven/live/carl_som_index/data/UKESM1-0-LL_piControl/zg/plots/SOM_fig_UKESM1-0-LL_piControl_11x1_EUR_not1960-2060_JJA_extd_zg_tot.png\n",
      "saved trends in /rds/general/project/nowack_graven/live/carl_som_index/data/UKESM1-0-LL_piControl/zg/SOM_train_UKESM1-0-LL_piControl_11x1_EUR_not1960-2060_JJA_extd_zg_tot.nc\n",
      "saved data_occ in /rds/general/project/nowack_graven/live/carl_som_index/data/UKESM1-0-LL_piControl/zg/SOM_data_occur_train_UKESM1-0-LL_piControl_11x1_EUR_not1960-2060_JJA_extd_zg_tot.nc\n",
      "test the trained SOM on /rds/general/project/carl_phd/live/carl/data/era5/day/zg/LTDM/z_timedtrnd_ERA5_1979-2019_EUR_JJAextd_LTDMdaymean_anom_r180x91.nc\n",
      "saving tested data in /rds/general/project/nowack_graven/live/carl_som_index/data/era5/z/SOM_tot_era5_reanal_11x1_EUR_1979-2019_JJA_extd_z_swapUKESM1-0-LL.nc \n",
      " /rds/general/project/nowack_graven/live/carl_som_index/data/era5/z/SOM_data_occur_tot_era5_reanal_11x1_EUR_1979-2019_JJA_extd_z_swapUKESM1-0-LL.nc\n",
      "n_rows, n_columns = 4, 3\n",
      "training\n",
      "save_SOM_str = /rds/general/project/nowack_graven/live/carl_som_index/data/UKESM1-0-LL_piControl/zg/plots/SOM_fig_UKESM1-0-LL_piControl_4x3_EUR_not1960-2060_JJA_extd_zg_tot.png\n"
     ]
    },
    {
     "name": "stderr",
     "output_type": "stream",
     "text": [
      "/home/cmt3718/anaconda3/envs/odin/lib/python3.6/site-packages/matplotlib/pyplot.py:522: RuntimeWarning: More than 20 figures have been opened. Figures created through the pyplot interface (`matplotlib.pyplot.figure`) are retained until explicitly closed and may consume too much memory. (To control this warning, see the rcParam `figure.max_open_warning`).\n",
      "  max_open_warning, RuntimeWarning)\n"
     ]
    },
    {
     "name": "stdout",
     "output_type": "stream",
     "text": [
      "saved trends in /rds/general/project/nowack_graven/live/carl_som_index/data/UKESM1-0-LL_piControl/zg/SOM_train_UKESM1-0-LL_piControl_4x3_EUR_not1960-2060_JJA_extd_zg_tot.nc\n",
      "saved data_occ in /rds/general/project/nowack_graven/live/carl_som_index/data/UKESM1-0-LL_piControl/zg/SOM_data_occur_train_UKESM1-0-LL_piControl_4x3_EUR_not1960-2060_JJA_extd_zg_tot.nc\n",
      "test the trained SOM on /rds/general/project/carl_phd/live/carl/data/era5/day/zg/LTDM/z_timedtrnd_ERA5_1979-2019_EUR_JJAextd_LTDMdaymean_anom_r180x91.nc\n"
     ]
    },
    {
     "name": "stderr",
     "output_type": "stream",
     "text": [
      "/home/cmt3718/anaconda3/envs/odin/lib/python3.6/site-packages/matplotlib/pyplot.py:522: RuntimeWarning: More than 20 figures have been opened. Figures created through the pyplot interface (`matplotlib.pyplot.figure`) are retained until explicitly closed and may consume too much memory. (To control this warning, see the rcParam `figure.max_open_warning`).\n",
      "  max_open_warning, RuntimeWarning)\n"
     ]
    },
    {
     "name": "stdout",
     "output_type": "stream",
     "text": [
      "saving tested data in /rds/general/project/nowack_graven/live/carl_som_index/data/era5/z/SOM_tot_era5_reanal_4x3_EUR_1979-2019_JJA_extd_z_swapUKESM1-0-LL.nc \n",
      " /rds/general/project/nowack_graven/live/carl_som_index/data/era5/z/SOM_data_occur_tot_era5_reanal_4x3_EUR_1979-2019_JJA_extd_z_swapUKESM1-0-LL.nc\n",
      "n_rows, n_columns = 13, 1\n",
      "training\n"
     ]
    },
    {
     "name": "stderr",
     "output_type": "stream",
     "text": [
      "/home/cmt3718/anaconda3/envs/odin/lib/python3.6/site-packages/somoclu/train.py:497: RuntimeWarning: invalid value encountered in true_divide\n",
      "  coord = coord / [self._n_rows - 1, self._n_columns - 1]\n",
      "/home/cmt3718/anaconda3/envs/odin/lib/python3.6/site-packages/matplotlib/pyplot.py:522: RuntimeWarning: More than 20 figures have been opened. Figures created through the pyplot interface (`matplotlib.pyplot.figure`) are retained until explicitly closed and may consume too much memory. (To control this warning, see the rcParam `figure.max_open_warning`).\n",
      "  max_open_warning, RuntimeWarning)\n"
     ]
    },
    {
     "name": "stdout",
     "output_type": "stream",
     "text": [
      "save_SOM_str = /rds/general/project/nowack_graven/live/carl_som_index/data/UKESM1-0-LL_piControl/zg/plots/SOM_fig_UKESM1-0-LL_piControl_13x1_EUR_not1960-2060_JJA_extd_zg_tot.png\n",
      "saved trends in /rds/general/project/nowack_graven/live/carl_som_index/data/UKESM1-0-LL_piControl/zg/SOM_train_UKESM1-0-LL_piControl_13x1_EUR_not1960-2060_JJA_extd_zg_tot.nc\n",
      "saved data_occ in /rds/general/project/nowack_graven/live/carl_som_index/data/UKESM1-0-LL_piControl/zg/SOM_data_occur_train_UKESM1-0-LL_piControl_13x1_EUR_not1960-2060_JJA_extd_zg_tot.nc\n",
      "test the trained SOM on /rds/general/project/carl_phd/live/carl/data/era5/day/zg/LTDM/z_timedtrnd_ERA5_1979-2019_EUR_JJAextd_LTDMdaymean_anom_r180x91.nc\n"
     ]
    },
    {
     "name": "stderr",
     "output_type": "stream",
     "text": [
      "/home/cmt3718/anaconda3/envs/odin/lib/python3.6/site-packages/matplotlib/pyplot.py:522: RuntimeWarning: More than 20 figures have been opened. Figures created through the pyplot interface (`matplotlib.pyplot.figure`) are retained until explicitly closed and may consume too much memory. (To control this warning, see the rcParam `figure.max_open_warning`).\n",
      "  max_open_warning, RuntimeWarning)\n"
     ]
    },
    {
     "name": "stdout",
     "output_type": "stream",
     "text": [
      "saving tested data in /rds/general/project/nowack_graven/live/carl_som_index/data/era5/z/SOM_tot_era5_reanal_13x1_EUR_1979-2019_JJA_extd_z_swapUKESM1-0-LL.nc \n",
      " /rds/general/project/nowack_graven/live/carl_som_index/data/era5/z/SOM_data_occur_tot_era5_reanal_13x1_EUR_1979-2019_JJA_extd_z_swapUKESM1-0-LL.nc\n",
      "n_rows, n_columns = 7, 2\n",
      "training\n"
     ]
    },
    {
     "name": "stderr",
     "output_type": "stream",
     "text": [
      "/home/cmt3718/anaconda3/envs/odin/lib/python3.6/site-packages/matplotlib/pyplot.py:522: RuntimeWarning: More than 20 figures have been opened. Figures created through the pyplot interface (`matplotlib.pyplot.figure`) are retained until explicitly closed and may consume too much memory. (To control this warning, see the rcParam `figure.max_open_warning`).\n",
      "  max_open_warning, RuntimeWarning)\n"
     ]
    },
    {
     "name": "stdout",
     "output_type": "stream",
     "text": [
      "save_SOM_str = /rds/general/project/nowack_graven/live/carl_som_index/data/UKESM1-0-LL_piControl/zg/plots/SOM_fig_UKESM1-0-LL_piControl_7x2_EUR_not1960-2060_JJA_extd_zg_tot.png\n",
      "saved trends in /rds/general/project/nowack_graven/live/carl_som_index/data/UKESM1-0-LL_piControl/zg/SOM_train_UKESM1-0-LL_piControl_7x2_EUR_not1960-2060_JJA_extd_zg_tot.nc\n",
      "saved data_occ in /rds/general/project/nowack_graven/live/carl_som_index/data/UKESM1-0-LL_piControl/zg/SOM_data_occur_train_UKESM1-0-LL_piControl_7x2_EUR_not1960-2060_JJA_extd_zg_tot.nc\n",
      "test the trained SOM on /rds/general/project/carl_phd/live/carl/data/era5/day/zg/LTDM/z_timedtrnd_ERA5_1979-2019_EUR_JJAextd_LTDMdaymean_anom_r180x91.nc\n"
     ]
    },
    {
     "name": "stderr",
     "output_type": "stream",
     "text": [
      "/home/cmt3718/anaconda3/envs/odin/lib/python3.6/site-packages/matplotlib/pyplot.py:522: RuntimeWarning: More than 20 figures have been opened. Figures created through the pyplot interface (`matplotlib.pyplot.figure`) are retained until explicitly closed and may consume too much memory. (To control this warning, see the rcParam `figure.max_open_warning`).\n",
      "  max_open_warning, RuntimeWarning)\n"
     ]
    },
    {
     "name": "stdout",
     "output_type": "stream",
     "text": [
      "saving tested data in /rds/general/project/nowack_graven/live/carl_som_index/data/era5/z/SOM_tot_era5_reanal_7x2_EUR_1979-2019_JJA_extd_z_swapUKESM1-0-LL.nc \n",
      " /rds/general/project/nowack_graven/live/carl_som_index/data/era5/z/SOM_data_occur_tot_era5_reanal_7x2_EUR_1979-2019_JJA_extd_z_swapUKESM1-0-LL.nc\n",
      "n_rows, n_columns = 5, 3\n",
      "training\n"
     ]
    },
    {
     "name": "stderr",
     "output_type": "stream",
     "text": [
      "/home/cmt3718/anaconda3/envs/odin/lib/python3.6/site-packages/matplotlib/pyplot.py:522: RuntimeWarning: More than 20 figures have been opened. Figures created through the pyplot interface (`matplotlib.pyplot.figure`) are retained until explicitly closed and may consume too much memory. (To control this warning, see the rcParam `figure.max_open_warning`).\n",
      "  max_open_warning, RuntimeWarning)\n"
     ]
    },
    {
     "name": "stdout",
     "output_type": "stream",
     "text": [
      "save_SOM_str = /rds/general/project/nowack_graven/live/carl_som_index/data/UKESM1-0-LL_piControl/zg/plots/SOM_fig_UKESM1-0-LL_piControl_5x3_EUR_not1960-2060_JJA_extd_zg_tot.png\n",
      "saved trends in /rds/general/project/nowack_graven/live/carl_som_index/data/UKESM1-0-LL_piControl/zg/SOM_train_UKESM1-0-LL_piControl_5x3_EUR_not1960-2060_JJA_extd_zg_tot.nc\n",
      "saved data_occ in /rds/general/project/nowack_graven/live/carl_som_index/data/UKESM1-0-LL_piControl/zg/SOM_data_occur_train_UKESM1-0-LL_piControl_5x3_EUR_not1960-2060_JJA_extd_zg_tot.nc\n",
      "test the trained SOM on /rds/general/project/carl_phd/live/carl/data/era5/day/zg/LTDM/z_timedtrnd_ERA5_1979-2019_EUR_JJAextd_LTDMdaymean_anom_r180x91.nc\n"
     ]
    },
    {
     "name": "stderr",
     "output_type": "stream",
     "text": [
      "/home/cmt3718/anaconda3/envs/odin/lib/python3.6/site-packages/matplotlib/pyplot.py:522: RuntimeWarning: More than 20 figures have been opened. Figures created through the pyplot interface (`matplotlib.pyplot.figure`) are retained until explicitly closed and may consume too much memory. (To control this warning, see the rcParam `figure.max_open_warning`).\n",
      "  max_open_warning, RuntimeWarning)\n"
     ]
    },
    {
     "name": "stdout",
     "output_type": "stream",
     "text": [
      "saving tested data in /rds/general/project/nowack_graven/live/carl_som_index/data/era5/z/SOM_tot_era5_reanal_5x3_EUR_1979-2019_JJA_extd_z_swapUKESM1-0-LL.nc \n",
      " /rds/general/project/nowack_graven/live/carl_som_index/data/era5/z/SOM_data_occur_tot_era5_reanal_5x3_EUR_1979-2019_JJA_extd_z_swapUKESM1-0-LL.nc\n",
      "n_rows, n_columns = 4, 4\n",
      "training\n"
     ]
    },
    {
     "name": "stderr",
     "output_type": "stream",
     "text": [
      "/home/cmt3718/anaconda3/envs/odin/lib/python3.6/site-packages/matplotlib/pyplot.py:522: RuntimeWarning: More than 20 figures have been opened. Figures created through the pyplot interface (`matplotlib.pyplot.figure`) are retained until explicitly closed and may consume too much memory. (To control this warning, see the rcParam `figure.max_open_warning`).\n",
      "  max_open_warning, RuntimeWarning)\n"
     ]
    },
    {
     "name": "stdout",
     "output_type": "stream",
     "text": [
      "save_SOM_str = /rds/general/project/nowack_graven/live/carl_som_index/data/UKESM1-0-LL_piControl/zg/plots/SOM_fig_UKESM1-0-LL_piControl_4x4_EUR_not1960-2060_JJA_extd_zg_tot.png\n",
      "saved trends in /rds/general/project/nowack_graven/live/carl_som_index/data/UKESM1-0-LL_piControl/zg/SOM_train_UKESM1-0-LL_piControl_4x4_EUR_not1960-2060_JJA_extd_zg_tot.nc\n",
      "saved data_occ in /rds/general/project/nowack_graven/live/carl_som_index/data/UKESM1-0-LL_piControl/zg/SOM_data_occur_train_UKESM1-0-LL_piControl_4x4_EUR_not1960-2060_JJA_extd_zg_tot.nc\n",
      "test the trained SOM on /rds/general/project/carl_phd/live/carl/data/era5/day/zg/LTDM/z_timedtrnd_ERA5_1979-2019_EUR_JJAextd_LTDMdaymean_anom_r180x91.nc\n"
     ]
    },
    {
     "name": "stderr",
     "output_type": "stream",
     "text": [
      "/home/cmt3718/anaconda3/envs/odin/lib/python3.6/site-packages/matplotlib/pyplot.py:522: RuntimeWarning: More than 20 figures have been opened. Figures created through the pyplot interface (`matplotlib.pyplot.figure`) are retained until explicitly closed and may consume too much memory. (To control this warning, see the rcParam `figure.max_open_warning`).\n",
      "  max_open_warning, RuntimeWarning)\n"
     ]
    },
    {
     "name": "stdout",
     "output_type": "stream",
     "text": [
      "saving tested data in /rds/general/project/nowack_graven/live/carl_som_index/data/era5/z/SOM_tot_era5_reanal_4x4_EUR_1979-2019_JJA_extd_z_swapUKESM1-0-LL.nc \n",
      " /rds/general/project/nowack_graven/live/carl_som_index/data/era5/z/SOM_data_occur_tot_era5_reanal_4x4_EUR_1979-2019_JJA_extd_z_swapUKESM1-0-LL.nc\n",
      "n_rows, n_columns = 17, 1\n",
      "training\n"
     ]
    },
    {
     "name": "stderr",
     "output_type": "stream",
     "text": [
      "/home/cmt3718/anaconda3/envs/odin/lib/python3.6/site-packages/somoclu/train.py:497: RuntimeWarning: invalid value encountered in true_divide\n",
      "  coord = coord / [self._n_rows - 1, self._n_columns - 1]\n",
      "/home/cmt3718/anaconda3/envs/odin/lib/python3.6/site-packages/matplotlib/pyplot.py:522: RuntimeWarning: More than 20 figures have been opened. Figures created through the pyplot interface (`matplotlib.pyplot.figure`) are retained until explicitly closed and may consume too much memory. (To control this warning, see the rcParam `figure.max_open_warning`).\n",
      "  max_open_warning, RuntimeWarning)\n"
     ]
    },
    {
     "name": "stdout",
     "output_type": "stream",
     "text": [
      "save_SOM_str = /rds/general/project/nowack_graven/live/carl_som_index/data/UKESM1-0-LL_piControl/zg/plots/SOM_fig_UKESM1-0-LL_piControl_17x1_EUR_not1960-2060_JJA_extd_zg_tot.png\n",
      "saved trends in /rds/general/project/nowack_graven/live/carl_som_index/data/UKESM1-0-LL_piControl/zg/SOM_train_UKESM1-0-LL_piControl_17x1_EUR_not1960-2060_JJA_extd_zg_tot.nc\n",
      "saved data_occ in /rds/general/project/nowack_graven/live/carl_som_index/data/UKESM1-0-LL_piControl/zg/SOM_data_occur_train_UKESM1-0-LL_piControl_17x1_EUR_not1960-2060_JJA_extd_zg_tot.nc\n",
      "test the trained SOM on /rds/general/project/carl_phd/live/carl/data/era5/day/zg/LTDM/z_timedtrnd_ERA5_1979-2019_EUR_JJAextd_LTDMdaymean_anom_r180x91.nc\n"
     ]
    },
    {
     "name": "stderr",
     "output_type": "stream",
     "text": [
      "/home/cmt3718/anaconda3/envs/odin/lib/python3.6/site-packages/matplotlib/pyplot.py:522: RuntimeWarning: More than 20 figures have been opened. Figures created through the pyplot interface (`matplotlib.pyplot.figure`) are retained until explicitly closed and may consume too much memory. (To control this warning, see the rcParam `figure.max_open_warning`).\n",
      "  max_open_warning, RuntimeWarning)\n"
     ]
    },
    {
     "name": "stdout",
     "output_type": "stream",
     "text": [
      "saving tested data in /rds/general/project/nowack_graven/live/carl_som_index/data/era5/z/SOM_tot_era5_reanal_17x1_EUR_1979-2019_JJA_extd_z_swapUKESM1-0-LL.nc \n",
      " /rds/general/project/nowack_graven/live/carl_som_index/data/era5/z/SOM_data_occur_tot_era5_reanal_17x1_EUR_1979-2019_JJA_extd_z_swapUKESM1-0-LL.nc\n",
      "n_rows, n_columns = 6, 3\n",
      "training\n"
     ]
    },
    {
     "name": "stderr",
     "output_type": "stream",
     "text": [
      "/home/cmt3718/anaconda3/envs/odin/lib/python3.6/site-packages/matplotlib/pyplot.py:522: RuntimeWarning: More than 20 figures have been opened. Figures created through the pyplot interface (`matplotlib.pyplot.figure`) are retained until explicitly closed and may consume too much memory. (To control this warning, see the rcParam `figure.max_open_warning`).\n",
      "  max_open_warning, RuntimeWarning)\n"
     ]
    },
    {
     "name": "stdout",
     "output_type": "stream",
     "text": [
      "save_SOM_str = /rds/general/project/nowack_graven/live/carl_som_index/data/UKESM1-0-LL_piControl/zg/plots/SOM_fig_UKESM1-0-LL_piControl_6x3_EUR_not1960-2060_JJA_extd_zg_tot.png\n",
      "saved trends in /rds/general/project/nowack_graven/live/carl_som_index/data/UKESM1-0-LL_piControl/zg/SOM_train_UKESM1-0-LL_piControl_6x3_EUR_not1960-2060_JJA_extd_zg_tot.nc\n",
      "saved data_occ in /rds/general/project/nowack_graven/live/carl_som_index/data/UKESM1-0-LL_piControl/zg/SOM_data_occur_train_UKESM1-0-LL_piControl_6x3_EUR_not1960-2060_JJA_extd_zg_tot.nc\n",
      "test the trained SOM on /rds/general/project/carl_phd/live/carl/data/era5/day/zg/LTDM/z_timedtrnd_ERA5_1979-2019_EUR_JJAextd_LTDMdaymean_anom_r180x91.nc\n"
     ]
    },
    {
     "name": "stderr",
     "output_type": "stream",
     "text": [
      "/home/cmt3718/anaconda3/envs/odin/lib/python3.6/site-packages/matplotlib/pyplot.py:522: RuntimeWarning: More than 20 figures have been opened. Figures created through the pyplot interface (`matplotlib.pyplot.figure`) are retained until explicitly closed and may consume too much memory. (To control this warning, see the rcParam `figure.max_open_warning`).\n",
      "  max_open_warning, RuntimeWarning)\n"
     ]
    },
    {
     "name": "stdout",
     "output_type": "stream",
     "text": [
      "saving tested data in /rds/general/project/nowack_graven/live/carl_som_index/data/era5/z/SOM_tot_era5_reanal_6x3_EUR_1979-2019_JJA_extd_z_swapUKESM1-0-LL.nc \n",
      " /rds/general/project/nowack_graven/live/carl_som_index/data/era5/z/SOM_data_occur_tot_era5_reanal_6x3_EUR_1979-2019_JJA_extd_z_swapUKESM1-0-LL.nc\n",
      "n_rows, n_columns = 19, 1\n",
      "training\n"
     ]
    },
    {
     "name": "stderr",
     "output_type": "stream",
     "text": [
      "/home/cmt3718/anaconda3/envs/odin/lib/python3.6/site-packages/somoclu/train.py:497: RuntimeWarning: invalid value encountered in true_divide\n",
      "  coord = coord / [self._n_rows - 1, self._n_columns - 1]\n",
      "/home/cmt3718/anaconda3/envs/odin/lib/python3.6/site-packages/matplotlib/pyplot.py:522: RuntimeWarning: More than 20 figures have been opened. Figures created through the pyplot interface (`matplotlib.pyplot.figure`) are retained until explicitly closed and may consume too much memory. (To control this warning, see the rcParam `figure.max_open_warning`).\n",
      "  max_open_warning, RuntimeWarning)\n"
     ]
    },
    {
     "name": "stdout",
     "output_type": "stream",
     "text": [
      "save_SOM_str = /rds/general/project/nowack_graven/live/carl_som_index/data/UKESM1-0-LL_piControl/zg/plots/SOM_fig_UKESM1-0-LL_piControl_19x1_EUR_not1960-2060_JJA_extd_zg_tot.png\n",
      "saved trends in /rds/general/project/nowack_graven/live/carl_som_index/data/UKESM1-0-LL_piControl/zg/SOM_train_UKESM1-0-LL_piControl_19x1_EUR_not1960-2060_JJA_extd_zg_tot.nc\n",
      "saved data_occ in /rds/general/project/nowack_graven/live/carl_som_index/data/UKESM1-0-LL_piControl/zg/SOM_data_occur_train_UKESM1-0-LL_piControl_19x1_EUR_not1960-2060_JJA_extd_zg_tot.nc\n",
      "test the trained SOM on /rds/general/project/carl_phd/live/carl/data/era5/day/zg/LTDM/z_timedtrnd_ERA5_1979-2019_EUR_JJAextd_LTDMdaymean_anom_r180x91.nc\n"
     ]
    },
    {
     "name": "stderr",
     "output_type": "stream",
     "text": [
      "/home/cmt3718/anaconda3/envs/odin/lib/python3.6/site-packages/matplotlib/pyplot.py:522: RuntimeWarning: More than 20 figures have been opened. Figures created through the pyplot interface (`matplotlib.pyplot.figure`) are retained until explicitly closed and may consume too much memory. (To control this warning, see the rcParam `figure.max_open_warning`).\n",
      "  max_open_warning, RuntimeWarning)\n"
     ]
    },
    {
     "name": "stdout",
     "output_type": "stream",
     "text": [
      "saving tested data in /rds/general/project/nowack_graven/live/carl_som_index/data/era5/z/SOM_tot_era5_reanal_19x1_EUR_1979-2019_JJA_extd_z_swapUKESM1-0-LL.nc \n",
      " /rds/general/project/nowack_graven/live/carl_som_index/data/era5/z/SOM_data_occur_tot_era5_reanal_19x1_EUR_1979-2019_JJA_extd_z_swapUKESM1-0-LL.nc\n",
      "n_rows, n_columns = 5, 4\n",
      "training\n"
     ]
    },
    {
     "name": "stderr",
     "output_type": "stream",
     "text": [
      "/home/cmt3718/anaconda3/envs/odin/lib/python3.6/site-packages/matplotlib/pyplot.py:522: RuntimeWarning: More than 20 figures have been opened. Figures created through the pyplot interface (`matplotlib.pyplot.figure`) are retained until explicitly closed and may consume too much memory. (To control this warning, see the rcParam `figure.max_open_warning`).\n",
      "  max_open_warning, RuntimeWarning)\n"
     ]
    },
    {
     "name": "stdout",
     "output_type": "stream",
     "text": [
      "save_SOM_str = /rds/general/project/nowack_graven/live/carl_som_index/data/UKESM1-0-LL_piControl/zg/plots/SOM_fig_UKESM1-0-LL_piControl_5x4_EUR_not1960-2060_JJA_extd_zg_tot.png\n",
      "saved trends in /rds/general/project/nowack_graven/live/carl_som_index/data/UKESM1-0-LL_piControl/zg/SOM_train_UKESM1-0-LL_piControl_5x4_EUR_not1960-2060_JJA_extd_zg_tot.nc\n",
      "saved data_occ in /rds/general/project/nowack_graven/live/carl_som_index/data/UKESM1-0-LL_piControl/zg/SOM_data_occur_train_UKESM1-0-LL_piControl_5x4_EUR_not1960-2060_JJA_extd_zg_tot.nc\n",
      "test the trained SOM on /rds/general/project/carl_phd/live/carl/data/era5/day/zg/LTDM/z_timedtrnd_ERA5_1979-2019_EUR_JJAextd_LTDMdaymean_anom_r180x91.nc\n"
     ]
    },
    {
     "name": "stderr",
     "output_type": "stream",
     "text": [
      "/home/cmt3718/anaconda3/envs/odin/lib/python3.6/site-packages/matplotlib/pyplot.py:522: RuntimeWarning: More than 20 figures have been opened. Figures created through the pyplot interface (`matplotlib.pyplot.figure`) are retained until explicitly closed and may consume too much memory. (To control this warning, see the rcParam `figure.max_open_warning`).\n",
      "  max_open_warning, RuntimeWarning)\n"
     ]
    },
    {
     "name": "stdout",
     "output_type": "stream",
     "text": [
      "saving tested data in /rds/general/project/nowack_graven/live/carl_som_index/data/era5/z/SOM_tot_era5_reanal_5x4_EUR_1979-2019_JJA_extd_z_swapUKESM1-0-LL.nc \n",
      " /rds/general/project/nowack_graven/live/carl_som_index/data/era5/z/SOM_data_occur_tot_era5_reanal_5x4_EUR_1979-2019_JJA_extd_z_swapUKESM1-0-LL.nc\n",
      "n_rows, n_columns = 7, 3\n",
      "training\n"
     ]
    },
    {
     "name": "stderr",
     "output_type": "stream",
     "text": [
      "/home/cmt3718/anaconda3/envs/odin/lib/python3.6/site-packages/matplotlib/pyplot.py:522: RuntimeWarning: More than 20 figures have been opened. Figures created through the pyplot interface (`matplotlib.pyplot.figure`) are retained until explicitly closed and may consume too much memory. (To control this warning, see the rcParam `figure.max_open_warning`).\n",
      "  max_open_warning, RuntimeWarning)\n"
     ]
    },
    {
     "name": "stdout",
     "output_type": "stream",
     "text": [
      "save_SOM_str = /rds/general/project/nowack_graven/live/carl_som_index/data/UKESM1-0-LL_piControl/zg/plots/SOM_fig_UKESM1-0-LL_piControl_7x3_EUR_not1960-2060_JJA_extd_zg_tot.png\n",
      "saved trends in /rds/general/project/nowack_graven/live/carl_som_index/data/UKESM1-0-LL_piControl/zg/SOM_train_UKESM1-0-LL_piControl_7x3_EUR_not1960-2060_JJA_extd_zg_tot.nc\n",
      "saved data_occ in /rds/general/project/nowack_graven/live/carl_som_index/data/UKESM1-0-LL_piControl/zg/SOM_data_occur_train_UKESM1-0-LL_piControl_7x3_EUR_not1960-2060_JJA_extd_zg_tot.nc\n",
      "test the trained SOM on /rds/general/project/carl_phd/live/carl/data/era5/day/zg/LTDM/z_timedtrnd_ERA5_1979-2019_EUR_JJAextd_LTDMdaymean_anom_r180x91.nc\n"
     ]
    },
    {
     "name": "stderr",
     "output_type": "stream",
     "text": [
      "/home/cmt3718/anaconda3/envs/odin/lib/python3.6/site-packages/matplotlib/pyplot.py:522: RuntimeWarning: More than 20 figures have been opened. Figures created through the pyplot interface (`matplotlib.pyplot.figure`) are retained until explicitly closed and may consume too much memory. (To control this warning, see the rcParam `figure.max_open_warning`).\n",
      "  max_open_warning, RuntimeWarning)\n"
     ]
    },
    {
     "name": "stdout",
     "output_type": "stream",
     "text": [
      "saving tested data in /rds/general/project/nowack_graven/live/carl_som_index/data/era5/z/SOM_tot_era5_reanal_7x3_EUR_1979-2019_JJA_extd_z_swapUKESM1-0-LL.nc \n",
      " /rds/general/project/nowack_graven/live/carl_som_index/data/era5/z/SOM_data_occur_tot_era5_reanal_7x3_EUR_1979-2019_JJA_extd_z_swapUKESM1-0-LL.nc\n",
      "n_rows, n_columns = 11, 2\n",
      "training\n"
     ]
    },
    {
     "name": "stderr",
     "output_type": "stream",
     "text": [
      "/home/cmt3718/anaconda3/envs/odin/lib/python3.6/site-packages/matplotlib/pyplot.py:522: RuntimeWarning: More than 20 figures have been opened. Figures created through the pyplot interface (`matplotlib.pyplot.figure`) are retained until explicitly closed and may consume too much memory. (To control this warning, see the rcParam `figure.max_open_warning`).\n",
      "  max_open_warning, RuntimeWarning)\n"
     ]
    },
    {
     "name": "stdout",
     "output_type": "stream",
     "text": [
      "save_SOM_str = /rds/general/project/nowack_graven/live/carl_som_index/data/UKESM1-0-LL_piControl/zg/plots/SOM_fig_UKESM1-0-LL_piControl_11x2_EUR_not1960-2060_JJA_extd_zg_tot.png\n",
      "saved trends in /rds/general/project/nowack_graven/live/carl_som_index/data/UKESM1-0-LL_piControl/zg/SOM_train_UKESM1-0-LL_piControl_11x2_EUR_not1960-2060_JJA_extd_zg_tot.nc\n",
      "saved data_occ in /rds/general/project/nowack_graven/live/carl_som_index/data/UKESM1-0-LL_piControl/zg/SOM_data_occur_train_UKESM1-0-LL_piControl_11x2_EUR_not1960-2060_JJA_extd_zg_tot.nc\n",
      "test the trained SOM on /rds/general/project/carl_phd/live/carl/data/era5/day/zg/LTDM/z_timedtrnd_ERA5_1979-2019_EUR_JJAextd_LTDMdaymean_anom_r180x91.nc\n"
     ]
    },
    {
     "name": "stderr",
     "output_type": "stream",
     "text": [
      "/home/cmt3718/anaconda3/envs/odin/lib/python3.6/site-packages/matplotlib/pyplot.py:522: RuntimeWarning: More than 20 figures have been opened. Figures created through the pyplot interface (`matplotlib.pyplot.figure`) are retained until explicitly closed and may consume too much memory. (To control this warning, see the rcParam `figure.max_open_warning`).\n",
      "  max_open_warning, RuntimeWarning)\n"
     ]
    },
    {
     "name": "stdout",
     "output_type": "stream",
     "text": [
      "saving tested data in /rds/general/project/nowack_graven/live/carl_som_index/data/era5/z/SOM_tot_era5_reanal_11x2_EUR_1979-2019_JJA_extd_z_swapUKESM1-0-LL.nc \n",
      " /rds/general/project/nowack_graven/live/carl_som_index/data/era5/z/SOM_data_occur_tot_era5_reanal_11x2_EUR_1979-2019_JJA_extd_z_swapUKESM1-0-LL.nc\n",
      "n_rows, n_columns = 23, 1\n",
      "training\n"
     ]
    },
    {
     "name": "stderr",
     "output_type": "stream",
     "text": [
      "/home/cmt3718/anaconda3/envs/odin/lib/python3.6/site-packages/somoclu/train.py:497: RuntimeWarning: invalid value encountered in true_divide\n",
      "  coord = coord / [self._n_rows - 1, self._n_columns - 1]\n",
      "/home/cmt3718/anaconda3/envs/odin/lib/python3.6/site-packages/matplotlib/pyplot.py:522: RuntimeWarning: More than 20 figures have been opened. Figures created through the pyplot interface (`matplotlib.pyplot.figure`) are retained until explicitly closed and may consume too much memory. (To control this warning, see the rcParam `figure.max_open_warning`).\n",
      "  max_open_warning, RuntimeWarning)\n"
     ]
    },
    {
     "name": "stdout",
     "output_type": "stream",
     "text": [
      "save_SOM_str = /rds/general/project/nowack_graven/live/carl_som_index/data/UKESM1-0-LL_piControl/zg/plots/SOM_fig_UKESM1-0-LL_piControl_23x1_EUR_not1960-2060_JJA_extd_zg_tot.png\n",
      "saved trends in /rds/general/project/nowack_graven/live/carl_som_index/data/UKESM1-0-LL_piControl/zg/SOM_train_UKESM1-0-LL_piControl_23x1_EUR_not1960-2060_JJA_extd_zg_tot.nc\n",
      "saved data_occ in /rds/general/project/nowack_graven/live/carl_som_index/data/UKESM1-0-LL_piControl/zg/SOM_data_occur_train_UKESM1-0-LL_piControl_23x1_EUR_not1960-2060_JJA_extd_zg_tot.nc\n",
      "test the trained SOM on /rds/general/project/carl_phd/live/carl/data/era5/day/zg/LTDM/z_timedtrnd_ERA5_1979-2019_EUR_JJAextd_LTDMdaymean_anom_r180x91.nc\n"
     ]
    },
    {
     "name": "stderr",
     "output_type": "stream",
     "text": [
      "/home/cmt3718/anaconda3/envs/odin/lib/python3.6/site-packages/matplotlib/pyplot.py:522: RuntimeWarning: More than 20 figures have been opened. Figures created through the pyplot interface (`matplotlib.pyplot.figure`) are retained until explicitly closed and may consume too much memory. (To control this warning, see the rcParam `figure.max_open_warning`).\n",
      "  max_open_warning, RuntimeWarning)\n"
     ]
    },
    {
     "name": "stdout",
     "output_type": "stream",
     "text": [
      "saving tested data in /rds/general/project/nowack_graven/live/carl_som_index/data/era5/z/SOM_tot_era5_reanal_23x1_EUR_1979-2019_JJA_extd_z_swapUKESM1-0-LL.nc \n",
      " /rds/general/project/nowack_graven/live/carl_som_index/data/era5/z/SOM_data_occur_tot_era5_reanal_23x1_EUR_1979-2019_JJA_extd_z_swapUKESM1-0-LL.nc\n",
      "n_rows, n_columns = 6, 4\n",
      "training\n"
     ]
    },
    {
     "name": "stderr",
     "output_type": "stream",
     "text": [
      "/home/cmt3718/anaconda3/envs/odin/lib/python3.6/site-packages/matplotlib/pyplot.py:522: RuntimeWarning: More than 20 figures have been opened. Figures created through the pyplot interface (`matplotlib.pyplot.figure`) are retained until explicitly closed and may consume too much memory. (To control this warning, see the rcParam `figure.max_open_warning`).\n",
      "  max_open_warning, RuntimeWarning)\n"
     ]
    },
    {
     "name": "stdout",
     "output_type": "stream",
     "text": [
      "save_SOM_str = /rds/general/project/nowack_graven/live/carl_som_index/data/UKESM1-0-LL_piControl/zg/plots/SOM_fig_UKESM1-0-LL_piControl_6x4_EUR_not1960-2060_JJA_extd_zg_tot.png\n",
      "saved trends in /rds/general/project/nowack_graven/live/carl_som_index/data/UKESM1-0-LL_piControl/zg/SOM_train_UKESM1-0-LL_piControl_6x4_EUR_not1960-2060_JJA_extd_zg_tot.nc\n"
     ]
    },
    {
     "ename": "PermissionError",
     "evalue": "[Errno 13] Permission denied: b'/rds/general/project/nowack_graven/live/carl_som_index/data/UKESM1-0-LL_piControl/zg/SOM_data_occur_train_UKESM1-0-LL_piControl_6x4_EUR_not1960-2060_JJA_extd_zg_tot.nc'",
     "output_type": "error",
     "traceback": [
      "\u001b[0;31m---------------------------------------------------------------------------\u001b[0m",
      "\u001b[0;31mKeyError\u001b[0m                                  Traceback (most recent call last)",
      "\u001b[0;32m/home/cmt3718/anaconda3/envs/odin/lib/python3.6/site-packages/xarray/backends/file_manager.py\u001b[0m in \u001b[0;36macquire\u001b[0;34m(self, needs_lock)\u001b[0m\n\u001b[1;32m    166\u001b[0m             \u001b[0;32mtry\u001b[0m\u001b[0;34m:\u001b[0m\u001b[0;34m\u001b[0m\u001b[0m\n\u001b[0;32m--> 167\u001b[0;31m                 \u001b[0mfile\u001b[0m \u001b[0;34m=\u001b[0m \u001b[0mself\u001b[0m\u001b[0;34m.\u001b[0m\u001b[0m_cache\u001b[0m\u001b[0;34m[\u001b[0m\u001b[0mself\u001b[0m\u001b[0;34m.\u001b[0m\u001b[0m_key\u001b[0m\u001b[0;34m]\u001b[0m\u001b[0;34m\u001b[0m\u001b[0m\n\u001b[0m\u001b[1;32m    168\u001b[0m             \u001b[0;32mexcept\u001b[0m \u001b[0mKeyError\u001b[0m\u001b[0;34m:\u001b[0m\u001b[0;34m\u001b[0m\u001b[0m\n",
      "\u001b[0;32m/home/cmt3718/anaconda3/envs/odin/lib/python3.6/site-packages/xarray/backends/lru_cache.py\u001b[0m in \u001b[0;36m__getitem__\u001b[0;34m(self, key)\u001b[0m\n\u001b[1;32m     41\u001b[0m         \u001b[0;32mwith\u001b[0m \u001b[0mself\u001b[0m\u001b[0;34m.\u001b[0m\u001b[0m_lock\u001b[0m\u001b[0;34m:\u001b[0m\u001b[0;34m\u001b[0m\u001b[0m\n\u001b[0;32m---> 42\u001b[0;31m             \u001b[0mvalue\u001b[0m \u001b[0;34m=\u001b[0m \u001b[0mself\u001b[0m\u001b[0;34m.\u001b[0m\u001b[0m_cache\u001b[0m\u001b[0;34m[\u001b[0m\u001b[0mkey\u001b[0m\u001b[0;34m]\u001b[0m\u001b[0;34m\u001b[0m\u001b[0m\n\u001b[0m\u001b[1;32m     43\u001b[0m             \u001b[0mself\u001b[0m\u001b[0;34m.\u001b[0m\u001b[0m_cache\u001b[0m\u001b[0;34m.\u001b[0m\u001b[0mmove_to_end\u001b[0m\u001b[0;34m(\u001b[0m\u001b[0mkey\u001b[0m\u001b[0;34m)\u001b[0m\u001b[0;34m\u001b[0m\u001b[0m\n",
      "\u001b[0;31mKeyError\u001b[0m: [<function _open_netcdf4_group at 0x147b65859510>, ('/rds/general/project/nowack_graven/live/carl_som_index/data/UKESM1-0-LL_piControl/zg/SOM_data_occur_train_UKESM1-0-LL_piControl_6x4_EUR_not1960-2060_JJA_extd_zg_tot.nc', CombinedLock([<SerializableLock: 7963e94e-d23b-40b2-8568-903830306c40>, <SerializableLock: bdaffe7f-6ec3-44dd-a201-f2b11c2928b6>, <unlocked _thread.lock object at 0x147b56fac1e8>])), 'a', (('clobber', True), ('diskless', False), ('format', 'NETCDF4'), ('group', None), ('persist', False))]",
      "\nDuring handling of the above exception, another exception occurred:\n",
      "\u001b[0;31mPermissionError\u001b[0m                           Traceback (most recent call last)",
      "\u001b[0;32m<ipython-input-11-f905c6e15fe6>\u001b[0m in \u001b[0;36m<module>\u001b[0;34m\u001b[0m\n\u001b[1;32m      6\u001b[0m \u001b[0;32mfor\u001b[0m \u001b[0mn_rows\u001b[0m\u001b[0;34m,\u001b[0m \u001b[0mn_cols\u001b[0m \u001b[0;32min\u001b[0m \u001b[0mrowcols_arr\u001b[0m\u001b[0;34m[\u001b[0m\u001b[0;36m1\u001b[0m\u001b[0;34m:\u001b[0m\u001b[0;34m]\u001b[0m\u001b[0;34m:\u001b[0m\u001b[0;34m\u001b[0m\u001b[0m\n\u001b[1;32m      7\u001b[0m         \u001b[0mprint\u001b[0m\u001b[0;34m(\u001b[0m\u001b[0;34mf\"n_rows, n_columns = {n_rows}, {n_cols}\"\u001b[0m\u001b[0;34m)\u001b[0m\u001b[0;34m\u001b[0m\u001b[0m\n\u001b[0;32m----> 8\u001b[0;31m         \u001b[0mtrain_test_maps\u001b[0m\u001b[0;34m(\u001b[0m\u001b[0mfile_zg_str_train\u001b[0m\u001b[0;34m,\u001b[0m \u001b[0mfile_zg_str_test\u001b[0m\u001b[0;34m,\u001b[0m \u001b[0mn_rows\u001b[0m\u001b[0;34m,\u001b[0m \u001b[0mn_cols\u001b[0m\u001b[0;34m)\u001b[0m\u001b[0;34m\u001b[0m\u001b[0m\n\u001b[0m",
      "\u001b[0;32m<ipython-input-8-25b395b08d5a>\u001b[0m in \u001b[0;36mtrain_test_maps\u001b[0;34m(file_zg_str_train, file_zg_str_test, n_rows, n_columns)\u001b[0m\n\u001b[1;32m    301\u001b[0m     \u001b[0mda\u001b[0m \u001b[0;34m=\u001b[0m \u001b[0mxarray\u001b[0m\u001b[0;34m.\u001b[0m\u001b[0mDataArray\u001b[0m\u001b[0;34m(\u001b[0m\u001b[0mall_occur_train\u001b[0m\u001b[0;34m,\u001b[0m \u001b[0mname\u001b[0m \u001b[0;34m=\u001b[0m \u001b[0;34m\"SOM_data\"\u001b[0m\u001b[0;34m,\u001b[0m \u001b[0mdims\u001b[0m \u001b[0;34m=\u001b[0m \u001b[0;34m(\u001b[0m\u001b[0;34m\"row\"\u001b[0m\u001b[0;34m,\u001b[0m \u001b[0;34m\"col\"\u001b[0m\u001b[0;34m,\u001b[0m \u001b[0;34m\"time\"\u001b[0m\u001b[0;34m)\u001b[0m\u001b[0;34m)\u001b[0m\u001b[0;34m\u001b[0m\u001b[0m\n\u001b[1;32m    302\u001b[0m     \u001b[0mda\u001b[0m\u001b[0;34m[\u001b[0m\u001b[0;34m'time'\u001b[0m\u001b[0;34m]\u001b[0m \u001b[0;34m=\u001b[0m \u001b[0mfile_zg_tot_train\u001b[0m\u001b[0;34m[\u001b[0m\u001b[0;34m'time'\u001b[0m\u001b[0;34m]\u001b[0m\u001b[0;34m\u001b[0m\u001b[0m\n\u001b[0;32m--> 303\u001b[0;31m     \u001b[0mda\u001b[0m\u001b[0;34m.\u001b[0m\u001b[0mto_netcdf\u001b[0m\u001b[0;34m(\u001b[0m\u001b[0mSOM_data_occ_str_train\u001b[0m\u001b[0;34m)\u001b[0m\u001b[0;34m\u001b[0m\u001b[0m\n\u001b[0m\u001b[1;32m    304\u001b[0m     \u001b[0mprint\u001b[0m\u001b[0;34m(\u001b[0m\u001b[0;34mf\"saved data_occ in {SOM_data_occ_str_train}\"\u001b[0m\u001b[0;34m)\u001b[0m\u001b[0;34m\u001b[0m\u001b[0m\n\u001b[1;32m    305\u001b[0m \u001b[0;31m#    da_xr_trend_train\u001b[0m\u001b[0;34m\u001b[0m\u001b[0;34m\u001b[0m\u001b[0m\n",
      "\u001b[0;32m/home/cmt3718/anaconda3/envs/odin/lib/python3.6/site-packages/xarray/core/dataarray.py\u001b[0m in \u001b[0;36mto_netcdf\u001b[0;34m(self, *args, **kwargs)\u001b[0m\n\u001b[1;32m   1789\u001b[0m             \u001b[0mdataset\u001b[0m \u001b[0;34m=\u001b[0m \u001b[0mself\u001b[0m\u001b[0;34m.\u001b[0m\u001b[0mto_dataset\u001b[0m\u001b[0;34m(\u001b[0m\u001b[0;34m)\u001b[0m\u001b[0;34m\u001b[0m\u001b[0m\n\u001b[1;32m   1790\u001b[0m \u001b[0;34m\u001b[0m\u001b[0m\n\u001b[0;32m-> 1791\u001b[0;31m         \u001b[0;32mreturn\u001b[0m \u001b[0mdataset\u001b[0m\u001b[0;34m.\u001b[0m\u001b[0mto_netcdf\u001b[0m\u001b[0;34m(\u001b[0m\u001b[0;34m*\u001b[0m\u001b[0margs\u001b[0m\u001b[0;34m,\u001b[0m \u001b[0;34m**\u001b[0m\u001b[0mkwargs\u001b[0m\u001b[0;34m)\u001b[0m\u001b[0;34m\u001b[0m\u001b[0m\n\u001b[0m\u001b[1;32m   1792\u001b[0m \u001b[0;34m\u001b[0m\u001b[0m\n\u001b[1;32m   1793\u001b[0m     \u001b[0;32mdef\u001b[0m \u001b[0mto_dict\u001b[0m\u001b[0;34m(\u001b[0m\u001b[0mself\u001b[0m\u001b[0;34m,\u001b[0m \u001b[0mdata\u001b[0m\u001b[0;34m=\u001b[0m\u001b[0;32mTrue\u001b[0m\u001b[0;34m)\u001b[0m\u001b[0;34m:\u001b[0m\u001b[0;34m\u001b[0m\u001b[0m\n",
      "\u001b[0;32m/home/cmt3718/anaconda3/envs/odin/lib/python3.6/site-packages/xarray/core/dataset.py\u001b[0m in \u001b[0;36mto_netcdf\u001b[0;34m(self, path, mode, format, group, engine, encoding, unlimited_dims, compute)\u001b[0m\n\u001b[1;32m   1321\u001b[0m                          \u001b[0mengine\u001b[0m\u001b[0;34m=\u001b[0m\u001b[0mengine\u001b[0m\u001b[0;34m,\u001b[0m \u001b[0mencoding\u001b[0m\u001b[0;34m=\u001b[0m\u001b[0mencoding\u001b[0m\u001b[0;34m,\u001b[0m\u001b[0;34m\u001b[0m\u001b[0m\n\u001b[1;32m   1322\u001b[0m                          \u001b[0munlimited_dims\u001b[0m\u001b[0;34m=\u001b[0m\u001b[0munlimited_dims\u001b[0m\u001b[0;34m,\u001b[0m\u001b[0;34m\u001b[0m\u001b[0m\n\u001b[0;32m-> 1323\u001b[0;31m                          compute=compute)\n\u001b[0m\u001b[1;32m   1324\u001b[0m \u001b[0;34m\u001b[0m\u001b[0m\n\u001b[1;32m   1325\u001b[0m     def to_zarr(self, store=None, mode='w-', synchronizer=None, group=None,\n",
      "\u001b[0;32m/home/cmt3718/anaconda3/envs/odin/lib/python3.6/site-packages/xarray/backends/api.py\u001b[0m in \u001b[0;36mto_netcdf\u001b[0;34m(dataset, path_or_file, mode, format, group, engine, encoding, unlimited_dims, compute, multifile)\u001b[0m\n\u001b[1;32m    791\u001b[0m     \u001b[0mtarget\u001b[0m \u001b[0;34m=\u001b[0m \u001b[0mpath_or_file\u001b[0m \u001b[0;32mif\u001b[0m \u001b[0mpath_or_file\u001b[0m \u001b[0;32mis\u001b[0m \u001b[0;32mnot\u001b[0m \u001b[0;32mNone\u001b[0m \u001b[0;32melse\u001b[0m \u001b[0mBytesIO\u001b[0m\u001b[0;34m(\u001b[0m\u001b[0;34m)\u001b[0m\u001b[0;34m\u001b[0m\u001b[0m\n\u001b[1;32m    792\u001b[0m     \u001b[0mkwargs\u001b[0m \u001b[0;34m=\u001b[0m \u001b[0mdict\u001b[0m\u001b[0;34m(\u001b[0m\u001b[0mautoclose\u001b[0m\u001b[0;34m=\u001b[0m\u001b[0;32mTrue\u001b[0m\u001b[0;34m)\u001b[0m \u001b[0;32mif\u001b[0m \u001b[0mautoclose\u001b[0m \u001b[0;32melse\u001b[0m \u001b[0;34m{\u001b[0m\u001b[0;34m}\u001b[0m\u001b[0;34m\u001b[0m\u001b[0m\n\u001b[0;32m--> 793\u001b[0;31m     \u001b[0mstore\u001b[0m \u001b[0;34m=\u001b[0m \u001b[0mstore_open\u001b[0m\u001b[0;34m(\u001b[0m\u001b[0mtarget\u001b[0m\u001b[0;34m,\u001b[0m \u001b[0mmode\u001b[0m\u001b[0;34m,\u001b[0m \u001b[0mformat\u001b[0m\u001b[0;34m,\u001b[0m \u001b[0mgroup\u001b[0m\u001b[0;34m,\u001b[0m \u001b[0;34m**\u001b[0m\u001b[0mkwargs\u001b[0m\u001b[0;34m)\u001b[0m\u001b[0;34m\u001b[0m\u001b[0m\n\u001b[0m\u001b[1;32m    794\u001b[0m \u001b[0;34m\u001b[0m\u001b[0m\n\u001b[1;32m    795\u001b[0m     \u001b[0;32mif\u001b[0m \u001b[0munlimited_dims\u001b[0m \u001b[0;32mis\u001b[0m \u001b[0;32mNone\u001b[0m\u001b[0;34m:\u001b[0m\u001b[0;34m\u001b[0m\u001b[0m\n",
      "\u001b[0;32m/home/cmt3718/anaconda3/envs/odin/lib/python3.6/site-packages/xarray/backends/netCDF4_.py\u001b[0m in \u001b[0;36mopen\u001b[0;34m(cls, filename, mode, format, group, clobber, diskless, persist, lock, lock_maker, autoclose)\u001b[0m\n\u001b[1;32m    350\u001b[0m             kwargs=dict(group=group, clobber=clobber, diskless=diskless,\n\u001b[1;32m    351\u001b[0m                         persist=persist, format=format))\n\u001b[0;32m--> 352\u001b[0;31m         \u001b[0;32mreturn\u001b[0m \u001b[0mcls\u001b[0m\u001b[0;34m(\u001b[0m\u001b[0mmanager\u001b[0m\u001b[0;34m,\u001b[0m \u001b[0mlock\u001b[0m\u001b[0;34m=\u001b[0m\u001b[0mlock\u001b[0m\u001b[0;34m,\u001b[0m \u001b[0mautoclose\u001b[0m\u001b[0;34m=\u001b[0m\u001b[0mautoclose\u001b[0m\u001b[0;34m)\u001b[0m\u001b[0;34m\u001b[0m\u001b[0m\n\u001b[0m\u001b[1;32m    353\u001b[0m \u001b[0;34m\u001b[0m\u001b[0m\n\u001b[1;32m    354\u001b[0m     \u001b[0;34m@\u001b[0m\u001b[0mproperty\u001b[0m\u001b[0;34m\u001b[0m\u001b[0m\n",
      "\u001b[0;32m/home/cmt3718/anaconda3/envs/odin/lib/python3.6/site-packages/xarray/backends/netCDF4_.py\u001b[0m in \u001b[0;36m__init__\u001b[0;34m(self, manager, lock, autoclose)\u001b[0m\n\u001b[1;32m    309\u001b[0m \u001b[0;34m\u001b[0m\u001b[0m\n\u001b[1;32m    310\u001b[0m         \u001b[0mself\u001b[0m\u001b[0;34m.\u001b[0m\u001b[0m_manager\u001b[0m \u001b[0;34m=\u001b[0m \u001b[0mmanager\u001b[0m\u001b[0;34m\u001b[0m\u001b[0m\n\u001b[0;32m--> 311\u001b[0;31m         \u001b[0mself\u001b[0m\u001b[0;34m.\u001b[0m\u001b[0mformat\u001b[0m \u001b[0;34m=\u001b[0m \u001b[0mself\u001b[0m\u001b[0;34m.\u001b[0m\u001b[0mds\u001b[0m\u001b[0;34m.\u001b[0m\u001b[0mdata_model\u001b[0m\u001b[0;34m\u001b[0m\u001b[0m\n\u001b[0m\u001b[1;32m    312\u001b[0m         \u001b[0mself\u001b[0m\u001b[0;34m.\u001b[0m\u001b[0m_filename\u001b[0m \u001b[0;34m=\u001b[0m \u001b[0mself\u001b[0m\u001b[0;34m.\u001b[0m\u001b[0mds\u001b[0m\u001b[0;34m.\u001b[0m\u001b[0mfilepath\u001b[0m\u001b[0;34m(\u001b[0m\u001b[0;34m)\u001b[0m\u001b[0;34m\u001b[0m\u001b[0m\n\u001b[1;32m    313\u001b[0m         \u001b[0mself\u001b[0m\u001b[0;34m.\u001b[0m\u001b[0mis_remote\u001b[0m \u001b[0;34m=\u001b[0m \u001b[0mis_remote_uri\u001b[0m\u001b[0;34m(\u001b[0m\u001b[0mself\u001b[0m\u001b[0;34m.\u001b[0m\u001b[0m_filename\u001b[0m\u001b[0;34m)\u001b[0m\u001b[0;34m\u001b[0m\u001b[0m\n",
      "\u001b[0;32m/home/cmt3718/anaconda3/envs/odin/lib/python3.6/site-packages/xarray/backends/netCDF4_.py\u001b[0m in \u001b[0;36mds\u001b[0;34m(self)\u001b[0m\n\u001b[1;32m    354\u001b[0m     \u001b[0;34m@\u001b[0m\u001b[0mproperty\u001b[0m\u001b[0;34m\u001b[0m\u001b[0m\n\u001b[1;32m    355\u001b[0m     \u001b[0;32mdef\u001b[0m \u001b[0mds\u001b[0m\u001b[0;34m(\u001b[0m\u001b[0mself\u001b[0m\u001b[0;34m)\u001b[0m\u001b[0;34m:\u001b[0m\u001b[0;34m\u001b[0m\u001b[0m\n\u001b[0;32m--> 356\u001b[0;31m         \u001b[0;32mreturn\u001b[0m \u001b[0mself\u001b[0m\u001b[0;34m.\u001b[0m\u001b[0m_manager\u001b[0m\u001b[0;34m.\u001b[0m\u001b[0macquire\u001b[0m\u001b[0;34m(\u001b[0m\u001b[0;34m)\u001b[0m\u001b[0;34m.\u001b[0m\u001b[0mvalue\u001b[0m\u001b[0;34m\u001b[0m\u001b[0m\n\u001b[0m\u001b[1;32m    357\u001b[0m \u001b[0;34m\u001b[0m\u001b[0m\n\u001b[1;32m    358\u001b[0m     \u001b[0;32mdef\u001b[0m \u001b[0mopen_store_variable\u001b[0m\u001b[0;34m(\u001b[0m\u001b[0mself\u001b[0m\u001b[0;34m,\u001b[0m \u001b[0mname\u001b[0m\u001b[0;34m,\u001b[0m \u001b[0mvar\u001b[0m\u001b[0;34m)\u001b[0m\u001b[0;34m:\u001b[0m\u001b[0;34m\u001b[0m\u001b[0m\n",
      "\u001b[0;32m/home/cmt3718/anaconda3/envs/odin/lib/python3.6/site-packages/xarray/backends/file_manager.py\u001b[0m in \u001b[0;36macquire\u001b[0;34m(self, needs_lock)\u001b[0m\n\u001b[1;32m    171\u001b[0m                     \u001b[0mkwargs\u001b[0m \u001b[0;34m=\u001b[0m \u001b[0mkwargs\u001b[0m\u001b[0;34m.\u001b[0m\u001b[0mcopy\u001b[0m\u001b[0;34m(\u001b[0m\u001b[0;34m)\u001b[0m\u001b[0;34m\u001b[0m\u001b[0m\n\u001b[1;32m    172\u001b[0m                     \u001b[0mkwargs\u001b[0m\u001b[0;34m[\u001b[0m\u001b[0;34m'mode'\u001b[0m\u001b[0;34m]\u001b[0m \u001b[0;34m=\u001b[0m \u001b[0mself\u001b[0m\u001b[0;34m.\u001b[0m\u001b[0m_mode\u001b[0m\u001b[0;34m\u001b[0m\u001b[0m\n\u001b[0;32m--> 173\u001b[0;31m                 \u001b[0mfile\u001b[0m \u001b[0;34m=\u001b[0m \u001b[0mself\u001b[0m\u001b[0;34m.\u001b[0m\u001b[0m_opener\u001b[0m\u001b[0;34m(\u001b[0m\u001b[0;34m*\u001b[0m\u001b[0mself\u001b[0m\u001b[0;34m.\u001b[0m\u001b[0m_args\u001b[0m\u001b[0;34m,\u001b[0m \u001b[0;34m**\u001b[0m\u001b[0mkwargs\u001b[0m\u001b[0;34m)\u001b[0m\u001b[0;34m\u001b[0m\u001b[0m\n\u001b[0m\u001b[1;32m    174\u001b[0m                 \u001b[0;32mif\u001b[0m \u001b[0mself\u001b[0m\u001b[0;34m.\u001b[0m\u001b[0m_mode\u001b[0m \u001b[0;34m==\u001b[0m \u001b[0;34m'w'\u001b[0m\u001b[0;34m:\u001b[0m\u001b[0;34m\u001b[0m\u001b[0m\n\u001b[1;32m    175\u001b[0m                     \u001b[0;31m# ensure file doesn't get overriden when opened again\u001b[0m\u001b[0;34m\u001b[0m\u001b[0;34m\u001b[0m\u001b[0m\n",
      "\u001b[0;32m/home/cmt3718/anaconda3/envs/odin/lib/python3.6/site-packages/xarray/backends/netCDF4_.py\u001b[0m in \u001b[0;36m_open_netcdf4_group\u001b[0;34m(filename, lock, mode, group, **kwargs)\u001b[0m\n\u001b[1;32m    242\u001b[0m     \u001b[0;32mimport\u001b[0m \u001b[0mnetCDF4\u001b[0m \u001b[0;32mas\u001b[0m \u001b[0mnc4\u001b[0m\u001b[0;34m\u001b[0m\u001b[0m\n\u001b[1;32m    243\u001b[0m \u001b[0;34m\u001b[0m\u001b[0m\n\u001b[0;32m--> 244\u001b[0;31m     \u001b[0mds\u001b[0m \u001b[0;34m=\u001b[0m \u001b[0mnc4\u001b[0m\u001b[0;34m.\u001b[0m\u001b[0mDataset\u001b[0m\u001b[0;34m(\u001b[0m\u001b[0mfilename\u001b[0m\u001b[0;34m,\u001b[0m \u001b[0mmode\u001b[0m\u001b[0;34m=\u001b[0m\u001b[0mmode\u001b[0m\u001b[0;34m,\u001b[0m \u001b[0;34m**\u001b[0m\u001b[0mkwargs\u001b[0m\u001b[0;34m)\u001b[0m\u001b[0;34m\u001b[0m\u001b[0m\n\u001b[0m\u001b[1;32m    245\u001b[0m \u001b[0;34m\u001b[0m\u001b[0m\n\u001b[1;32m    246\u001b[0m     \u001b[0;32mwith\u001b[0m \u001b[0mclose_on_error\u001b[0m\u001b[0;34m(\u001b[0m\u001b[0mds\u001b[0m\u001b[0;34m)\u001b[0m\u001b[0;34m:\u001b[0m\u001b[0;34m\u001b[0m\u001b[0m\n",
      "\u001b[0;32mnetCDF4/_netCDF4.pyx\u001b[0m in \u001b[0;36mnetCDF4._netCDF4.Dataset.__init__\u001b[0;34m()\u001b[0m\n",
      "\u001b[0;32mnetCDF4/_netCDF4.pyx\u001b[0m in \u001b[0;36mnetCDF4._netCDF4._ensure_nc_success\u001b[0;34m()\u001b[0m\n",
      "\u001b[0;31mPermissionError\u001b[0m: [Errno 13] Permission denied: b'/rds/general/project/nowack_graven/live/carl_som_index/data/UKESM1-0-LL_piControl/zg/SOM_data_occur_train_UKESM1-0-LL_piControl_6x4_EUR_not1960-2060_JJA_extd_zg_tot.nc'"
     ]
    }
   ],
   "source": [
    "\n",
    "\n",
    "rowcols_arr = [(2, 2), (5, 1), (3, 2), (7, 1), (4, 2), (3, 3), (5, 2), (11, 1), (4, 3), (13, 1), (7, 2), (5, 3), (4, 4), (17, 1), (6, 3),\n",
    " (19, 1), (5, 4), (7, 3), (11, 2), (23, 1), (6, 4), (5, 5), (13, 2), (9, 3), (7, 4), (29, 1), (6, 5), (31, 1), (8, 4), (33, 1), (17, 2),\n",
    "               (7, 5), (6, 6), (37, 1), (19, 2), (39, 1), (8, 5), (41, 1)]\n",
    "\n",
    "\n",
    "for n_rows, n_cols in rowcols_arr[1:]:\n",
    "        print(f\"n_rows, n_columns = {n_rows}, {n_cols}\")\n",
    "        train_test_maps(file_zg_str_train, file_zg_str_test, n_rows, n_cols)"
   ]
  },
  {
   "cell_type": "code",
   "execution_count": null,
   "metadata": {},
   "outputs": [],
   "source": []
  }
 ],
 "metadata": {
  "kernelspec": {
   "display_name": "Python [conda env:odin]",
   "language": "python",
   "name": "conda-env-odin-py"
  },
  "language_info": {
   "codemirror_mode": {
    "name": "ipython",
    "version": 3
   },
   "file_extension": ".py",
   "mimetype": "text/x-python",
   "name": "python",
   "nbconvert_exporter": "python",
   "pygments_lexer": "ipython3",
   "version": "3.6.5"
  }
 },
 "nbformat": 4,
 "nbformat_minor": 2
}
